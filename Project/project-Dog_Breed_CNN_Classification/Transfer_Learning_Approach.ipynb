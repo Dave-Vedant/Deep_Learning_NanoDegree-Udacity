{
  "nbformat": 4,
  "nbformat_minor": 0,
  "metadata": {
    "kernelspec": {
      "display_name": "Python [conda env:root] *",
      "language": "python",
      "name": "conda-root-py"
    },
    "language_info": {
      "codemirror_mode": {
        "name": "ipython",
        "version": 3
      },
      "file_extension": ".py",
      "mimetype": "text/x-python",
      "name": "python",
      "nbconvert_exporter": "python",
      "pygments_lexer": "ipython3",
      "version": "3.7.7"
    },
    "colab": {
      "name": "Dog_Classification_Project[Transfer_Learning].ipynb",
      "provenance": [],
      "collapsed_sections": [],
      "include_colab_link": true
    },
    "accelerator": "GPU",
    "widgets": {
      "application/vnd.jupyter.widget-state+json": {
        "7db6202826724bdfbc5f325fdc10b7c2": {
          "model_module": "@jupyter-widgets/controls",
          "model_name": "HBoxModel",
          "state": {
            "_view_name": "HBoxView",
            "_dom_classes": [],
            "_model_name": "HBoxModel",
            "_view_module": "@jupyter-widgets/controls",
            "_model_module_version": "1.5.0",
            "_view_count": null,
            "_view_module_version": "1.5.0",
            "box_style": "",
            "layout": "IPY_MODEL_d64d620e5bda46f983d06af75b023d03",
            "_model_module": "@jupyter-widgets/controls",
            "children": [
              "IPY_MODEL_c1ea6bff87e341b4ae83741813951c68",
              "IPY_MODEL_2dcc5a807ed84a63ba270632be384d3f"
            ]
          }
        },
        "d64d620e5bda46f983d06af75b023d03": {
          "model_module": "@jupyter-widgets/base",
          "model_name": "LayoutModel",
          "state": {
            "_view_name": "LayoutView",
            "grid_template_rows": null,
            "right": null,
            "justify_content": null,
            "_view_module": "@jupyter-widgets/base",
            "overflow": null,
            "_model_module_version": "1.2.0",
            "_view_count": null,
            "flex_flow": null,
            "width": null,
            "min_width": null,
            "border": null,
            "align_items": null,
            "bottom": null,
            "_model_module": "@jupyter-widgets/base",
            "top": null,
            "grid_column": null,
            "overflow_y": null,
            "overflow_x": null,
            "grid_auto_flow": null,
            "grid_area": null,
            "grid_template_columns": null,
            "flex": null,
            "_model_name": "LayoutModel",
            "justify_items": null,
            "grid_row": null,
            "max_height": null,
            "align_content": null,
            "visibility": null,
            "align_self": null,
            "height": null,
            "min_height": null,
            "padding": null,
            "grid_auto_rows": null,
            "grid_gap": null,
            "max_width": null,
            "order": null,
            "_view_module_version": "1.2.0",
            "grid_template_areas": null,
            "object_position": null,
            "object_fit": null,
            "grid_auto_columns": null,
            "margin": null,
            "display": null,
            "left": null
          }
        },
        "c1ea6bff87e341b4ae83741813951c68": {
          "model_module": "@jupyter-widgets/controls",
          "model_name": "FloatProgressModel",
          "state": {
            "_view_name": "ProgressView",
            "style": "IPY_MODEL_e9cd154bd8ce4debb84ad7678df5fd23",
            "_dom_classes": [],
            "description": "100%",
            "_model_name": "FloatProgressModel",
            "bar_style": "success",
            "max": 5017600,
            "_view_module": "@jupyter-widgets/controls",
            "_model_module_version": "1.5.0",
            "value": 5017600,
            "_view_count": null,
            "_view_module_version": "1.5.0",
            "orientation": "horizontal",
            "min": 0,
            "description_tooltip": null,
            "_model_module": "@jupyter-widgets/controls",
            "layout": "IPY_MODEL_2b799b391b1c43d98eb5df95a8457c29"
          }
        },
        "2dcc5a807ed84a63ba270632be384d3f": {
          "model_module": "@jupyter-widgets/controls",
          "model_name": "HTMLModel",
          "state": {
            "_view_name": "HTMLView",
            "style": "IPY_MODEL_b8dc4fe05282470b9405a82553a79c3f",
            "_dom_classes": [],
            "description": "",
            "_model_name": "HTMLModel",
            "placeholder": "​",
            "_view_module": "@jupyter-widgets/controls",
            "_model_module_version": "1.5.0",
            "value": " 4.79M/4.79M [00:00&lt;00:00, 19.0MB/s]",
            "_view_count": null,
            "_view_module_version": "1.5.0",
            "description_tooltip": null,
            "_model_module": "@jupyter-widgets/controls",
            "layout": "IPY_MODEL_102e8626adb74630a845bba8a4a74150"
          }
        },
        "e9cd154bd8ce4debb84ad7678df5fd23": {
          "model_module": "@jupyter-widgets/controls",
          "model_name": "ProgressStyleModel",
          "state": {
            "_view_name": "StyleView",
            "_model_name": "ProgressStyleModel",
            "description_width": "initial",
            "_view_module": "@jupyter-widgets/base",
            "_model_module_version": "1.5.0",
            "_view_count": null,
            "_view_module_version": "1.2.0",
            "bar_color": null,
            "_model_module": "@jupyter-widgets/controls"
          }
        },
        "2b799b391b1c43d98eb5df95a8457c29": {
          "model_module": "@jupyter-widgets/base",
          "model_name": "LayoutModel",
          "state": {
            "_view_name": "LayoutView",
            "grid_template_rows": null,
            "right": null,
            "justify_content": null,
            "_view_module": "@jupyter-widgets/base",
            "overflow": null,
            "_model_module_version": "1.2.0",
            "_view_count": null,
            "flex_flow": null,
            "width": null,
            "min_width": null,
            "border": null,
            "align_items": null,
            "bottom": null,
            "_model_module": "@jupyter-widgets/base",
            "top": null,
            "grid_column": null,
            "overflow_y": null,
            "overflow_x": null,
            "grid_auto_flow": null,
            "grid_area": null,
            "grid_template_columns": null,
            "flex": null,
            "_model_name": "LayoutModel",
            "justify_items": null,
            "grid_row": null,
            "max_height": null,
            "align_content": null,
            "visibility": null,
            "align_self": null,
            "height": null,
            "min_height": null,
            "padding": null,
            "grid_auto_rows": null,
            "grid_gap": null,
            "max_width": null,
            "order": null,
            "_view_module_version": "1.2.0",
            "grid_template_areas": null,
            "object_position": null,
            "object_fit": null,
            "grid_auto_columns": null,
            "margin": null,
            "display": null,
            "left": null
          }
        },
        "b8dc4fe05282470b9405a82553a79c3f": {
          "model_module": "@jupyter-widgets/controls",
          "model_name": "DescriptionStyleModel",
          "state": {
            "_view_name": "StyleView",
            "_model_name": "DescriptionStyleModel",
            "description_width": "",
            "_view_module": "@jupyter-widgets/base",
            "_model_module_version": "1.5.0",
            "_view_count": null,
            "_view_module_version": "1.2.0",
            "_model_module": "@jupyter-widgets/controls"
          }
        },
        "102e8626adb74630a845bba8a4a74150": {
          "model_module": "@jupyter-widgets/base",
          "model_name": "LayoutModel",
          "state": {
            "_view_name": "LayoutView",
            "grid_template_rows": null,
            "right": null,
            "justify_content": null,
            "_view_module": "@jupyter-widgets/base",
            "overflow": null,
            "_model_module_version": "1.2.0",
            "_view_count": null,
            "flex_flow": null,
            "width": null,
            "min_width": null,
            "border": null,
            "align_items": null,
            "bottom": null,
            "_model_module": "@jupyter-widgets/base",
            "top": null,
            "grid_column": null,
            "overflow_y": null,
            "overflow_x": null,
            "grid_auto_flow": null,
            "grid_area": null,
            "grid_template_columns": null,
            "flex": null,
            "_model_name": "LayoutModel",
            "justify_items": null,
            "grid_row": null,
            "max_height": null,
            "align_content": null,
            "visibility": null,
            "align_self": null,
            "height": null,
            "min_height": null,
            "padding": null,
            "grid_auto_rows": null,
            "grid_gap": null,
            "max_width": null,
            "order": null,
            "_view_module_version": "1.2.0",
            "grid_template_areas": null,
            "object_position": null,
            "object_fit": null,
            "grid_auto_columns": null,
            "margin": null,
            "display": null,
            "left": null
          }
        },
        "c150e82a5367486a88c0f6bd24a364a0": {
          "model_module": "@jupyter-widgets/controls",
          "model_name": "HBoxModel",
          "state": {
            "_view_name": "HBoxView",
            "_dom_classes": [],
            "_model_name": "HBoxModel",
            "_view_module": "@jupyter-widgets/controls",
            "_model_module_version": "1.5.0",
            "_view_count": null,
            "_view_module_version": "1.5.0",
            "box_style": "",
            "layout": "IPY_MODEL_341be6cd956741338c585caa90a93122",
            "_model_module": "@jupyter-widgets/controls",
            "children": [
              "IPY_MODEL_51b258e2f0b045d788a23afe499b2b87",
              "IPY_MODEL_2f8af97992064e68b7d9bfb3e1588396"
            ]
          }
        },
        "341be6cd956741338c585caa90a93122": {
          "model_module": "@jupyter-widgets/base",
          "model_name": "LayoutModel",
          "state": {
            "_view_name": "LayoutView",
            "grid_template_rows": null,
            "right": null,
            "justify_content": null,
            "_view_module": "@jupyter-widgets/base",
            "overflow": null,
            "_model_module_version": "1.2.0",
            "_view_count": null,
            "flex_flow": null,
            "width": null,
            "min_width": null,
            "border": null,
            "align_items": null,
            "bottom": null,
            "_model_module": "@jupyter-widgets/base",
            "top": null,
            "grid_column": null,
            "overflow_y": null,
            "overflow_x": null,
            "grid_auto_flow": null,
            "grid_area": null,
            "grid_template_columns": null,
            "flex": null,
            "_model_name": "LayoutModel",
            "justify_items": null,
            "grid_row": null,
            "max_height": null,
            "align_content": null,
            "visibility": null,
            "align_self": null,
            "height": null,
            "min_height": null,
            "padding": null,
            "grid_auto_rows": null,
            "grid_gap": null,
            "max_width": null,
            "order": null,
            "_view_module_version": "1.2.0",
            "grid_template_areas": null,
            "object_position": null,
            "object_fit": null,
            "grid_auto_columns": null,
            "margin": null,
            "display": null,
            "left": null
          }
        },
        "51b258e2f0b045d788a23afe499b2b87": {
          "model_module": "@jupyter-widgets/controls",
          "model_name": "FloatProgressModel",
          "state": {
            "_view_name": "ProgressView",
            "style": "IPY_MODEL_be53e92843e647ffb704effba60e0a7f",
            "_dom_classes": [],
            "description": "100%",
            "_model_name": "FloatProgressModel",
            "bar_style": "success",
            "max": 115730790,
            "_view_module": "@jupyter-widgets/controls",
            "_model_module_version": "1.5.0",
            "value": 115730790,
            "_view_count": null,
            "_view_module_version": "1.5.0",
            "orientation": "horizontal",
            "min": 0,
            "description_tooltip": null,
            "_model_module": "@jupyter-widgets/controls",
            "layout": "IPY_MODEL_ed874c72a51c49bb85538d8235026aec"
          }
        },
        "2f8af97992064e68b7d9bfb3e1588396": {
          "model_module": "@jupyter-widgets/controls",
          "model_name": "HTMLModel",
          "state": {
            "_view_name": "HTMLView",
            "style": "IPY_MODEL_12b4fa4ec1c3403da4b4f4b84ae30e8f",
            "_dom_classes": [],
            "description": "",
            "_model_name": "HTMLModel",
            "placeholder": "​",
            "_view_module": "@jupyter-widgets/controls",
            "_model_module_version": "1.5.0",
            "value": " 110M/110M [00:01&lt;00:00, 82.4MB/s]",
            "_view_count": null,
            "_view_module_version": "1.5.0",
            "description_tooltip": null,
            "_model_module": "@jupyter-widgets/controls",
            "layout": "IPY_MODEL_d6736718d5de41c6b9fd570eeed06cd0"
          }
        },
        "be53e92843e647ffb704effba60e0a7f": {
          "model_module": "@jupyter-widgets/controls",
          "model_name": "ProgressStyleModel",
          "state": {
            "_view_name": "StyleView",
            "_model_name": "ProgressStyleModel",
            "description_width": "initial",
            "_view_module": "@jupyter-widgets/base",
            "_model_module_version": "1.5.0",
            "_view_count": null,
            "_view_module_version": "1.2.0",
            "bar_color": null,
            "_model_module": "@jupyter-widgets/controls"
          }
        },
        "ed874c72a51c49bb85538d8235026aec": {
          "model_module": "@jupyter-widgets/base",
          "model_name": "LayoutModel",
          "state": {
            "_view_name": "LayoutView",
            "grid_template_rows": null,
            "right": null,
            "justify_content": null,
            "_view_module": "@jupyter-widgets/base",
            "overflow": null,
            "_model_module_version": "1.2.0",
            "_view_count": null,
            "flex_flow": null,
            "width": null,
            "min_width": null,
            "border": null,
            "align_items": null,
            "bottom": null,
            "_model_module": "@jupyter-widgets/base",
            "top": null,
            "grid_column": null,
            "overflow_y": null,
            "overflow_x": null,
            "grid_auto_flow": null,
            "grid_area": null,
            "grid_template_columns": null,
            "flex": null,
            "_model_name": "LayoutModel",
            "justify_items": null,
            "grid_row": null,
            "max_height": null,
            "align_content": null,
            "visibility": null,
            "align_self": null,
            "height": null,
            "min_height": null,
            "padding": null,
            "grid_auto_rows": null,
            "grid_gap": null,
            "max_width": null,
            "order": null,
            "_view_module_version": "1.2.0",
            "grid_template_areas": null,
            "object_position": null,
            "object_fit": null,
            "grid_auto_columns": null,
            "margin": null,
            "display": null,
            "left": null
          }
        },
        "12b4fa4ec1c3403da4b4f4b84ae30e8f": {
          "model_module": "@jupyter-widgets/controls",
          "model_name": "DescriptionStyleModel",
          "state": {
            "_view_name": "StyleView",
            "_model_name": "DescriptionStyleModel",
            "description_width": "",
            "_view_module": "@jupyter-widgets/base",
            "_model_module_version": "1.5.0",
            "_view_count": null,
            "_view_module_version": "1.2.0",
            "_model_module": "@jupyter-widgets/controls"
          }
        },
        "d6736718d5de41c6b9fd570eeed06cd0": {
          "model_module": "@jupyter-widgets/base",
          "model_name": "LayoutModel",
          "state": {
            "_view_name": "LayoutView",
            "grid_template_rows": null,
            "right": null,
            "justify_content": null,
            "_view_module": "@jupyter-widgets/base",
            "overflow": null,
            "_model_module_version": "1.2.0",
            "_view_count": null,
            "flex_flow": null,
            "width": null,
            "min_width": null,
            "border": null,
            "align_items": null,
            "bottom": null,
            "_model_module": "@jupyter-widgets/base",
            "top": null,
            "grid_column": null,
            "overflow_y": null,
            "overflow_x": null,
            "grid_auto_flow": null,
            "grid_area": null,
            "grid_template_columns": null,
            "flex": null,
            "_model_name": "LayoutModel",
            "justify_items": null,
            "grid_row": null,
            "max_height": null,
            "align_content": null,
            "visibility": null,
            "align_self": null,
            "height": null,
            "min_height": null,
            "padding": null,
            "grid_auto_rows": null,
            "grid_gap": null,
            "max_width": null,
            "order": null,
            "_view_module_version": "1.2.0",
            "grid_template_areas": null,
            "object_position": null,
            "object_fit": null,
            "grid_auto_columns": null,
            "margin": null,
            "display": null,
            "left": null
          }
        },
        "1a7bc32da8f1448794f9539e05536546": {
          "model_module": "@jupyter-widgets/controls",
          "model_name": "HBoxModel",
          "state": {
            "_view_name": "HBoxView",
            "_dom_classes": [],
            "_model_name": "HBoxModel",
            "_view_module": "@jupyter-widgets/controls",
            "_model_module_version": "1.5.0",
            "_view_count": null,
            "_view_module_version": "1.5.0",
            "box_style": "",
            "layout": "IPY_MODEL_f43916539a334c1cac2efb9f6fd2cb83",
            "_model_module": "@jupyter-widgets/controls",
            "children": [
              "IPY_MODEL_e6825a2732d7460fac9f973b15ae2811",
              "IPY_MODEL_b883bf0816ee4d439f83a6f33fc3462a"
            ]
          }
        },
        "f43916539a334c1cac2efb9f6fd2cb83": {
          "model_module": "@jupyter-widgets/base",
          "model_name": "LayoutModel",
          "state": {
            "_view_name": "LayoutView",
            "grid_template_rows": null,
            "right": null,
            "justify_content": null,
            "_view_module": "@jupyter-widgets/base",
            "overflow": null,
            "_model_module_version": "1.2.0",
            "_view_count": null,
            "flex_flow": null,
            "width": null,
            "min_width": null,
            "border": null,
            "align_items": null,
            "bottom": null,
            "_model_module": "@jupyter-widgets/base",
            "top": null,
            "grid_column": null,
            "overflow_y": null,
            "overflow_x": null,
            "grid_auto_flow": null,
            "grid_area": null,
            "grid_template_columns": null,
            "flex": null,
            "_model_name": "LayoutModel",
            "justify_items": null,
            "grid_row": null,
            "max_height": null,
            "align_content": null,
            "visibility": null,
            "align_self": null,
            "height": null,
            "min_height": null,
            "padding": null,
            "grid_auto_rows": null,
            "grid_gap": null,
            "max_width": null,
            "order": null,
            "_view_module_version": "1.2.0",
            "grid_template_areas": null,
            "object_position": null,
            "object_fit": null,
            "grid_auto_columns": null,
            "margin": null,
            "display": null,
            "left": null
          }
        },
        "e6825a2732d7460fac9f973b15ae2811": {
          "model_module": "@jupyter-widgets/controls",
          "model_name": "FloatProgressModel",
          "state": {
            "_view_name": "ProgressView",
            "style": "IPY_MODEL_1cfe2cadd5554861b8ead80a5f83fb2c",
            "_dom_classes": [],
            "description": "100%",
            "_model_name": "FloatProgressModel",
            "bar_style": "success",
            "max": 52147035,
            "_view_module": "@jupyter-widgets/controls",
            "_model_module_version": "1.5.0",
            "value": 52147035,
            "_view_count": null,
            "_view_module_version": "1.5.0",
            "orientation": "horizontal",
            "min": 0,
            "description_tooltip": null,
            "_model_module": "@jupyter-widgets/controls",
            "layout": "IPY_MODEL_ca8b41743be84a86b2b9e440110efbe5"
          }
        },
        "b883bf0816ee4d439f83a6f33fc3462a": {
          "model_module": "@jupyter-widgets/controls",
          "model_name": "HTMLModel",
          "state": {
            "_view_name": "HTMLView",
            "style": "IPY_MODEL_581ba43f7a1543c9a9071349e370a4e0",
            "_dom_classes": [],
            "description": "",
            "_model_name": "HTMLModel",
            "placeholder": "​",
            "_view_module": "@jupyter-widgets/controls",
            "_model_module_version": "1.5.0",
            "value": " 49.7M/49.7M [00:00&lt;00:00, 82.2MB/s]",
            "_view_count": null,
            "_view_module_version": "1.5.0",
            "description_tooltip": null,
            "_model_module": "@jupyter-widgets/controls",
            "layout": "IPY_MODEL_020bd3eee4fe4acb8ebf8262aaa13e93"
          }
        },
        "1cfe2cadd5554861b8ead80a5f83fb2c": {
          "model_module": "@jupyter-widgets/controls",
          "model_name": "ProgressStyleModel",
          "state": {
            "_view_name": "StyleView",
            "_model_name": "ProgressStyleModel",
            "description_width": "initial",
            "_view_module": "@jupyter-widgets/base",
            "_model_module_version": "1.5.0",
            "_view_count": null,
            "_view_module_version": "1.2.0",
            "bar_color": null,
            "_model_module": "@jupyter-widgets/controls"
          }
        },
        "ca8b41743be84a86b2b9e440110efbe5": {
          "model_module": "@jupyter-widgets/base",
          "model_name": "LayoutModel",
          "state": {
            "_view_name": "LayoutView",
            "grid_template_rows": null,
            "right": null,
            "justify_content": null,
            "_view_module": "@jupyter-widgets/base",
            "overflow": null,
            "_model_module_version": "1.2.0",
            "_view_count": null,
            "flex_flow": null,
            "width": null,
            "min_width": null,
            "border": null,
            "align_items": null,
            "bottom": null,
            "_model_module": "@jupyter-widgets/base",
            "top": null,
            "grid_column": null,
            "overflow_y": null,
            "overflow_x": null,
            "grid_auto_flow": null,
            "grid_area": null,
            "grid_template_columns": null,
            "flex": null,
            "_model_name": "LayoutModel",
            "justify_items": null,
            "grid_row": null,
            "max_height": null,
            "align_content": null,
            "visibility": null,
            "align_self": null,
            "height": null,
            "min_height": null,
            "padding": null,
            "grid_auto_rows": null,
            "grid_gap": null,
            "max_width": null,
            "order": null,
            "_view_module_version": "1.2.0",
            "grid_template_areas": null,
            "object_position": null,
            "object_fit": null,
            "grid_auto_columns": null,
            "margin": null,
            "display": null,
            "left": null
          }
        },
        "581ba43f7a1543c9a9071349e370a4e0": {
          "model_module": "@jupyter-widgets/controls",
          "model_name": "DescriptionStyleModel",
          "state": {
            "_view_name": "StyleView",
            "_model_name": "DescriptionStyleModel",
            "description_width": "",
            "_view_module": "@jupyter-widgets/base",
            "_model_module_version": "1.5.0",
            "_view_count": null,
            "_view_module_version": "1.2.0",
            "_model_module": "@jupyter-widgets/controls"
          }
        },
        "020bd3eee4fe4acb8ebf8262aaa13e93": {
          "model_module": "@jupyter-widgets/base",
          "model_name": "LayoutModel",
          "state": {
            "_view_name": "LayoutView",
            "grid_template_rows": null,
            "right": null,
            "justify_content": null,
            "_view_module": "@jupyter-widgets/base",
            "overflow": null,
            "_model_module_version": "1.2.0",
            "_view_count": null,
            "flex_flow": null,
            "width": null,
            "min_width": null,
            "border": null,
            "align_items": null,
            "bottom": null,
            "_model_module": "@jupyter-widgets/base",
            "top": null,
            "grid_column": null,
            "overflow_y": null,
            "overflow_x": null,
            "grid_auto_flow": null,
            "grid_area": null,
            "grid_template_columns": null,
            "flex": null,
            "_model_name": "LayoutModel",
            "justify_items": null,
            "grid_row": null,
            "max_height": null,
            "align_content": null,
            "visibility": null,
            "align_self": null,
            "height": null,
            "min_height": null,
            "padding": null,
            "grid_auto_rows": null,
            "grid_gap": null,
            "max_width": null,
            "order": null,
            "_view_module_version": "1.2.0",
            "grid_template_areas": null,
            "object_position": null,
            "object_fit": null,
            "grid_auto_columns": null,
            "margin": null,
            "display": null,
            "left": null
          }
        },
        "ab04fec7985343c1a9e90ce132510564": {
          "model_module": "@jupyter-widgets/controls",
          "model_name": "HBoxModel",
          "state": {
            "_view_name": "HBoxView",
            "_dom_classes": [],
            "_model_name": "HBoxModel",
            "_view_module": "@jupyter-widgets/controls",
            "_model_module_version": "1.5.0",
            "_view_count": null,
            "_view_module_version": "1.5.0",
            "box_style": "",
            "layout": "IPY_MODEL_11254242d8084837b76d5f0a520248d8",
            "_model_module": "@jupyter-widgets/controls",
            "children": [
              "IPY_MODEL_adf35319770645b29a376ac555f755b4",
              "IPY_MODEL_e6d64276c9304d3dbc5c3ffb02e1bbbe"
            ]
          }
        },
        "11254242d8084837b76d5f0a520248d8": {
          "model_module": "@jupyter-widgets/base",
          "model_name": "LayoutModel",
          "state": {
            "_view_name": "LayoutView",
            "grid_template_rows": null,
            "right": null,
            "justify_content": null,
            "_view_module": "@jupyter-widgets/base",
            "overflow": null,
            "_model_module_version": "1.2.0",
            "_view_count": null,
            "flex_flow": null,
            "width": null,
            "min_width": null,
            "border": null,
            "align_items": null,
            "bottom": null,
            "_model_module": "@jupyter-widgets/base",
            "top": null,
            "grid_column": null,
            "overflow_y": null,
            "overflow_x": null,
            "grid_auto_flow": null,
            "grid_area": null,
            "grid_template_columns": null,
            "flex": null,
            "_model_name": "LayoutModel",
            "justify_items": null,
            "grid_row": null,
            "max_height": null,
            "align_content": null,
            "visibility": null,
            "align_self": null,
            "height": null,
            "min_height": null,
            "padding": null,
            "grid_auto_rows": null,
            "grid_gap": null,
            "max_width": null,
            "order": null,
            "_view_module_version": "1.2.0",
            "grid_template_areas": null,
            "object_position": null,
            "object_fit": null,
            "grid_auto_columns": null,
            "margin": null,
            "display": null,
            "left": null
          }
        },
        "adf35319770645b29a376ac555f755b4": {
          "model_module": "@jupyter-widgets/controls",
          "model_name": "FloatProgressModel",
          "state": {
            "_view_name": "ProgressView",
            "style": "IPY_MODEL_29c975601ae645bd980abbe0e8180aeb",
            "_dom_classes": [],
            "description": "100%",
            "_model_name": "FloatProgressModel",
            "bar_style": "success",
            "max": 9218294,
            "_view_module": "@jupyter-widgets/controls",
            "_model_module_version": "1.5.0",
            "value": 9218294,
            "_view_count": null,
            "_view_module_version": "1.5.0",
            "orientation": "horizontal",
            "min": 0,
            "description_tooltip": null,
            "_model_module": "@jupyter-widgets/controls",
            "layout": "IPY_MODEL_c80503bcd4a74c9eb4e628f901cd0c92"
          }
        },
        "e6d64276c9304d3dbc5c3ffb02e1bbbe": {
          "model_module": "@jupyter-widgets/controls",
          "model_name": "HTMLModel",
          "state": {
            "_view_name": "HTMLView",
            "style": "IPY_MODEL_9e843b96b3d4406d99d7e7433449cbcd",
            "_dom_classes": [],
            "description": "",
            "_model_name": "HTMLModel",
            "placeholder": "​",
            "_view_module": "@jupyter-widgets/controls",
            "_model_module_version": "1.5.0",
            "value": " 8.79M/8.79M [00:00&lt;00:00, 29.7MB/s]",
            "_view_count": null,
            "_view_module_version": "1.5.0",
            "description_tooltip": null,
            "_model_module": "@jupyter-widgets/controls",
            "layout": "IPY_MODEL_6b069b88b75a438398dc7326fbfddac2"
          }
        },
        "29c975601ae645bd980abbe0e8180aeb": {
          "model_module": "@jupyter-widgets/controls",
          "model_name": "ProgressStyleModel",
          "state": {
            "_view_name": "StyleView",
            "_model_name": "ProgressStyleModel",
            "description_width": "initial",
            "_view_module": "@jupyter-widgets/base",
            "_model_module_version": "1.5.0",
            "_view_count": null,
            "_view_module_version": "1.2.0",
            "bar_color": null,
            "_model_module": "@jupyter-widgets/controls"
          }
        },
        "c80503bcd4a74c9eb4e628f901cd0c92": {
          "model_module": "@jupyter-widgets/base",
          "model_name": "LayoutModel",
          "state": {
            "_view_name": "LayoutView",
            "grid_template_rows": null,
            "right": null,
            "justify_content": null,
            "_view_module": "@jupyter-widgets/base",
            "overflow": null,
            "_model_module_version": "1.2.0",
            "_view_count": null,
            "flex_flow": null,
            "width": null,
            "min_width": null,
            "border": null,
            "align_items": null,
            "bottom": null,
            "_model_module": "@jupyter-widgets/base",
            "top": null,
            "grid_column": null,
            "overflow_y": null,
            "overflow_x": null,
            "grid_auto_flow": null,
            "grid_area": null,
            "grid_template_columns": null,
            "flex": null,
            "_model_name": "LayoutModel",
            "justify_items": null,
            "grid_row": null,
            "max_height": null,
            "align_content": null,
            "visibility": null,
            "align_self": null,
            "height": null,
            "min_height": null,
            "padding": null,
            "grid_auto_rows": null,
            "grid_gap": null,
            "max_width": null,
            "order": null,
            "_view_module_version": "1.2.0",
            "grid_template_areas": null,
            "object_position": null,
            "object_fit": null,
            "grid_auto_columns": null,
            "margin": null,
            "display": null,
            "left": null
          }
        },
        "9e843b96b3d4406d99d7e7433449cbcd": {
          "model_module": "@jupyter-widgets/controls",
          "model_name": "DescriptionStyleModel",
          "state": {
            "_view_name": "StyleView",
            "_model_name": "DescriptionStyleModel",
            "description_width": "",
            "_view_module": "@jupyter-widgets/base",
            "_model_module_version": "1.5.0",
            "_view_count": null,
            "_view_module_version": "1.2.0",
            "_model_module": "@jupyter-widgets/controls"
          }
        },
        "6b069b88b75a438398dc7326fbfddac2": {
          "model_module": "@jupyter-widgets/base",
          "model_name": "LayoutModel",
          "state": {
            "_view_name": "LayoutView",
            "grid_template_rows": null,
            "right": null,
            "justify_content": null,
            "_view_module": "@jupyter-widgets/base",
            "overflow": null,
            "_model_module_version": "1.2.0",
            "_view_count": null,
            "flex_flow": null,
            "width": null,
            "min_width": null,
            "border": null,
            "align_items": null,
            "bottom": null,
            "_model_module": "@jupyter-widgets/base",
            "top": null,
            "grid_column": null,
            "overflow_y": null,
            "overflow_x": null,
            "grid_auto_flow": null,
            "grid_area": null,
            "grid_template_columns": null,
            "flex": null,
            "_model_name": "LayoutModel",
            "justify_items": null,
            "grid_row": null,
            "max_height": null,
            "align_content": null,
            "visibility": null,
            "align_self": null,
            "height": null,
            "min_height": null,
            "padding": null,
            "grid_auto_rows": null,
            "grid_gap": null,
            "max_width": null,
            "order": null,
            "_view_module_version": "1.2.0",
            "grid_template_areas": null,
            "object_position": null,
            "object_fit": null,
            "grid_auto_columns": null,
            "margin": null,
            "display": null,
            "left": null
          }
        },
        "1a818f3a5c0940729ec5e4b96becece8": {
          "model_module": "@jupyter-widgets/controls",
          "model_name": "HBoxModel",
          "state": {
            "_view_name": "HBoxView",
            "_dom_classes": [],
            "_model_name": "HBoxModel",
            "_view_module": "@jupyter-widgets/controls",
            "_model_module_version": "1.5.0",
            "_view_count": null,
            "_view_module_version": "1.5.0",
            "box_style": "",
            "layout": "IPY_MODEL_2f88f4f51a7c4966a8c7ca3fa51233b4",
            "_model_module": "@jupyter-widgets/controls",
            "children": [
              "IPY_MODEL_eef6cc276ad149a2a24c0369605a7f92",
              "IPY_MODEL_7c82baf3a9224d6f964a1495df846500"
            ]
          }
        },
        "2f88f4f51a7c4966a8c7ca3fa51233b4": {
          "model_module": "@jupyter-widgets/base",
          "model_name": "LayoutModel",
          "state": {
            "_view_name": "LayoutView",
            "grid_template_rows": null,
            "right": null,
            "justify_content": null,
            "_view_module": "@jupyter-widgets/base",
            "overflow": null,
            "_model_module_version": "1.2.0",
            "_view_count": null,
            "flex_flow": null,
            "width": null,
            "min_width": null,
            "border": null,
            "align_items": null,
            "bottom": null,
            "_model_module": "@jupyter-widgets/base",
            "top": null,
            "grid_column": null,
            "overflow_y": null,
            "overflow_x": null,
            "grid_auto_flow": null,
            "grid_area": null,
            "grid_template_columns": null,
            "flex": null,
            "_model_name": "LayoutModel",
            "justify_items": null,
            "grid_row": null,
            "max_height": null,
            "align_content": null,
            "visibility": null,
            "align_self": null,
            "height": null,
            "min_height": null,
            "padding": null,
            "grid_auto_rows": null,
            "grid_gap": null,
            "max_width": null,
            "order": null,
            "_view_module_version": "1.2.0",
            "grid_template_areas": null,
            "object_position": null,
            "object_fit": null,
            "grid_auto_columns": null,
            "margin": null,
            "display": null,
            "left": null
          }
        },
        "eef6cc276ad149a2a24c0369605a7f92": {
          "model_module": "@jupyter-widgets/controls",
          "model_name": "FloatProgressModel",
          "state": {
            "_view_name": "ProgressView",
            "style": "IPY_MODEL_51ed6fa6875044e4a8fa2fe680de8ecb",
            "_dom_classes": [],
            "description": "100%",
            "_model_name": "FloatProgressModel",
            "bar_style": "success",
            "max": 14212972,
            "_view_module": "@jupyter-widgets/controls",
            "_model_module_version": "1.5.0",
            "value": 14212972,
            "_view_count": null,
            "_view_module_version": "1.5.0",
            "orientation": "horizontal",
            "min": 0,
            "description_tooltip": null,
            "_model_module": "@jupyter-widgets/controls",
            "layout": "IPY_MODEL_7b1516ccb78f4ca791fbf0d6ed785674"
          }
        },
        "7c82baf3a9224d6f964a1495df846500": {
          "model_module": "@jupyter-widgets/controls",
          "model_name": "HTMLModel",
          "state": {
            "_view_name": "HTMLView",
            "style": "IPY_MODEL_ce947f829f954ff994fb71b9792b1c56",
            "_dom_classes": [],
            "description": "",
            "_model_name": "HTMLModel",
            "placeholder": "​",
            "_view_module": "@jupyter-widgets/controls",
            "_model_module_version": "1.5.0",
            "value": " 13.6M/13.6M [00:04&lt;00:00, 3.02MB/s]",
            "_view_count": null,
            "_view_module_version": "1.5.0",
            "description_tooltip": null,
            "_model_module": "@jupyter-widgets/controls",
            "layout": "IPY_MODEL_b89196341f3540c693e3bcf0725fcd71"
          }
        },
        "51ed6fa6875044e4a8fa2fe680de8ecb": {
          "model_module": "@jupyter-widgets/controls",
          "model_name": "ProgressStyleModel",
          "state": {
            "_view_name": "StyleView",
            "_model_name": "ProgressStyleModel",
            "description_width": "initial",
            "_view_module": "@jupyter-widgets/base",
            "_model_module_version": "1.5.0",
            "_view_count": null,
            "_view_module_version": "1.2.0",
            "bar_color": null,
            "_model_module": "@jupyter-widgets/controls"
          }
        },
        "7b1516ccb78f4ca791fbf0d6ed785674": {
          "model_module": "@jupyter-widgets/base",
          "model_name": "LayoutModel",
          "state": {
            "_view_name": "LayoutView",
            "grid_template_rows": null,
            "right": null,
            "justify_content": null,
            "_view_module": "@jupyter-widgets/base",
            "overflow": null,
            "_model_module_version": "1.2.0",
            "_view_count": null,
            "flex_flow": null,
            "width": null,
            "min_width": null,
            "border": null,
            "align_items": null,
            "bottom": null,
            "_model_module": "@jupyter-widgets/base",
            "top": null,
            "grid_column": null,
            "overflow_y": null,
            "overflow_x": null,
            "grid_auto_flow": null,
            "grid_area": null,
            "grid_template_columns": null,
            "flex": null,
            "_model_name": "LayoutModel",
            "justify_items": null,
            "grid_row": null,
            "max_height": null,
            "align_content": null,
            "visibility": null,
            "align_self": null,
            "height": null,
            "min_height": null,
            "padding": null,
            "grid_auto_rows": null,
            "grid_gap": null,
            "max_width": null,
            "order": null,
            "_view_module_version": "1.2.0",
            "grid_template_areas": null,
            "object_position": null,
            "object_fit": null,
            "grid_auto_columns": null,
            "margin": null,
            "display": null,
            "left": null
          }
        },
        "ce947f829f954ff994fb71b9792b1c56": {
          "model_module": "@jupyter-widgets/controls",
          "model_name": "DescriptionStyleModel",
          "state": {
            "_view_name": "StyleView",
            "_model_name": "DescriptionStyleModel",
            "description_width": "",
            "_view_module": "@jupyter-widgets/base",
            "_model_module_version": "1.5.0",
            "_view_count": null,
            "_view_module_version": "1.2.0",
            "_model_module": "@jupyter-widgets/controls"
          }
        },
        "b89196341f3540c693e3bcf0725fcd71": {
          "model_module": "@jupyter-widgets/base",
          "model_name": "LayoutModel",
          "state": {
            "_view_name": "LayoutView",
            "grid_template_rows": null,
            "right": null,
            "justify_content": null,
            "_view_module": "@jupyter-widgets/base",
            "overflow": null,
            "_model_module_version": "1.2.0",
            "_view_count": null,
            "flex_flow": null,
            "width": null,
            "min_width": null,
            "border": null,
            "align_items": null,
            "bottom": null,
            "_model_module": "@jupyter-widgets/base",
            "top": null,
            "grid_column": null,
            "overflow_y": null,
            "overflow_x": null,
            "grid_auto_flow": null,
            "grid_area": null,
            "grid_template_columns": null,
            "flex": null,
            "_model_name": "LayoutModel",
            "justify_items": null,
            "grid_row": null,
            "max_height": null,
            "align_content": null,
            "visibility": null,
            "align_self": null,
            "height": null,
            "min_height": null,
            "padding": null,
            "grid_auto_rows": null,
            "grid_gap": null,
            "max_width": null,
            "order": null,
            "_view_module_version": "1.2.0",
            "grid_template_areas": null,
            "object_position": null,
            "object_fit": null,
            "grid_auto_columns": null,
            "margin": null,
            "display": null,
            "left": null
          }
        },
        "ce3d7d07fbcc49d48325eeaced08c78d": {
          "model_module": "@jupyter-widgets/controls",
          "model_name": "HBoxModel",
          "state": {
            "_view_name": "HBoxView",
            "_dom_classes": [],
            "_model_name": "HBoxModel",
            "_view_module": "@jupyter-widgets/controls",
            "_model_module_version": "1.5.0",
            "_view_count": null,
            "_view_module_version": "1.5.0",
            "box_style": "",
            "layout": "IPY_MODEL_e854110ec3c9419989dfc8549c8877e0",
            "_model_module": "@jupyter-widgets/controls",
            "children": [
              "IPY_MODEL_80be169cb52c479eb42cf0be1cfcffa4",
              "IPY_MODEL_9b5667005bac4d13b0a93e695e5e97f1"
            ]
          }
        },
        "e854110ec3c9419989dfc8549c8877e0": {
          "model_module": "@jupyter-widgets/base",
          "model_name": "LayoutModel",
          "state": {
            "_view_name": "LayoutView",
            "grid_template_rows": null,
            "right": null,
            "justify_content": null,
            "_view_module": "@jupyter-widgets/base",
            "overflow": null,
            "_model_module_version": "1.2.0",
            "_view_count": null,
            "flex_flow": null,
            "width": null,
            "min_width": null,
            "border": null,
            "align_items": null,
            "bottom": null,
            "_model_module": "@jupyter-widgets/base",
            "top": null,
            "grid_column": null,
            "overflow_y": null,
            "overflow_x": null,
            "grid_auto_flow": null,
            "grid_area": null,
            "grid_template_columns": null,
            "flex": null,
            "_model_name": "LayoutModel",
            "justify_items": null,
            "grid_row": null,
            "max_height": null,
            "align_content": null,
            "visibility": null,
            "align_self": null,
            "height": null,
            "min_height": null,
            "padding": null,
            "grid_auto_rows": null,
            "grid_gap": null,
            "max_width": null,
            "order": null,
            "_view_module_version": "1.2.0",
            "grid_template_areas": null,
            "object_position": null,
            "object_fit": null,
            "grid_auto_columns": null,
            "margin": null,
            "display": null,
            "left": null
          }
        },
        "80be169cb52c479eb42cf0be1cfcffa4": {
          "model_module": "@jupyter-widgets/controls",
          "model_name": "FloatProgressModel",
          "state": {
            "_view_name": "ProgressView",
            "style": "IPY_MODEL_1ea32c953ea64eebae77b4ee41079af8",
            "_dom_classes": [],
            "description": "100%",
            "_model_name": "FloatProgressModel",
            "bar_style": "success",
            "max": 100441675,
            "_view_module": "@jupyter-widgets/controls",
            "_model_module_version": "1.5.0",
            "value": 100441675,
            "_view_count": null,
            "_view_module_version": "1.5.0",
            "orientation": "horizontal",
            "min": 0,
            "description_tooltip": null,
            "_model_module": "@jupyter-widgets/controls",
            "layout": "IPY_MODEL_f12426c0d5da4c5abd93b5127d6b3898"
          }
        },
        "9b5667005bac4d13b0a93e695e5e97f1": {
          "model_module": "@jupyter-widgets/controls",
          "model_name": "HTMLModel",
          "state": {
            "_view_name": "HTMLView",
            "style": "IPY_MODEL_0ce81ea96f9b43d584b916652e111d13",
            "_dom_classes": [],
            "description": "",
            "_model_name": "HTMLModel",
            "placeholder": "​",
            "_view_module": "@jupyter-widgets/controls",
            "_model_module_version": "1.5.0",
            "value": " 95.8M/95.8M [00:03&lt;00:00, 28.1MB/s]",
            "_view_count": null,
            "_view_module_version": "1.5.0",
            "description_tooltip": null,
            "_model_module": "@jupyter-widgets/controls",
            "layout": "IPY_MODEL_936ed195e35946e38335648946ce4bfc"
          }
        },
        "1ea32c953ea64eebae77b4ee41079af8": {
          "model_module": "@jupyter-widgets/controls",
          "model_name": "ProgressStyleModel",
          "state": {
            "_view_name": "StyleView",
            "_model_name": "ProgressStyleModel",
            "description_width": "initial",
            "_view_module": "@jupyter-widgets/base",
            "_model_module_version": "1.5.0",
            "_view_count": null,
            "_view_module_version": "1.2.0",
            "bar_color": null,
            "_model_module": "@jupyter-widgets/controls"
          }
        },
        "f12426c0d5da4c5abd93b5127d6b3898": {
          "model_module": "@jupyter-widgets/base",
          "model_name": "LayoutModel",
          "state": {
            "_view_name": "LayoutView",
            "grid_template_rows": null,
            "right": null,
            "justify_content": null,
            "_view_module": "@jupyter-widgets/base",
            "overflow": null,
            "_model_module_version": "1.2.0",
            "_view_count": null,
            "flex_flow": null,
            "width": null,
            "min_width": null,
            "border": null,
            "align_items": null,
            "bottom": null,
            "_model_module": "@jupyter-widgets/base",
            "top": null,
            "grid_column": null,
            "overflow_y": null,
            "overflow_x": null,
            "grid_auto_flow": null,
            "grid_area": null,
            "grid_template_columns": null,
            "flex": null,
            "_model_name": "LayoutModel",
            "justify_items": null,
            "grid_row": null,
            "max_height": null,
            "align_content": null,
            "visibility": null,
            "align_self": null,
            "height": null,
            "min_height": null,
            "padding": null,
            "grid_auto_rows": null,
            "grid_gap": null,
            "max_width": null,
            "order": null,
            "_view_module_version": "1.2.0",
            "grid_template_areas": null,
            "object_position": null,
            "object_fit": null,
            "grid_auto_columns": null,
            "margin": null,
            "display": null,
            "left": null
          }
        },
        "0ce81ea96f9b43d584b916652e111d13": {
          "model_module": "@jupyter-widgets/controls",
          "model_name": "DescriptionStyleModel",
          "state": {
            "_view_name": "StyleView",
            "_model_name": "DescriptionStyleModel",
            "description_width": "",
            "_view_module": "@jupyter-widgets/base",
            "_model_module_version": "1.5.0",
            "_view_count": null,
            "_view_module_version": "1.2.0",
            "_model_module": "@jupyter-widgets/controls"
          }
        },
        "936ed195e35946e38335648946ce4bfc": {
          "model_module": "@jupyter-widgets/base",
          "model_name": "LayoutModel",
          "state": {
            "_view_name": "LayoutView",
            "grid_template_rows": null,
            "right": null,
            "justify_content": null,
            "_view_module": "@jupyter-widgets/base",
            "overflow": null,
            "_model_module_version": "1.2.0",
            "_view_count": null,
            "flex_flow": null,
            "width": null,
            "min_width": null,
            "border": null,
            "align_items": null,
            "bottom": null,
            "_model_module": "@jupyter-widgets/base",
            "top": null,
            "grid_column": null,
            "overflow_y": null,
            "overflow_x": null,
            "grid_auto_flow": null,
            "grid_area": null,
            "grid_template_columns": null,
            "flex": null,
            "_model_name": "LayoutModel",
            "justify_items": null,
            "grid_row": null,
            "max_height": null,
            "align_content": null,
            "visibility": null,
            "align_self": null,
            "height": null,
            "min_height": null,
            "padding": null,
            "grid_auto_rows": null,
            "grid_gap": null,
            "max_width": null,
            "order": null,
            "_view_module_version": "1.2.0",
            "grid_template_areas": null,
            "object_position": null,
            "object_fit": null,
            "grid_auto_columns": null,
            "margin": null,
            "display": null,
            "left": null
          }
        },
        "a56f80a9141347a2a7171b340c3a326a": {
          "model_module": "@jupyter-widgets/controls",
          "model_name": "HBoxModel",
          "state": {
            "_view_name": "HBoxView",
            "_dom_classes": [],
            "_model_name": "HBoxModel",
            "_view_module": "@jupyter-widgets/controls",
            "_model_module_version": "1.5.0",
            "_view_count": null,
            "_view_module_version": "1.5.0",
            "box_style": "",
            "layout": "IPY_MODEL_ee36e19f36774a8b81c654b59dbf6905",
            "_model_module": "@jupyter-widgets/controls",
            "children": [
              "IPY_MODEL_a389d2e1df784c23a89ede44877e9d76",
              "IPY_MODEL_3420fd08f1bb439598abf417c8e11b83"
            ]
          }
        },
        "ee36e19f36774a8b81c654b59dbf6905": {
          "model_module": "@jupyter-widgets/base",
          "model_name": "LayoutModel",
          "state": {
            "_view_name": "LayoutView",
            "grid_template_rows": null,
            "right": null,
            "justify_content": null,
            "_view_module": "@jupyter-widgets/base",
            "overflow": null,
            "_model_module_version": "1.2.0",
            "_view_count": null,
            "flex_flow": null,
            "width": null,
            "min_width": null,
            "border": null,
            "align_items": null,
            "bottom": null,
            "_model_module": "@jupyter-widgets/base",
            "top": null,
            "grid_column": null,
            "overflow_y": null,
            "overflow_x": null,
            "grid_auto_flow": null,
            "grid_area": null,
            "grid_template_columns": null,
            "flex": null,
            "_model_name": "LayoutModel",
            "justify_items": null,
            "grid_row": null,
            "max_height": null,
            "align_content": null,
            "visibility": null,
            "align_self": null,
            "height": null,
            "min_height": null,
            "padding": null,
            "grid_auto_rows": null,
            "grid_gap": null,
            "max_width": null,
            "order": null,
            "_view_module_version": "1.2.0",
            "grid_template_areas": null,
            "object_position": null,
            "object_fit": null,
            "grid_auto_columns": null,
            "margin": null,
            "display": null,
            "left": null
          }
        },
        "a389d2e1df784c23a89ede44877e9d76": {
          "model_module": "@jupyter-widgets/controls",
          "model_name": "FloatProgressModel",
          "state": {
            "_view_name": "ProgressView",
            "style": "IPY_MODEL_f064f81c9d764d4989380937760a576b",
            "_dom_classes": [],
            "description": "100%",
            "_model_name": "FloatProgressModel",
            "bar_style": "success",
            "max": 138223492,
            "_view_module": "@jupyter-widgets/controls",
            "_model_module_version": "1.5.0",
            "value": 138223492,
            "_view_count": null,
            "_view_module_version": "1.5.0",
            "orientation": "horizontal",
            "min": 0,
            "description_tooltip": null,
            "_model_module": "@jupyter-widgets/controls",
            "layout": "IPY_MODEL_6b493bc3ddf144869adcfc7ea6874ba1"
          }
        },
        "3420fd08f1bb439598abf417c8e11b83": {
          "model_module": "@jupyter-widgets/controls",
          "model_name": "HTMLModel",
          "state": {
            "_view_name": "HTMLView",
            "style": "IPY_MODEL_94f33839ae9240cf9f63a13ccb905b10",
            "_dom_classes": [],
            "description": "",
            "_model_name": "HTMLModel",
            "placeholder": "​",
            "_view_module": "@jupyter-widgets/controls",
            "_model_module_version": "1.5.0",
            "value": " 132M/132M [00:03&lt;00:00, 42.9MB/s]",
            "_view_count": null,
            "_view_module_version": "1.5.0",
            "description_tooltip": null,
            "_model_module": "@jupyter-widgets/controls",
            "layout": "IPY_MODEL_0412b5c0c376442c992dc9641bc99560"
          }
        },
        "f064f81c9d764d4989380937760a576b": {
          "model_module": "@jupyter-widgets/controls",
          "model_name": "ProgressStyleModel",
          "state": {
            "_view_name": "StyleView",
            "_model_name": "ProgressStyleModel",
            "description_width": "initial",
            "_view_module": "@jupyter-widgets/base",
            "_model_module_version": "1.5.0",
            "_view_count": null,
            "_view_module_version": "1.2.0",
            "bar_color": null,
            "_model_module": "@jupyter-widgets/controls"
          }
        },
        "6b493bc3ddf144869adcfc7ea6874ba1": {
          "model_module": "@jupyter-widgets/base",
          "model_name": "LayoutModel",
          "state": {
            "_view_name": "LayoutView",
            "grid_template_rows": null,
            "right": null,
            "justify_content": null,
            "_view_module": "@jupyter-widgets/base",
            "overflow": null,
            "_model_module_version": "1.2.0",
            "_view_count": null,
            "flex_flow": null,
            "width": null,
            "min_width": null,
            "border": null,
            "align_items": null,
            "bottom": null,
            "_model_module": "@jupyter-widgets/base",
            "top": null,
            "grid_column": null,
            "overflow_y": null,
            "overflow_x": null,
            "grid_auto_flow": null,
            "grid_area": null,
            "grid_template_columns": null,
            "flex": null,
            "_model_name": "LayoutModel",
            "justify_items": null,
            "grid_row": null,
            "max_height": null,
            "align_content": null,
            "visibility": null,
            "align_self": null,
            "height": null,
            "min_height": null,
            "padding": null,
            "grid_auto_rows": null,
            "grid_gap": null,
            "max_width": null,
            "order": null,
            "_view_module_version": "1.2.0",
            "grid_template_areas": null,
            "object_position": null,
            "object_fit": null,
            "grid_auto_columns": null,
            "margin": null,
            "display": null,
            "left": null
          }
        },
        "94f33839ae9240cf9f63a13ccb905b10": {
          "model_module": "@jupyter-widgets/controls",
          "model_name": "DescriptionStyleModel",
          "state": {
            "_view_name": "StyleView",
            "_model_name": "DescriptionStyleModel",
            "description_width": "",
            "_view_module": "@jupyter-widgets/base",
            "_model_module_version": "1.5.0",
            "_view_count": null,
            "_view_module_version": "1.2.0",
            "_model_module": "@jupyter-widgets/controls"
          }
        },
        "0412b5c0c376442c992dc9641bc99560": {
          "model_module": "@jupyter-widgets/base",
          "model_name": "LayoutModel",
          "state": {
            "_view_name": "LayoutView",
            "grid_template_rows": null,
            "right": null,
            "justify_content": null,
            "_view_module": "@jupyter-widgets/base",
            "overflow": null,
            "_model_module_version": "1.2.0",
            "_view_count": null,
            "flex_flow": null,
            "width": null,
            "min_width": null,
            "border": null,
            "align_items": null,
            "bottom": null,
            "_model_module": "@jupyter-widgets/base",
            "top": null,
            "grid_column": null,
            "overflow_y": null,
            "overflow_x": null,
            "grid_auto_flow": null,
            "grid_area": null,
            "grid_template_columns": null,
            "flex": null,
            "_model_name": "LayoutModel",
            "justify_items": null,
            "grid_row": null,
            "max_height": null,
            "align_content": null,
            "visibility": null,
            "align_self": null,
            "height": null,
            "min_height": null,
            "padding": null,
            "grid_auto_rows": null,
            "grid_gap": null,
            "max_width": null,
            "order": null,
            "_view_module_version": "1.2.0",
            "grid_template_areas": null,
            "object_position": null,
            "object_fit": null,
            "grid_auto_columns": null,
            "margin": null,
            "display": null,
            "left": null
          }
        },
        "25c79e03ebd6442796cd4996476cc004": {
          "model_module": "@jupyter-widgets/controls",
          "model_name": "HBoxModel",
          "state": {
            "_view_name": "HBoxView",
            "_dom_classes": [],
            "_model_name": "HBoxModel",
            "_view_module": "@jupyter-widgets/controls",
            "_model_module_version": "1.5.0",
            "_view_count": null,
            "_view_module_version": "1.5.0",
            "box_style": "",
            "layout": "IPY_MODEL_a26f89658dca4837b5babdd775620f18",
            "_model_module": "@jupyter-widgets/controls",
            "children": [
              "IPY_MODEL_bddf2973f3b048f2bc89de77288b8724",
              "IPY_MODEL_39037e7c7539420a99431995fc18e83d"
            ]
          }
        },
        "a26f89658dca4837b5babdd775620f18": {
          "model_module": "@jupyter-widgets/base",
          "model_name": "LayoutModel",
          "state": {
            "_view_name": "LayoutView",
            "grid_template_rows": null,
            "right": null,
            "justify_content": null,
            "_view_module": "@jupyter-widgets/base",
            "overflow": null,
            "_model_module_version": "1.2.0",
            "_view_count": null,
            "flex_flow": null,
            "width": null,
            "min_width": null,
            "border": null,
            "align_items": null,
            "bottom": null,
            "_model_module": "@jupyter-widgets/base",
            "top": null,
            "grid_column": null,
            "overflow_y": null,
            "overflow_x": null,
            "grid_auto_flow": null,
            "grid_area": null,
            "grid_template_columns": null,
            "flex": null,
            "_model_name": "LayoutModel",
            "justify_items": null,
            "grid_row": null,
            "max_height": null,
            "align_content": null,
            "visibility": null,
            "align_self": null,
            "height": null,
            "min_height": null,
            "padding": null,
            "grid_auto_rows": null,
            "grid_gap": null,
            "max_width": null,
            "order": null,
            "_view_module_version": "1.2.0",
            "grid_template_areas": null,
            "object_position": null,
            "object_fit": null,
            "grid_auto_columns": null,
            "margin": null,
            "display": null,
            "left": null
          }
        },
        "bddf2973f3b048f2bc89de77288b8724": {
          "model_module": "@jupyter-widgets/controls",
          "model_name": "FloatProgressModel",
          "state": {
            "_view_name": "ProgressView",
            "style": "IPY_MODEL_9642ad277fec438990db23c16c498fb4",
            "_dom_classes": [],
            "description": "100%",
            "_model_name": "FloatProgressModel",
            "bar_style": "success",
            "max": 17736997,
            "_view_module": "@jupyter-widgets/controls",
            "_model_module_version": "1.5.0",
            "value": 17736997,
            "_view_count": null,
            "_view_module_version": "1.5.0",
            "orientation": "horizontal",
            "min": 0,
            "description_tooltip": null,
            "_model_module": "@jupyter-widgets/controls",
            "layout": "IPY_MODEL_c47d7d5a7baa45af8a183b71e49fc877"
          }
        },
        "39037e7c7539420a99431995fc18e83d": {
          "model_module": "@jupyter-widgets/controls",
          "model_name": "HTMLModel",
          "state": {
            "_view_name": "HTMLView",
            "style": "IPY_MODEL_adc309be3f8c4d0d9412535a5746a859",
            "_dom_classes": [],
            "description": "",
            "_model_name": "HTMLModel",
            "placeholder": "​",
            "_view_module": "@jupyter-widgets/controls",
            "_model_module_version": "1.5.0",
            "value": " 16.9M/16.9M [00:00&lt;00:00, 54.2MB/s]",
            "_view_count": null,
            "_view_module_version": "1.5.0",
            "description_tooltip": null,
            "_model_module": "@jupyter-widgets/controls",
            "layout": "IPY_MODEL_04c93dfdff7b459db9d035b55a772c34"
          }
        },
        "9642ad277fec438990db23c16c498fb4": {
          "model_module": "@jupyter-widgets/controls",
          "model_name": "ProgressStyleModel",
          "state": {
            "_view_name": "StyleView",
            "_model_name": "ProgressStyleModel",
            "description_width": "initial",
            "_view_module": "@jupyter-widgets/base",
            "_model_module_version": "1.5.0",
            "_view_count": null,
            "_view_module_version": "1.2.0",
            "bar_color": null,
            "_model_module": "@jupyter-widgets/controls"
          }
        },
        "c47d7d5a7baa45af8a183b71e49fc877": {
          "model_module": "@jupyter-widgets/base",
          "model_name": "LayoutModel",
          "state": {
            "_view_name": "LayoutView",
            "grid_template_rows": null,
            "right": null,
            "justify_content": null,
            "_view_module": "@jupyter-widgets/base",
            "overflow": null,
            "_model_module_version": "1.2.0",
            "_view_count": null,
            "flex_flow": null,
            "width": null,
            "min_width": null,
            "border": null,
            "align_items": null,
            "bottom": null,
            "_model_module": "@jupyter-widgets/base",
            "top": null,
            "grid_column": null,
            "overflow_y": null,
            "overflow_x": null,
            "grid_auto_flow": null,
            "grid_area": null,
            "grid_template_columns": null,
            "flex": null,
            "_model_name": "LayoutModel",
            "justify_items": null,
            "grid_row": null,
            "max_height": null,
            "align_content": null,
            "visibility": null,
            "align_self": null,
            "height": null,
            "min_height": null,
            "padding": null,
            "grid_auto_rows": null,
            "grid_gap": null,
            "max_width": null,
            "order": null,
            "_view_module_version": "1.2.0",
            "grid_template_areas": null,
            "object_position": null,
            "object_fit": null,
            "grid_auto_columns": null,
            "margin": null,
            "display": null,
            "left": null
          }
        },
        "adc309be3f8c4d0d9412535a5746a859": {
          "model_module": "@jupyter-widgets/controls",
          "model_name": "DescriptionStyleModel",
          "state": {
            "_view_name": "StyleView",
            "_model_name": "DescriptionStyleModel",
            "description_width": "",
            "_view_module": "@jupyter-widgets/base",
            "_model_module_version": "1.5.0",
            "_view_count": null,
            "_view_module_version": "1.2.0",
            "_model_module": "@jupyter-widgets/controls"
          }
        },
        "04c93dfdff7b459db9d035b55a772c34": {
          "model_module": "@jupyter-widgets/base",
          "model_name": "LayoutModel",
          "state": {
            "_view_name": "LayoutView",
            "grid_template_rows": null,
            "right": null,
            "justify_content": null,
            "_view_module": "@jupyter-widgets/base",
            "overflow": null,
            "_model_module_version": "1.2.0",
            "_view_count": null,
            "flex_flow": null,
            "width": null,
            "min_width": null,
            "border": null,
            "align_items": null,
            "bottom": null,
            "_model_module": "@jupyter-widgets/base",
            "top": null,
            "grid_column": null,
            "overflow_y": null,
            "overflow_x": null,
            "grid_auto_flow": null,
            "grid_area": null,
            "grid_template_columns": null,
            "flex": null,
            "_model_name": "LayoutModel",
            "justify_items": null,
            "grid_row": null,
            "max_height": null,
            "align_content": null,
            "visibility": null,
            "align_self": null,
            "height": null,
            "min_height": null,
            "padding": null,
            "grid_auto_rows": null,
            "grid_gap": null,
            "max_width": null,
            "order": null,
            "_view_module_version": "1.2.0",
            "grid_template_areas": null,
            "object_position": null,
            "object_fit": null,
            "grid_auto_columns": null,
            "margin": null,
            "display": null,
            "left": null
          }
        }
      }
    }
  },
  "cells": [
    {
      "cell_type": "markdown",
      "metadata": {
        "id": "view-in-github",
        "colab_type": "text"
      },
      "source": [
        "<a href=\"https://colab.research.google.com/github/vedantdave77/project.Orca/blob/master/Project/project-dog_Breed_CNN_Classification/Dog_Classification_Project%5BTransfer_Learning%5D.ipynb\" target=\"_parent\"><img src=\"https://colab.research.google.com/assets/colab-badge.svg\" alt=\"Open In Colab\"/></a>"
      ]
    },
    {
      "cell_type": "markdown",
      "metadata": {
        "id": "G76qLkXepbRE",
        "colab_type": "text"
      },
      "source": [
        "## Objective : classify dog_breed with Transfer-learning AND compare different pretrained algorithms\n",
        "---\n",
        "#### (even human relate to dog breed?, just for fun)\n",
        "\n",
        "In this notebook, I will make  an algorithm that could be used as part of a mobile or web app. At the end of this project, your code will accept any user-supplied image as input. If a dog is detected in the image, it will provide an estimate of the dog's breed. If a human is detected, it will provide an estimate of the dog breed that is most resembling.\n",
        "\n",
        "### Do you know the breed of this Dog?"
      ]
    },
    {
      "cell_type": "code",
      "metadata": {
        "id": "bpSNdb26pbRG",
        "colab_type": "code",
        "colab": {
          "base_uri": "https://localhost:8080/",
          "height": 391
        },
        "outputId": "41eb4279-59ea-415a-8b27-3948b20020df"
      },
      "source": [
        "from IPython.display import Image,display \n",
        "display(Image('/content/drive/My Drive/images/Welsh_springer_spaniel_08203.jpg'))"
      ],
      "execution_count": 17,
      "outputs": [
        {
          "output_type": "display_data",
          "data": {
            "image/jpeg": "[encoded data removed]",
            "text/plain": [
              "<IPython.core.display.Image object>"
            ]
          },
          "metadata": {
            "tags": []
          }
        }
      ]
    },
    {
      "cell_type": "markdown",
      "metadata": {
        "id": "9nREwffppbRM",
        "colab_type": "text"
      },
      "source": [
        "### I know, its hard to tell,but Neural Network can do it. Let's ask Neural_Net. for this solution.\n",
        "\n",
        "---\n",
        "\n",
        "I break the notebook into separate steps. Feel free to use the links below to navigate the notebook.\n",
        "\n",
        "1. Import Datasets\n",
        "2. Detect Humans faces - used cv2  *.xlm scripts\n",
        "3. Detect Dogs\n",
        "4. Transfer Learning [vgg16] - .json file format\n",
        "5. Accuracy Checking\n",
        "6. Tansfer Learning algorithms Comparison \n",
        "   > - vgg16, vgg16_bn, inception v3, resnet18, resnet152, alexnet, \n",
        "7. Visuzlize Result.\n",
        "\n",
        "---\n",
        "\n",
        "\n",
        "## [Step 0] Import data and make directory "
      ]
    },
    {
      "cell_type": "markdown",
      "metadata": {
        "id": "hc40PUaSpbRN",
        "colab_type": "text"
      },
      "source": [
        "Make sure that you've downloaded the required human and dog datasets:\n",
        "* Download the [dog dataset](https://s3-us-west-1.amazonaws.com/udacity-aind/dog-project/dogImages.zip).  Unzip the folder and place it in this project's home directory, at the location `Data/dogImages`. \n",
        "\n",
        "* Download the [human dataset](https://s3-us-west-1.amazonaws.com/udacity-aind/dog-project/lfw.zip).  Unzip the folder and place it in the home directory, at location `Data/lfw`.\n",
        "\n",
        "> I am using a google drive. You can download data from my drive [setup](https://drive.google.com/drive/folders/1w4YfTwN-WqtFa2eNwj6Mb3Cxwj9HeU_T?usp=sharing)"
      ]
    },
    {
      "cell_type": "code",
      "metadata": {
        "id": "TdWfmTCY4x-D",
        "colab_type": "code",
        "colab": {
          "base_uri": "https://localhost:8080/",
          "height": 54
        },
        "outputId": "76b069eb-13bf-4a54-93fd-91ce3073e673"
      },
      "source": [
        "from google.colab import drive\n",
        "drive.mount('/content/drive')"
      ],
      "execution_count": 18,
      "outputs": [
        {
          "output_type": "stream",
          "text": [
            "Drive already mounted at /content/drive; to attempt to forcibly remount, call drive.mount(\"/content/drive\", force_remount=True).\n"
          ],
          "name": "stdout"
        }
      ]
    },
    {
      "cell_type": "code",
      "metadata": {
        "id": "JuIwH4cwpbRO",
        "colab_type": "code",
        "colab": {
          "base_uri": "https://localhost:8080/",
          "height": 51
        },
        "outputId": "a92b8a80-f927-47c4-9a25-d2b57446c791"
      },
      "source": [
        "import numpy as np\n",
        "from glob import glob\n",
        "\n",
        "# load filenames for human and dog images\n",
        "human_files = np.array(glob(\"/content/drive/My Drive/Data /lfw/*/*\"))\n",
        "dog_files = np.array(glob(\"/content/drive/My Drive/Data /dogImages/*/*/*\"))\n",
        "\n",
        "# print number of images in each dataset\n",
        "print('There are %d total human images.' % len(human_files))\n",
        "print('There are %d total dog images.' % len(dog_files))"
      ],
      "execution_count": 19,
      "outputs": [
        {
          "output_type": "stream",
          "text": [
            "There are 13234 total human images.\n",
            "There are 8351 total dog images.\n"
          ],
          "name": "stdout"
        }
      ]
    },
    {
      "cell_type": "markdown",
      "metadata": {
        "id": "luGw-kWnpbRR",
        "colab_type": "text"
      },
      "source": [
        "#### Now Let's pre analyze datasets and get the info about its lenght and categories"
      ]
    },
    {
      "cell_type": "code",
      "metadata": {
        "id": "jk2JQryBpbRR",
        "colab_type": "code",
        "colab": {
          "base_uri": "https://localhost:8080/",
          "height": 71
        },
        "outputId": "60631e04-e237-4c17-94f8-0311cde71b77"
      },
      "source": [
        "# List of Dog breed names\n",
        "dog_names = [dogs for dogs in sorted(glob(\"/content/drive/My Drive/Data /dogImages/train/*\"))]\n",
        "print(dog_names[0:5])\n",
        "len(dog_names)"
      ],
      "execution_count": 20,
      "outputs": [
        {
          "output_type": "stream",
          "text": [
            "['/content/drive/My Drive/Data /dogImages/train/001.Affenpinscher', '/content/drive/My Drive/Data /dogImages/train/002.Afghan_hound', '/content/drive/My Drive/Data /dogImages/train/003.Airedale_terrier', '/content/drive/My Drive/Data /dogImages/train/004.Akita', '/content/drive/My Drive/Data /dogImages/train/005.Alaskan_malamute']\n"
          ],
          "name": "stdout"
        },
        {
          "output_type": "execute_result",
          "data": {
            "text/plain": [
              "133"
            ]
          },
          "metadata": {
            "tags": []
          },
          "execution_count": 20
        }
      ]
    },
    {
      "cell_type": "code",
      "metadata": {
        "id": "ObmxMXdcpbRU",
        "colab_type": "code",
        "colab": {
          "base_uri": "https://localhost:8080/",
          "height": 119
        },
        "outputId": "2a2e4d6f-183b-4ae0-ef6d-fbc922472455"
      },
      "source": [
        "# print statistics about the dataset\n",
        "print('There are %d total dog categories.' % len(dog_names))\n",
        "print('There are %s total dog images.\\n' % len(glob(\"/content/drive/My Drive/Data /dogImages/*/*/*\")))                        # data_ instad of data (bug)\n",
        "print('There are %d training dog images.' % len(glob(\"/content/drive/My Drive/Data /dogImages/train/*/*\")))\n",
        "print('There are %d validation dog images.' % len(glob(\"/content/drive/My Drive/Data /dogImages/valid/*/*\")))    \n",
        "print('There are %d test dog images.'% len(glob(\"/content/drive/My Drive/Data /dogImages/test/*/*\")))"
      ],
      "execution_count": 21,
      "outputs": [
        {
          "output_type": "stream",
          "text": [
            "There are 133 total dog categories.\n",
            "There are 8351 total dog images.\n",
            "\n",
            "There are 6680 training dog images.\n",
            "There are 835 validation dog images.\n",
            "There are 836 test dog images.\n"
          ],
          "name": "stdout"
        }
      ]
    },
    {
      "cell_type": "code",
      "metadata": {
        "id": "dNHn2q60DmYP",
        "colab_type": "code",
        "colab": {
          "base_uri": "https://localhost:8080/",
          "height": 34
        },
        "outputId": "fa53aef2-ecff-4862-f88c-75a6f8e6079b"
      },
      "source": [
        "print(human_files[0])"
      ],
      "execution_count": 22,
      "outputs": [
        {
          "output_type": "stream",
          "text": [
            "/content/drive/My Drive/Data /lfw/Chuck_Hagel/Chuck_Hagel_0001.jpg\n"
          ],
          "name": "stdout"
        }
      ]
    },
    {
      "cell_type": "markdown",
      "metadata": {
        "id": "1oJK7UpcpbRY",
        "colab_type": "text"
      },
      "source": [
        "## Detect Humans \n",
        "\n",
        "#### In this section, I use OpenCV's implementation of [Haar feature-based cascade classifiers](http://docs.opencv.org/trunk/d7/d8b/tutorial_py_face_detection.html) to detect human faces in images.  \n",
        "\n",
        "OpenCV provides many pre-trained face detectors, stored as XML files on [github](https://github.com/opencv/opencv/tree/master/data/haarcascades).  We have downloaded one of these detectors and stored it in the `haarcascades` directory.  In the next code cell, we demonstrate how to use this detector to find human faces in a sample image."
      ]
    },
    {
      "cell_type": "code",
      "metadata": {
        "id": "bmAJLJaupbRZ",
        "colab_type": "code",
        "colab": {
          "base_uri": "https://localhost:8080/",
          "height": 1000
        },
        "outputId": "398ffeb2-d6c6-43e2-c3d8-35f1b651fa9d"
      },
      "source": [
        "# print statistics of human dataset\n",
        "import cv2\n",
        "import matplotlib.pyplot as plt\n",
        "%matplotlib inline\n",
        "\n",
        "# feature extraction (as discussed before, I will use the .xml file for extraction, pre-trained face detection feauture extraction)\n",
        "face_cascade = cv2.CascadeClassifier('/content/drive/My Drive/haarcascades/haarcascade_frontalface_alt.xml')\n",
        "\n",
        "# Load color images\n",
        "img = cv2.imread(\"/content/drive/My Drive/Data /lfw/Aaron_Eckhart/Vedant_Dave_0001.jpg\")                                         ## imread from list is not working\n",
        "gray = cv2.cvtColor(img, cv2.COLOR_BGR2GRAY)                    # gray scale conversion\n",
        "\n",
        "faces = face_cascade.detectMultiScale(gray)                     # face detection (finding faces)\n",
        "\n",
        "print('Number of faces detected:', len(faces))                  # total detected faces from files's first file\n",
        "\n",
        "# make square boundary box for all faces\n",
        "for (x,y,w,h) in faces:\n",
        "    cv2.rectangle(img,(x,y),(x+w,y+h),(0,255,0),20)              # here box will be red (255,0,0) ==> (B,G,R)\n",
        "\n",
        "    \n",
        "cv_rgb = cv2.cvtColor(img, cv2.COLOR_BGR2RGB)                  # convert gray image to rgb for ploting\n",
        "\n",
        "plt.imshow(cv_rgb)\n",
        "print(cv_rgb)\n",
        "plt.show()"
      ],
      "execution_count": 23,
      "outputs": [
        {
          "output_type": "stream",
          "text": [
            "Number of faces detected: 2\n",
            "[[[174 115  81]\n",
            "  [175 116  82]\n",
            "  [175 116  82]\n",
            "  ...\n",
            "  [ 87  30  13]\n",
            "  [ 84  27  16]\n",
            "  [ 76  22  12]]\n",
            "\n",
            " [[174 115  81]\n",
            "  [175 116  82]\n",
            "  [175 116  82]\n",
            "  ...\n",
            "  [ 89  32  15]\n",
            "  [ 86  29  18]\n",
            "  [ 80  26  16]]\n",
            "\n",
            " [[174 115  81]\n",
            "  [175 116  82]\n",
            "  [175 116  82]\n",
            "  ...\n",
            "  [ 90  33  16]\n",
            "  [ 88  31  20]\n",
            "  [ 82  28  18]]\n",
            "\n",
            " ...\n",
            "\n",
            " [[213 168 149]\n",
            "  [213 168 147]\n",
            "  [213 168 147]\n",
            "  ...\n",
            "  [133 109  75]\n",
            "  [133 109  75]\n",
            "  [132 108  74]]\n",
            "\n",
            " [[213 168 149]\n",
            "  [213 168 147]\n",
            "  [213 168 147]\n",
            "  ...\n",
            "  [131 108  74]\n",
            "  [131 108  74]\n",
            "  [131 108  74]]\n",
            "\n",
            " [[213 168 149]\n",
            "  [213 168 147]\n",
            "  [213 168 147]\n",
            "  ...\n",
            "  [131 108  74]\n",
            "  [130 107  73]\n",
            "  [130 107  73]]]\n"
          ],
          "name": "stdout"
        },
        {
          "output_type": "display_data",
          "data": {
            "image/png": "[encoded data removed]",
            "text/plain": [
              "<Figure size 432x288 with 1 Axes>"
            ]
          },
          "metadata": {
            "tags": [],
            "needs_background": "light"
          }
        }
      ]
    },
    {
      "cell_type": "code",
      "metadata": {
        "id": "TLPN_L3opbRd",
        "colab_type": "code",
        "colab": {
          "base_uri": "https://localhost:8080/",
          "height": 136
        },
        "outputId": "a609cccf-3e7d-4983-a7f2-90376a0b21d9"
      },
      "source": [
        "print(gray)                                                        # if we do print(img) it still in 3 color channel"
      ],
      "execution_count": 24,
      "outputs": [
        {
          "output_type": "stream",
          "text": [
            "[[129 130 130 ...  45  43  37]\n",
            " [129 130 130 ...  47  45  41]\n",
            " [129 130 130 ...  48  47  43]\n",
            " ...\n",
            " [179 179 179 ... 112 112 111]\n",
            " [179 179 179 ... 111 111 111]\n",
            " [179 179 179 ... 111 110 110]]\n"
          ],
          "name": "stdout"
        }
      ]
    },
    {
      "cell_type": "markdown",
      "metadata": {
        "id": "KkxsH9HtpbRg",
        "colab_type": "text"
      },
      "source": [
        "### Explainations: \n",
        "\n",
        "#### Here, the type of images are numpy as we can see above, it has 1 D array with 4 parameters and they starts from image gray scalling so 3D image converts to 1D (only in gray), then I apply rectangle with x,y as our code focus. then, I apply w andh to define the boundary of rectangel to fit on the faces\n",
        "\n"
      ]
    },
    {
      "cell_type": "markdown",
      "metadata": {
        "id": "7EqA5gBlpbRh",
        "colab_type": "text"
      },
      "source": [
        "---\n",
        "\n",
        "Here, first I want to implement human face detector and want to check our model. After that I will generate algorithm for deg breeds classification. Because, **Human detection is classification of 2 classes (Yes or No). But, for dog breed classification we have 133 classes so, may be we need toooooooooooooo much deep network!. \n",
        "\n",
        "I also have plant to use **pretrained model as Transfer learning methodology.**\n",
        "\n",
        "So, our combined goal becomes **Identifying human of Dog and their relevant breed**, means if we have human, we will get the relevant dog breed for the same face.\n",
        "\n",
        "> Write function if you need to use same code more than 3 times! \n",
        "\n",
        "---\n",
        "\n",
        "## Create Human_detector function"
      ]
    },
    {
      "cell_type": "code",
      "metadata": {
        "id": "9wFP_gIhpbRh",
        "colab_type": "code",
        "colab": {}
      },
      "source": [
        "def face_detector(img_path):\n",
        "    img = cv2.imread(img_path)\n",
        "    gray = cv2.cvtColor(img, cv2.COLOR_BGR2GRAY)\n",
        "    faces = face_cascade.detectMultiScale(gray)\n",
        "    return len(faces)>0                                            # this will return no. of faces and \n",
        "                                                                 ## if we use len(faces) > 0 then we will get the boolean return"
      ],
      "execution_count": 25,
      "outputs": []
    },
    {
      "cell_type": "code",
      "metadata": {
        "id": "a8zwnNTJpbRn",
        "colab_type": "code",
        "colab": {}
      },
      "source": [
        "# check above functions\n",
        "def detect_faces(img_path):\n",
        "    faces_detected = np.zeros(len(img_path))                      # generate zero array with total faces\n",
        "    for i in range(len(img_path)):\n",
        "        faces_detected[i] = face_detector(img_path[i])            # count faces detected to specific image[i]\n",
        "    return faces_detected"
      ],
      "execution_count": 26,
      "outputs": []
    },
    {
      "cell_type": "code",
      "metadata": {
        "id": "AUuX9C6_pbRp",
        "colab_type": "code",
        "colab": {}
      },
      "source": [
        "from tqdm import tqdm\n",
        "\n",
        "human_files_short = human_files[:100]                            # pick first 100 images for testing\n",
        "dog_files_short = dog_files[:100]                                # pick first 100 images for testing pretrained detector \n",
        "\n",
        "## NOTE ## here, value from 100 actually give us randomsome percentage value (acceptable level)\n",
        "\n",
        "# checking\n",
        "faces_detected_human = detect_faces(human_files_short)\n",
        "faces_detected_dog = detect_faces(dog_files_short)"
      ],
      "execution_count": 27,
      "outputs": []
    },
    {
      "cell_type": "code",
      "metadata": {
        "id": "p9GDuvhdpbRt",
        "colab_type": "code",
        "colab": {
          "base_uri": "https://localhost:8080/",
          "height": 51
        },
        "outputId": "1c8cb248-faee-45b5-a5b5-fc61fbd42905"
      },
      "source": [
        "print(f\"{np.mean(faces_detected_human)*100:.3f}% of human faces found\")             \n",
        "print(f\"{np.mean(faces_detected_dog)*100:.3f}% of dogs confused with humans\")"
      ],
      "execution_count": 28,
      "outputs": [
        {
          "output_type": "stream",
          "text": [
            "99.000% of human faces found\n",
            "8.000% of dogs confused with humans\n"
          ],
          "name": "stdout"
        }
      ]
    },
    {
      "cell_type": "markdown",
      "metadata": {
        "id": "S08xdeESpbRv",
        "colab_type": "text"
      },
      "source": [
        "#### Here, 106% due to more than one face per images, and  10 % actually look like dog for Neural_Net.\n",
        "\n",
        "Let's check for more images to ensure about the performance..."
      ]
    },
    {
      "cell_type": "code",
      "metadata": {
        "id": "1kovQ7yYpbRw",
        "colab_type": "code",
        "colab": {
          "base_uri": "https://localhost:8080/",
          "height": 34
        },
        "outputId": "3c73faaf-0b8f-4970-e61b-8831e587a4f2"
      },
      "source": [
        "faces_detected_human = detect_faces(human_files[:5000])\n",
        "print(f\"{np.mean(faces_detected_human)*100:.3f}% of human faces found\") "
      ],
      "execution_count": null,
      "outputs": [
        {
          "output_type": "stream",
          "text": [
            "98.940% of human faces found\n"
          ],
          "name": "stdout"
        }
      ]
    },
    {
      "cell_type": "code",
      "metadata": {
        "id": "idFDyoU4pbRy",
        "colab_type": "code",
        "colab": {
          "base_uri": "https://localhost:8080/",
          "height": 34
        },
        "outputId": "8e5f743a-ffc9-46d0-8b77-b956ffdde483"
      },
      "source": [
        "faces_detected_human = detect_faces(dog_files[:5000])\n",
        "print(f\"{np.mean(faces_detected_dog)*100:.3f}% of dogs confused with humans\")"
      ],
      "execution_count": null,
      "outputs": [
        {
          "output_type": "stream",
          "text": [
            "7.000% of dogs confused with humans\n"
          ],
          "name": "stdout"
        }
      ]
    },
    {
      "cell_type": "markdown",
      "metadata": {
        "id": "NFcTgymPpbR1",
        "colab_type": "text"
      },
      "source": [
        "### Conclusion:\n",
        "\n",
        "OpenCV's pretrained model give best answer for human detection, but worst for dog_detection. But, here our human are distinguished from dog only as we have pure dataset under directory. In real scenario if we want to detect human then our main aim must be to distinguished human from everything. Also here, our True Positive results are best but False Negative is not that much good. For that we need dog_detector. \n",
        "\n",
        "---"
      ]
    },
    {
      "cell_type": "markdown",
      "metadata": {
        "id": "Eq3n80xepbR1",
        "colab_type": "text"
      },
      "source": [
        "## [Step 2] Detect Dogs\n",
        "\n",
        "**Dog_datasets has 133 different breeds**, so its hard to define network, and as we know there is **no readymade xml file which give use leverage of pre-trainind  model.** \n",
        "\n",
        "*But, there is another technique called **transfer learning.** I mean... use pretrained network such as VGG-16, VGG-19, DenseNet and others. The idea behind it is to detect images features from welknown CNN, and as you know first primary layers of CNN always detect edges and common patterns of the images, we can use them with dog images. At any layer we should cut the original network and join our logical network or last layer of classifier to modify result according to our desire output. In this case, the output will be 133 as we have 133 different breeds.* \n",
        "\n"
      ]
    },
    {
      "cell_type": "markdown",
      "metadata": {
        "id": "GdaDVNCCpbR1",
        "colab_type": "text"
      },
      "source": [
        "---\n",
        "\n",
        "### Obtain Pre-trained **VGG-16 Model**\n",
        "\n",
        "The code cell below downloads the VGG-16 model, along with weights that have been trained on **ImageNet**, a very large, very popular dataset used for image classification and other vision tasks. ImageNet contains over **10 million URLs, each linking to an image containing an object from one of 1000 categories.**, Our task is with 133, less than 1000 so, we can aspect better resutl from VGG-16.\n",
        "\n",
        "### Let's Start Transfer Learning"
      ]
    },
    {
      "cell_type": "code",
      "metadata": {
        "id": "DyIzVZzSpbR2",
        "colab_type": "code",
        "colab": {
          "base_uri": "https://localhost:8080/",
          "height": 762,
          "referenced_widgets": [
            "7db6202826724bdfbc5f325fdc10b7c2",
            "d64d620e5bda46f983d06af75b023d03",
            "c1ea6bff87e341b4ae83741813951c68",
            "2dcc5a807ed84a63ba270632be384d3f",
            "e9cd154bd8ce4debb84ad7678df5fd23",
            "2b799b391b1c43d98eb5df95a8457c29",
            "b8dc4fe05282470b9405a82553a79c3f",
            "102e8626adb74630a845bba8a4a74150",
            "c150e82a5367486a88c0f6bd24a364a0",
            "341be6cd956741338c585caa90a93122",
            "51b258e2f0b045d788a23afe499b2b87",
            "2f8af97992064e68b7d9bfb3e1588396",
            "be53e92843e647ffb704effba60e0a7f",
            "ed874c72a51c49bb85538d8235026aec",
            "12b4fa4ec1c3403da4b4f4b84ae30e8f",
            "d6736718d5de41c6b9fd570eeed06cd0",
            "1a7bc32da8f1448794f9539e05536546",
            "f43916539a334c1cac2efb9f6fd2cb83",
            "e6825a2732d7460fac9f973b15ae2811",
            "b883bf0816ee4d439f83a6f33fc3462a",
            "1cfe2cadd5554861b8ead80a5f83fb2c",
            "ca8b41743be84a86b2b9e440110efbe5",
            "581ba43f7a1543c9a9071349e370a4e0",
            "020bd3eee4fe4acb8ebf8262aaa13e93",
            "ab04fec7985343c1a9e90ce132510564",
            "11254242d8084837b76d5f0a520248d8",
            "adf35319770645b29a376ac555f755b4",
            "e6d64276c9304d3dbc5c3ffb02e1bbbe",
            "29c975601ae645bd980abbe0e8180aeb",
            "c80503bcd4a74c9eb4e628f901cd0c92",
            "9e843b96b3d4406d99d7e7433449cbcd",
            "6b069b88b75a438398dc7326fbfddac2",
            "1a818f3a5c0940729ec5e4b96becece8",
            "2f88f4f51a7c4966a8c7ca3fa51233b4",
            "eef6cc276ad149a2a24c0369605a7f92",
            "7c82baf3a9224d6f964a1495df846500",
            "51ed6fa6875044e4a8fa2fe680de8ecb",
            "7b1516ccb78f4ca791fbf0d6ed785674",
            "ce947f829f954ff994fb71b9792b1c56",
            "b89196341f3540c693e3bcf0725fcd71",
            "ce3d7d07fbcc49d48325eeaced08c78d",
            "e854110ec3c9419989dfc8549c8877e0",
            "80be169cb52c479eb42cf0be1cfcffa4",
            "9b5667005bac4d13b0a93e695e5e97f1",
            "1ea32c953ea64eebae77b4ee41079af8",
            "f12426c0d5da4c5abd93b5127d6b3898",
            "0ce81ea96f9b43d584b916652e111d13",
            "936ed195e35946e38335648946ce4bfc",
            "a56f80a9141347a2a7171b340c3a326a",
            "ee36e19f36774a8b81c654b59dbf6905",
            "a389d2e1df784c23a89ede44877e9d76",
            "3420fd08f1bb439598abf417c8e11b83",
            "f064f81c9d764d4989380937760a576b",
            "6b493bc3ddf144869adcfc7ea6874ba1",
            "94f33839ae9240cf9f63a13ccb905b10",
            "0412b5c0c376442c992dc9641bc99560",
            "25c79e03ebd6442796cd4996476cc004",
            "a26f89658dca4837b5babdd775620f18",
            "bddf2973f3b048f2bc89de77288b8724",
            "39037e7c7539420a99431995fc18e83d",
            "9642ad277fec438990db23c16c498fb4",
            "c47d7d5a7baa45af8a183b71e49fc877",
            "adc309be3f8c4d0d9412535a5746a859",
            "04c93dfdff7b459db9d035b55a772c34"
          ]
        },
        "outputId": "31a63d2e-98b9-48ae-dd20-194b740d8cb0"
      },
      "source": [
        "import torch\n",
        "import torchvision.models as   models\n",
        "\n",
        "# define VGG-16 model for transfer learning\n",
        "vgg16 = models.vgg16(pretrained = True)                                         # true will give us pretrained model with layer by layer feature output. (so we are not only define network, but also want to use its extraction)\n",
        "\n",
        "# but, how can we define that this will give the best ourput, so its better to use other models such as alexnet, resnet18, resnet152, inception_v3 from google brain \n",
        " \n",
        "vgg16_bn = models.vgg16_bn(pretrained=True)                                     # batch normalization\n",
        "alexnet = models.alexnet(pretrained=True)                                       # alexnet - by Alex Krizhevsky, for ImageNet Large Scale Visual Recognition Challenge on September 30, 2012\n",
        "resnet18 = models.resnet18(pretrained=True)                                     # deep residual concept introduced by Kaiming He, Xiangyu Zhang, Shaoqing Ren, Jian Sun in 2015 (18 deep layers)\n",
        "resnet152 = models.resnet152(pretrained=True)                                   # same but with 152 deep layers (8 times more deeper than vgg, so aspecting high accuracy)\n",
        "inception_v3 = models.inception_v3(pretrained=True)                             # its from movie concept inception from 2012 and has internal closed loop structures and max pooling layers represented by google brain team\n",
        "squeezenet = models.squeezenet1_0(pretrained=True)\n",
        "densenet = models.densenet161(pretrained=True)\n",
        "googlenet = models.googlenet(pretrained=True)\n",
        "shufflenet = models.shufflenet_v2_x1_0(pretrained=True)\n",
        "mobilenet = models.mobilenet_v2(pretrained=True)\n",
        "resnext50_32x4d = models.resnext50_32x4d(pretrained=True)\n",
        "wide_resnet50_2 = models.wide_resnet50_2(pretrained=True)\n",
        "mnasnet = models.mnasnet1_0(pretrained=True)\n",
        "\n",
        "# make list of all models in evalution mode for later use\n",
        "\n",
        "model_list = [alexnet.eval(),vgg16.eval(),vgg16_bn.eval(),resnet18.eval(),resnet152.eval(),inception_v3.eval(),squeezenet1_0.eval(),densenet161.eval(),googlenet.eval(),shufflenet_v2_x1_0.eval(),mobilenet_v2.eval(),resnext50_32x4d.eval(),wide_resnet50_2.eval(),mnasnet1_0.eval()]\n",
        "model_names = [\"alexnet\",\"vgg16\",\"vgg16_bn\",\"resnet18\",\"resnet152\",\"inception_v3\",\"squeezenet1_0\",\"densenet161\",\"googlenet\",\"shufflenet_v2_x1_0\",\"mobilenet_v2\",\"resnext50_32x4d\",\"wide_resnet50_2\",\"mnasnet1_0\"]"
      ],
      "execution_count": 44,
      "outputs": [
        {
          "output_type": "stream",
          "text": [
            "Downloading: \"https://download.pytorch.org/models/squeezenet1_0-a815701f.pth\" to /root/.cache/torch/checkpoints/squeezenet1_0-a815701f.pth\n"
          ],
          "name": "stderr"
        },
        {
          "output_type": "display_data",
          "data": {
            "application/vnd.jupyter.widget-view+json": {
              "model_id": "7db6202826724bdfbc5f325fdc10b7c2",
              "version_minor": 0,
              "version_major": 2
            },
            "text/plain": [
              "HBox(children=(FloatProgress(value=0.0, max=5017600.0), HTML(value='')))"
            ]
          },
          "metadata": {
            "tags": []
          }
        },
        {
          "output_type": "stream",
          "text": [
            "\n"
          ],
          "name": "stdout"
        },
        {
          "output_type": "stream",
          "text": [
            "Downloading: \"https://download.pytorch.org/models/densenet161-8d451a50.pth\" to /root/.cache/torch/checkpoints/densenet161-8d451a50.pth\n"
          ],
          "name": "stderr"
        },
        {
          "output_type": "display_data",
          "data": {
            "application/vnd.jupyter.widget-view+json": {
              "model_id": "c150e82a5367486a88c0f6bd24a364a0",
              "version_minor": 0,
              "version_major": 2
            },
            "text/plain": [
              "HBox(children=(FloatProgress(value=0.0, max=115730790.0), HTML(value='')))"
            ]
          },
          "metadata": {
            "tags": []
          }
        },
        {
          "output_type": "stream",
          "text": [
            "\n"
          ],
          "name": "stdout"
        },
        {
          "output_type": "stream",
          "text": [
            "Downloading: \"https://download.pytorch.org/models/googlenet-1378be20.pth\" to /root/.cache/torch/checkpoints/googlenet-1378be20.pth\n"
          ],
          "name": "stderr"
        },
        {
          "output_type": "display_data",
          "data": {
            "application/vnd.jupyter.widget-view+json": {
              "model_id": "1a7bc32da8f1448794f9539e05536546",
              "version_minor": 0,
              "version_major": 2
            },
            "text/plain": [
              "HBox(children=(FloatProgress(value=0.0, max=52147035.0), HTML(value='')))"
            ]
          },
          "metadata": {
            "tags": []
          }
        },
        {
          "output_type": "stream",
          "text": [
            "\n"
          ],
          "name": "stdout"
        },
        {
          "output_type": "stream",
          "text": [
            "Downloading: \"https://download.pytorch.org/models/shufflenetv2_x1-5666bf0f80.pth\" to /root/.cache/torch/checkpoints/shufflenetv2_x1-5666bf0f80.pth\n"
          ],
          "name": "stderr"
        },
        {
          "output_type": "display_data",
          "data": {
            "application/vnd.jupyter.widget-view+json": {
              "model_id": "ab04fec7985343c1a9e90ce132510564",
              "version_minor": 0,
              "version_major": 2
            },
            "text/plain": [
              "HBox(children=(FloatProgress(value=0.0, max=9218294.0), HTML(value='')))"
            ]
          },
          "metadata": {
            "tags": []
          }
        },
        {
          "output_type": "stream",
          "text": [
            "\n"
          ],
          "name": "stdout"
        },
        {
          "output_type": "stream",
          "text": [
            "Downloading: \"https://download.pytorch.org/models/mobilenet_v2-b0353104.pth\" to /root/.cache/torch/checkpoints/mobilenet_v2-b0353104.pth\n"
          ],
          "name": "stderr"
        },
        {
          "output_type": "display_data",
          "data": {
            "application/vnd.jupyter.widget-view+json": {
              "model_id": "1a818f3a5c0940729ec5e4b96becece8",
              "version_minor": 0,
              "version_major": 2
            },
            "text/plain": [
              "HBox(children=(FloatProgress(value=0.0, max=14212972.0), HTML(value='')))"
            ]
          },
          "metadata": {
            "tags": []
          }
        },
        {
          "output_type": "stream",
          "text": [
            "\n"
          ],
          "name": "stdout"
        },
        {
          "output_type": "stream",
          "text": [
            "Downloading: \"https://download.pytorch.org/models/resnext50_32x4d-7cdf4587.pth\" to /root/.cache/torch/checkpoints/resnext50_32x4d-7cdf4587.pth\n"
          ],
          "name": "stderr"
        },
        {
          "output_type": "display_data",
          "data": {
            "application/vnd.jupyter.widget-view+json": {
              "model_id": "ce3d7d07fbcc49d48325eeaced08c78d",
              "version_minor": 0,
              "version_major": 2
            },
            "text/plain": [
              "HBox(children=(FloatProgress(value=0.0, max=100441675.0), HTML(value='')))"
            ]
          },
          "metadata": {
            "tags": []
          }
        },
        {
          "output_type": "stream",
          "text": [
            "\n"
          ],
          "name": "stdout"
        },
        {
          "output_type": "stream",
          "text": [
            "Downloading: \"https://download.pytorch.org/models/wide_resnet50_2-95faca4d.pth\" to /root/.cache/torch/checkpoints/wide_resnet50_2-95faca4d.pth\n"
          ],
          "name": "stderr"
        },
        {
          "output_type": "display_data",
          "data": {
            "application/vnd.jupyter.widget-view+json": {
              "model_id": "a56f80a9141347a2a7171b340c3a326a",
              "version_minor": 0,
              "version_major": 2
            },
            "text/plain": [
              "HBox(children=(FloatProgress(value=0.0, max=138223492.0), HTML(value='')))"
            ]
          },
          "metadata": {
            "tags": []
          }
        },
        {
          "output_type": "stream",
          "text": [
            "\n"
          ],
          "name": "stdout"
        },
        {
          "output_type": "stream",
          "text": [
            "Downloading: \"https://download.pytorch.org/models/mnasnet1.0_top1_73.512-f206786ef8.pth\" to /root/.cache/torch/checkpoints/mnasnet1.0_top1_73.512-f206786ef8.pth\n"
          ],
          "name": "stderr"
        },
        {
          "output_type": "display_data",
          "data": {
            "application/vnd.jupyter.widget-view+json": {
              "model_id": "25c79e03ebd6442796cd4996476cc004",
              "version_minor": 0,
              "version_major": 2
            },
            "text/plain": [
              "HBox(children=(FloatProgress(value=0.0, max=17736997.0), HTML(value='')))"
            ]
          },
          "metadata": {
            "tags": []
          }
        },
        {
          "output_type": "stream",
          "text": [
            "\n"
          ],
          "name": "stdout"
        },
        {
          "output_type": "error",
          "ename": "NameError",
          "evalue": "ignored",
          "traceback": [
            "\u001b[0;31m---------------------------------------------------------------------------\u001b[0m",
            "\u001b[0;31mNameError\u001b[0m                                 Traceback (most recent call last)",
            "\u001b[0;32m<ipython-input-44-0af437e28a0f>\u001b[0m in \u001b[0;36m<module>\u001b[0;34m()\u001b[0m\n\u001b[1;32m     23\u001b[0m \u001b[0;31m# make list of all models in evalution mode for later use\u001b[0m\u001b[0;34m\u001b[0m\u001b[0;34m\u001b[0m\u001b[0;34m\u001b[0m\u001b[0m\n\u001b[1;32m     24\u001b[0m \u001b[0;34m\u001b[0m\u001b[0m\n\u001b[0;32m---> 25\u001b[0;31m \u001b[0mmodel_list\u001b[0m \u001b[0;34m=\u001b[0m \u001b[0;34m[\u001b[0m\u001b[0malexnet\u001b[0m\u001b[0;34m.\u001b[0m\u001b[0meval\u001b[0m\u001b[0;34m(\u001b[0m\u001b[0;34m)\u001b[0m\u001b[0;34m,\u001b[0m\u001b[0mvgg16\u001b[0m\u001b[0;34m.\u001b[0m\u001b[0meval\u001b[0m\u001b[0;34m(\u001b[0m\u001b[0;34m)\u001b[0m\u001b[0;34m,\u001b[0m\u001b[0mvgg16_bn\u001b[0m\u001b[0;34m.\u001b[0m\u001b[0meval\u001b[0m\u001b[0;34m(\u001b[0m\u001b[0;34m)\u001b[0m\u001b[0;34m,\u001b[0m\u001b[0mresnet18\u001b[0m\u001b[0;34m.\u001b[0m\u001b[0meval\u001b[0m\u001b[0;34m(\u001b[0m\u001b[0;34m)\u001b[0m\u001b[0;34m,\u001b[0m\u001b[0mresnet152\u001b[0m\u001b[0;34m.\u001b[0m\u001b[0meval\u001b[0m\u001b[0;34m(\u001b[0m\u001b[0;34m)\u001b[0m\u001b[0;34m,\u001b[0m\u001b[0minception_v3\u001b[0m\u001b[0;34m.\u001b[0m\u001b[0meval\u001b[0m\u001b[0;34m(\u001b[0m\u001b[0;34m)\u001b[0m\u001b[0;34m,\u001b[0m\u001b[0msqueezenet1_0\u001b[0m\u001b[0;34m.\u001b[0m\u001b[0meval\u001b[0m\u001b[0;34m(\u001b[0m\u001b[0;34m)\u001b[0m\u001b[0;34m,\u001b[0m\u001b[0mdensenet161\u001b[0m\u001b[0;34m.\u001b[0m\u001b[0meval\u001b[0m\u001b[0;34m(\u001b[0m\u001b[0;34m)\u001b[0m\u001b[0;34m,\u001b[0m\u001b[0mgooglenet\u001b[0m\u001b[0;34m.\u001b[0m\u001b[0meval\u001b[0m\u001b[0;34m(\u001b[0m\u001b[0;34m)\u001b[0m\u001b[0;34m,\u001b[0m\u001b[0mshufflenet_v2_x1_0\u001b[0m\u001b[0;34m.\u001b[0m\u001b[0meval\u001b[0m\u001b[0;34m(\u001b[0m\u001b[0;34m)\u001b[0m\u001b[0;34m,\u001b[0m\u001b[0mmobilenet_v2\u001b[0m\u001b[0;34m.\u001b[0m\u001b[0meval\u001b[0m\u001b[0;34m(\u001b[0m\u001b[0;34m)\u001b[0m\u001b[0;34m,\u001b[0m\u001b[0mresnext50_32x4d\u001b[0m\u001b[0;34m.\u001b[0m\u001b[0meval\u001b[0m\u001b[0;34m(\u001b[0m\u001b[0;34m)\u001b[0m\u001b[0;34m,\u001b[0m\u001b[0mwide_resnet50_2\u001b[0m\u001b[0;34m.\u001b[0m\u001b[0meval\u001b[0m\u001b[0;34m(\u001b[0m\u001b[0;34m)\u001b[0m\u001b[0;34m,\u001b[0m\u001b[0mmnasnet1_0\u001b[0m\u001b[0;34m.\u001b[0m\u001b[0meval\u001b[0m\u001b[0;34m(\u001b[0m\u001b[0;34m)\u001b[0m\u001b[0;34m]\u001b[0m\u001b[0;34m\u001b[0m\u001b[0;34m\u001b[0m\u001b[0m\n\u001b[0m\u001b[1;32m     26\u001b[0m \u001b[0mmodel_names\u001b[0m \u001b[0;34m=\u001b[0m \u001b[0;34m[\u001b[0m\u001b[0;34m\"alexnet\"\u001b[0m\u001b[0;34m,\u001b[0m\u001b[0;34m\"vgg16\"\u001b[0m\u001b[0;34m,\u001b[0m\u001b[0;34m\"vgg16_bn\"\u001b[0m\u001b[0;34m,\u001b[0m\u001b[0;34m\"resnet18\"\u001b[0m\u001b[0;34m,\u001b[0m\u001b[0;34m\"resnet152\"\u001b[0m\u001b[0;34m,\u001b[0m\u001b[0;34m\"inception_v3\"\u001b[0m\u001b[0;34m,\u001b[0m\u001b[0;34m\"squeezenet1_0\"\u001b[0m\u001b[0;34m,\u001b[0m\u001b[0;34m\"densenet161\"\u001b[0m\u001b[0;34m,\u001b[0m\u001b[0;34m\"googlenet\"\u001b[0m\u001b[0;34m,\u001b[0m\u001b[0;34m\"shufflenet_v2_x1_0\"\u001b[0m\u001b[0;34m,\u001b[0m\u001b[0;34m\"mobilenet_v2\"\u001b[0m\u001b[0;34m,\u001b[0m\u001b[0;34m\"resnext50_32x4d\"\u001b[0m\u001b[0;34m,\u001b[0m\u001b[0;34m\"wide_resnet50_2\"\u001b[0m\u001b[0;34m,\u001b[0m\u001b[0;34m\"mnasnet1_0\"\u001b[0m\u001b[0;34m]\u001b[0m\u001b[0;34m\u001b[0m\u001b[0;34m\u001b[0m\u001b[0m\n",
            "\u001b[0;31mNameError\u001b[0m: name 'squeezenet1_0' is not defined"
          ]
        }
      ]
    },
    {
      "cell_type": "code",
      "metadata": {
        "id": "1iGCMPMJSYBR",
        "colab_type": "code",
        "colab": {}
      },
      "source": [
        "Not now, so I am here to create error> :)\n",
        "\n",
        "squeezenet = models.squeezenet1_0(pretrained=True)\n",
        "densenet = models.densenet161(pretrained=True)\n",
        "googlenet = models.googlenet(pretrained=True)\n",
        "shufflenet = models.shufflenet_v2_x1_0(pretrained=True)\n",
        "mobilenet = models.mobilenet_v2(pretrained=True)\n",
        "resnext50_32x4d = models.resnext50_32x4d(pretrained=True)\n",
        "wide_resnet50_2 = models.wide_resnet50_2(pretrained=True)\n",
        "mnasnet = models.mnasnet1_0(pretrained=True)"
      ],
      "execution_count": null,
      "outputs": []
    },
    {
      "cell_type": "code",
      "metadata": {
        "id": "r3XpaGuZaDuf",
        "colab_type": "code",
        "colab": {
          "base_uri": "https://localhost:8080/",
          "height": 51
        },
        "outputId": "47be5d80-32cd-4b58-cbbb-6f5fe1cb4e5e"
      },
      "source": [
        "# check cuda for fast computation. \n",
        "\n",
        "use_cuda = torch.cuda.is_available()\n",
        "if not use_cuda:\n",
        "  print('CUDA is not available so run on cpu or enable gpu not tpu  from colab runtime incase of colab and run this cell again')\n",
        "  device = 'cpu'\n",
        "else:\n",
        "  print('CUDA is available. Training is accelerated')\n",
        "  device = torch.device('cuda:0')\n",
        "  print('Using', torch.cuda.get_device_name(device))\n",
        "\n",
        "vgg16 = vgg16.to(device)"
      ],
      "execution_count": 29,
      "outputs": [
        {
          "output_type": "stream",
          "text": [
            "CUDA is available. Training is accelerated\n",
            "Using Tesla P100-PCIE-16GB\n"
          ],
          "name": "stdout"
        }
      ]
    },
    {
      "cell_type": "markdown",
      "metadata": {
        "id": "NAHV9-TXGmB2",
        "colab_type": "text"
      },
      "source": [
        "Now, we have our model on the instace, so its time to predict our data output from pretrained model. \n",
        "\n",
        "These network (CNN) specially working with tensors, so first I will convert tensor to data (image,as we store data in tensor form with numpy) and then I will repreat the same procedure by making some relevant functions.\n",
        "\n",
        "To convert data to tensor please use pytorch's [documentation](https://pytorch.org/docs/stable/tensors.html). Specially, how to copy data and making tensor part. What are the procedure to copy tensor with same length with different data."
      ]
    },
    {
      "cell_type": "code",
      "metadata": {
        "id": "WLzHdJOdpbR4",
        "colab_type": "code",
        "colab": {}
      },
      "source": [
        "# convert tensor to image data type for display\n",
        "def convert_dataToTensor(tensor):\n",
        "  data = tensor.to(\"cpu\").clone().detach()                                      # .clone.detach() used for readout data and avoid to copy [to save space]\n",
        "  data = data.numpy().squeeze()                                                 # unflattening\n",
        "  data = data.transpose(1,2,0)                                                  # in gray image\n",
        "  image = data * np.array((0.229,0.224,0.225)) + np.array((0.485,0,456,0.406))      # data * norm_std + norm_mean ===> data normalization.                              #### EROOR : () vs (())\n",
        "  image = image.clip(0,1)                                                       # .clip is numpy function so, (value<0 => 0) and (value>1 => 1) \n",
        "  return image"
      ],
      "execution_count": 30,
      "outputs": []
    },
    {
      "cell_type": "code",
      "metadata": {
        "id": "Bs8uS9OeV2fi",
        "colab_type": "code",
        "colab": {}
      },
      "source": [
        "# display image form path  # here, colab has different appraoch with cv2.imread(), that only accept image path not from list. \n",
        "def show_image_from_path(img_path, title = None):\n",
        "    img = cv2.cvtColor(cv2.imread(img_path), cv2.COLOR_BGR2RGB)\n",
        "    plt.imshow(img)\n",
        "    plt.gca().set_xticks([])\n",
        "    plt.gca().set_yticks([])\n",
        "    if title is not None:\n",
        "        plt.gca().set_title(title)\n",
        "    plt.show()"
      ],
      "execution_count": 31,
      "outputs": []
    },
    {
      "cell_type": "code",
      "metadata": {
        "id": "Jp9XMA4K3ef0",
        "colab_type": "code",
        "colab": {}
      },
      "source": [
        "# predefined parameters \n",
        "norm_mean = [0.485, 0.456, 0.406]\n",
        "norm_std = [0.229, 0.224, 0.225]\n",
        "img_short_side_resize = 256\n",
        "img_input_size = 224\n",
        "shuffle = True\n",
        "num_workers = 16\n",
        "batch_size = 64"
      ],
      "execution_count": 32,
      "outputs": []
    },
    {
      "cell_type": "code",
      "metadata": {
        "id": "a5Mn4pSBWn1h",
        "colab_type": "code",
        "colab": {}
      },
      "source": [
        "from PIL import Image\n",
        "import torchvision.transforms as transforms\n",
        "import json\n",
        "from PIL import ImageFile\n",
        "ImageFile.LOAD_TRUNCATED_IMAGES = True\n",
        "\n",
        "class_idx = json.load(open('/content/drive/My Drive/Data /imagenet_class_index.json'))                        # json format of imagenet data class name (1000 classes - labels)\n",
        "idx2label = [class_idx[str(k)][1] for k in range(len(class_idx))]               # json format consist, as an example: , \"996\": [\"n13052670\", \"hen-of-the-woods\"] and we want hen-of-the-woods. \n",
        "\n",
        "def model_predict(img_path,model,device): \n",
        "  image = Image.open(img_path).convert('RGB')\n",
        "  in_transform = transforms.Compose([\n",
        "                                     transforms.Resize(img_short_side_resize),\n",
        "                                     transforms.FiveCrop(img_input_size),\n",
        "                                     transforms.Lambda(lambda crops: torch.stack([transforms.Compose([\n",
        "                                                                                                      transforms.ToTensor(),\n",
        "                                                                                                      transforms.Normalize(mean=norm_mean, std = norm_std)])(crop) for crop in crops]))])\n",
        "  output =  torch.argmax(model(in_transform(image).to(device)).mean(0))\n",
        "  return output.to(\"cpu\").item() \n"
      ],
      "execution_count": 33,
      "outputs": []
    },
    {
      "cell_type": "code",
      "metadata": {
        "id": "LpPT_l6w2Ufd",
        "colab_type": "code",
        "colab": {
          "base_uri": "https://localhost:8080/",
          "height": 268
        },
        "outputId": "a0a5fae0-02e1-483a-c832-ef04d9ac96e8"
      },
      "source": [
        "# make prediction with transfer learning\n",
        "test_image = dog_files_short[0]\n",
        "pred = model_predict(test_image, vgg16, device)\n",
        "show_image_from_path(test_image,title = idx2label[pred])"
      ],
      "execution_count": 34,
      "outputs": [
        {
          "output_type": "display_data",
          "data": {
            "image/png": "[encoded data removed]",
            "text/plain": [
              "<Figure size 432x288 with 1 Axes>"
            ]
          },
          "metadata": {
            "tags": []
          }
        }
      ]
    },
    {
      "cell_type": "markdown",
      "metadata": {
        "id": "LJlts57X_dtt",
        "colab_type": "text"
      },
      "source": [
        "Now, the question is how this algorihtm predict dog directly, even without giving our modified dog classes?, the answer is hiding in ImageNet ownself. If you observe the json file you download,then the index from 151 to 168 are related to dogs.\n",
        "\n",
        "---\n",
        "\n",
        "Our pretrained easily found the dog breed name, but **What about the accuracy of algorithm?**\n",
        "\n",
        "---\n",
        "\n",
        "> Well, we have two kind of datasets with pure data inside. So, if we know how much accuracy algorithm has for dog and human dataset for dog classification, will give us accuracy of algorithm. "
      ]
    },
    {
      "cell_type": "code",
      "metadata": {
        "id": "_NWpVc0l8TfF",
        "colab_type": "code",
        "colab": {}
      },
      "source": [
        "# define dog_detector... \n",
        "def dog_detector(img_path,model,device):\n",
        "  out = model_predict(img_path,model,device)                                    ## bug detected, model was static, solved...\n",
        "  return out>=151 and out<=268 "
      ],
      "execution_count": 35,
      "outputs": []
    },
    {
      "cell_type": "code",
      "metadata": {
        "id": "b6HSuMW1-ujn",
        "colab_type": "code",
        "colab": {
          "base_uri": "https://localhost:8080/",
          "height": 51
        },
        "outputId": "a6c73314-4cfa-4329-f7fe-c337f12ccae9"
      },
      "source": [
        "# check the real accuracy of dog_classification from vgg16. \n",
        "dogs_detected_correctly = [dog_detector(img_path,vgg16,device) for img_path in dog_files_short]                         # I use short file to predict quickly ...\n",
        "dogs_detected_incorrectly = [dog_detector(img_path,vgg16,device) for img_path in human_files_short]\n",
        "\n",
        "true_positive = np.mean(dogs_detected_correctly)\n",
        "false_positive = np.mean(dogs_detected_incorrectly)\n",
        "\n",
        "print(true_positive *100, \" percent dogs classified correctly\" )\n",
        "print(false_positive * 100, \" percent dogs classified incorrectly and confused human as dogs\")"
      ],
      "execution_count": 36,
      "outputs": [
        {
          "output_type": "stream",
          "text": [
            "99.0  percent dogs classified correctly\n",
            "0.0  percent dogs classified incorrectly and confused human as dogs\n"
          ],
          "name": "stdout"
        }
      ]
    },
    {
      "cell_type": "markdown",
      "metadata": {
        "id": "tuiIUqj4FLia",
        "colab_type": "text"
      },
      "source": [
        "Our this algorithm is superior, and as we download other pretrained networks, so let's **Compare all these Networks**.\n",
        "\n",
        "---\n",
        "\n",
        "**NOTE:** \n",
        "- Here, I have problem with cuda and it crashes during process. Si, I can not able to solved. So, I use my local cpu power, but because I am using colab with enable gpu, still it will accelarate our process. \n",
        "\n",
        "- if you have not such problem with anaconda environemnt then enable torch.cuda.empty_cache() and upload model by model_list[i].cuda() or .to(device) method. At the end please enable model.to(\"cpu\") for visualization purpose. "
      ]
    },
    {
      "cell_type": "code",
      "metadata": {
        "id": "irIu_ppeDKZC",
        "colab_type": "code",
        "colab": {}
      },
      "source": [
        "vgg16 = vgg16.to('cpu')                                                        # its for later use \n",
        "torch.cuda.empty_cache()                                                       # free some memory, because now we will train other 5 models\n",
        "true_positive_accuracy = np.zeros(len(model_list))                              # initialize list\n",
        "false_positive_accuracy = np.zeros(len(model_list))\n",
        "for i in range(len(model_list)):\n",
        "  model = model_list[i].to(device)                                                                                       # attension to model with index i\n",
        "  true_positive_accuracy[i] = np.mean([dog_detector(img_path, model,device =device) for img_path in dog_files_short])                  # update list according to resultant accuracy\n",
        "  false_positive_accuracy[i] = np.mean([dog_detector(img_path,model,device = device) for img_path in human_files_short])\n",
        "  model = model.to(\"cpu\")                                                                                                     # for visualization comparison "
      ],
      "execution_count": 39,
      "outputs": []
    },
    {
      "cell_type": "code",
      "metadata": {
        "id": "ZV1gAh_dGkAA",
        "colab_type": "code",
        "colab": {
          "base_uri": "https://localhost:8080/",
          "height": 403
        },
        "outputId": "3976c965-339d-4724-8b5b-f62eb75b928f"
      },
      "source": [
        "# visualize all networks. \n",
        "idx_tp = np.argsort(true_positive_accuracy)           # (descending order)\n",
        "idx_fp = np.argsort(false_positive_accuracy)          # (accending order)\n",
        "\n",
        "fig,ax = plt.subplots(1,2,figsize = (18,8))\n",
        "ax[0].bar([model_names[i] for i in idx_tp],true_positive_accuracy[idx_tp])\n",
        "ax[0].set_title(\"Dog detection first 100 images: true positive rate high to low\")\n",
        "ax[0].set_ylim((0.93,1.0))\n",
        "ax[1].bar([model_names[i] for i in idx_fp],false_positive_accuracy[idx_fp])\n",
        "ax[1].set_title(\"Dog detection first 100 images: false positive rate low to high\")\n",
        "plt.show()"
      ],
      "execution_count": 43,
      "outputs": [
        {
          "output_type": "display_data",
          "data": {
            "image/png": "[encoded data removed]",
            "text/plain": [
              "<Figure size 1296x576 with 2 Axes>"
            ]
          },
          "metadata": {
            "tags": [],
            "needs_background": "light"
          }
        }
      ]
    },
    {
      "cell_type": "markdown",
      "metadata": {
        "id": "cAgh6tfEX_og",
        "colab_type": "text"
      },
      "source": [
        "For, whole dataset."
      ]
    },
    {
      "cell_type": "code",
      "metadata": {
        "id": "b_vMGaTvGj87",
        "colab_type": "code",
        "colab": {}
      },
      "source": [
        "vgg16 = vgg16.to('cpu')                                                        # its for later use \n",
        "torch.cuda.empty_cache()                                                       # free some memory, because now we will train other 5 models\n",
        "true_positive_accuracy = np.zeros(len(model_list))                              # initialize list\n",
        "false_positive_accuracy = np.zeros(len(model_list))\n",
        "for i in range(len(model_list)):\n",
        "  model = model_list[i].to(device)                                                                                         # attension to model with index i\n",
        "  true_positive_accuracy[i] = np.mean([dog_detector(img_path, model, device = device) for img_path in dog_files])                  # update list according to resultant accuracy\n",
        "  false_positive_accuracy[i] = np.mean([dog_detector(img_path,model,device = device) for img_path in human_files])\n",
        "  model = model.to(\"cpu\")"
      ],
      "execution_count": 41,
      "outputs": []
    },
    {
      "cell_type": "code",
      "metadata": {
        "id": "nhZKYJbsX-en",
        "colab_type": "code",
        "colab": {
          "base_uri": "https://localhost:8080/",
          "height": 229
        },
        "outputId": "9a19c81f-7e8a-4a78-97f2-fb516f4a100e"
      },
      "source": [
        "# visualize all networks. \n",
        "idx_tp = np.argsort(true_positive_accuracy)[::-1]      #(descending order)\n",
        "idx_fp = np.argsort(false_positive_accuracy)          # (accending order)\n",
        "\n",
        "fig,ax = plt.subplots(1,2,figsize = (18,4))\n",
        "ax[0].bar([model_names[i] for i in idx_tp],true_positive_accuracy[idx_tp])\n",
        "ax[0].set_title(\"Dog detection first 100 images: true positive rate high to low\")\n",
        "ax[0].set_ylim((0.9,1.01))\n",
        "ax[1].bar([model_names[i] for i in idx_fp],false_positive_accuracy[idx_fp])\n",
        "ax[1].set_title(\"Dog detection first 100 images: false positive rate low to high\")\n",
        "plt.show()"
      ],
      "execution_count": 42,
      "outputs": [
        {
          "output_type": "display_data",
          "data": {
            "image/png": "[encoded data removed]",
            "text/plain": [
              "<Figure size 1296x288 with 2 Axes>"
            ]
          },
          "metadata": {
            "tags": [],
            "needs_background": "light"
          }
        }
      ]
    },
    {
      "cell_type": "code",
      "metadata": {
        "id": "3i3vPtisX-bP",
        "colab_type": "code",
        "colab": {}
      },
      "source": [
        ""
      ],
      "execution_count": null,
      "outputs": []
    },
    {
      "cell_type": "code",
      "metadata": {
        "id": "fHbeaq--Gj6k",
        "colab_type": "code",
        "colab": {}
      },
      "source": [
        "# Keep Learning, Enjoy Empowering. "
      ],
      "execution_count": null,
      "outputs": []
    },
    {
      "cell_type": "code",
      "metadata": {
        "id": "ntBhUhKtXlTt",
        "colab_type": "code",
        "colab": {}
      },
      "source": [
        ""
      ],
      "execution_count": null,
      "outputs": []
    }
  ]
}
