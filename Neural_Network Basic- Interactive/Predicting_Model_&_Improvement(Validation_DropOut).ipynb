{
  "nbformat": 4,
  "nbformat_minor": 0,
  "metadata": {
    "colab": {
      "name": "Predicting_Model_&_Improvement(Validation|DropOut).ipynb",
      "provenance": [],
      "collapsed_sections": []
    },
    "kernelspec": {
      "name": "python3",
      "display_name": "Python 3"
    },
    "accelerator": "TPU",
    "widgets": {
      "application/vnd.jupyter.widget-state+json": {
        "2acefd54b5d74249b7fd40e9bc3dd9b7": {
          "model_module": "@jupyter-widgets/controls",
          "model_name": "HBoxModel",
          "state": {
            "_view_name": "HBoxView",
            "_dom_classes": [],
            "_model_name": "HBoxModel",
            "_view_module": "@jupyter-widgets/controls",
            "_model_module_version": "1.5.0",
            "_view_count": null,
            "_view_module_version": "1.5.0",
            "box_style": "",
            "layout": "IPY_MODEL_eac1bc57d5524fdd86ee271f1a955252",
            "_model_module": "@jupyter-widgets/controls",
            "children": [
              "IPY_MODEL_bcb1e708395d4a23b0b3da858fb1c393",
              "IPY_MODEL_343db57e01674cbf8cb21a99a2c92a6b"
            ]
          }
        },
        "eac1bc57d5524fdd86ee271f1a955252": {
          "model_module": "@jupyter-widgets/base",
          "model_name": "LayoutModel",
          "state": {
            "_view_name": "LayoutView",
            "grid_template_rows": null,
            "right": null,
            "justify_content": null,
            "_view_module": "@jupyter-widgets/base",
            "overflow": null,
            "_model_module_version": "1.2.0",
            "_view_count": null,
            "flex_flow": null,
            "width": null,
            "min_width": null,
            "border": null,
            "align_items": null,
            "bottom": null,
            "_model_module": "@jupyter-widgets/base",
            "top": null,
            "grid_column": null,
            "overflow_y": null,
            "overflow_x": null,
            "grid_auto_flow": null,
            "grid_area": null,
            "grid_template_columns": null,
            "flex": null,
            "_model_name": "LayoutModel",
            "justify_items": null,
            "grid_row": null,
            "max_height": null,
            "align_content": null,
            "visibility": null,
            "align_self": null,
            "height": null,
            "min_height": null,
            "padding": null,
            "grid_auto_rows": null,
            "grid_gap": null,
            "max_width": null,
            "order": null,
            "_view_module_version": "1.2.0",
            "grid_template_areas": null,
            "object_position": null,
            "object_fit": null,
            "grid_auto_columns": null,
            "margin": null,
            "display": null,
            "left": null
          }
        },
        "bcb1e708395d4a23b0b3da858fb1c393": {
          "model_module": "@jupyter-widgets/controls",
          "model_name": "IntProgressModel",
          "state": {
            "_view_name": "ProgressView",
            "style": "IPY_MODEL_84fdd79e5e9f46f989e97bdeef7e22a8",
            "_dom_classes": [],
            "description": "",
            "_model_name": "IntProgressModel",
            "bar_style": "success",
            "max": 1,
            "_view_module": "@jupyter-widgets/controls",
            "_model_module_version": "1.5.0",
            "value": 1,
            "_view_count": null,
            "_view_module_version": "1.5.0",
            "orientation": "horizontal",
            "min": 0,
            "description_tooltip": null,
            "_model_module": "@jupyter-widgets/controls",
            "layout": "IPY_MODEL_9dd8ac43ca6944cdbcaa3814444c73d5"
          }
        },
        "343db57e01674cbf8cb21a99a2c92a6b": {
          "model_module": "@jupyter-widgets/controls",
          "model_name": "HTMLModel",
          "state": {
            "_view_name": "HTMLView",
            "style": "IPY_MODEL_e0f8901a0d4b4d8ea9baedd5b785a685",
            "_dom_classes": [],
            "description": "",
            "_model_name": "HTMLModel",
            "placeholder": "​",
            "_view_module": "@jupyter-widgets/controls",
            "_model_module_version": "1.5.0",
            "value": " 26427392/? [00:04&lt;00:00, 5516714.31it/s]",
            "_view_count": null,
            "_view_module_version": "1.5.0",
            "description_tooltip": null,
            "_model_module": "@jupyter-widgets/controls",
            "layout": "IPY_MODEL_cf66d8cddbaa45fe970421d27cfe65f2"
          }
        },
        "84fdd79e5e9f46f989e97bdeef7e22a8": {
          "model_module": "@jupyter-widgets/controls",
          "model_name": "ProgressStyleModel",
          "state": {
            "_view_name": "StyleView",
            "_model_name": "ProgressStyleModel",
            "description_width": "initial",
            "_view_module": "@jupyter-widgets/base",
            "_model_module_version": "1.5.0",
            "_view_count": null,
            "_view_module_version": "1.2.0",
            "bar_color": null,
            "_model_module": "@jupyter-widgets/controls"
          }
        },
        "9dd8ac43ca6944cdbcaa3814444c73d5": {
          "model_module": "@jupyter-widgets/base",
          "model_name": "LayoutModel",
          "state": {
            "_view_name": "LayoutView",
            "grid_template_rows": null,
            "right": null,
            "justify_content": null,
            "_view_module": "@jupyter-widgets/base",
            "overflow": null,
            "_model_module_version": "1.2.0",
            "_view_count": null,
            "flex_flow": null,
            "width": null,
            "min_width": null,
            "border": null,
            "align_items": null,
            "bottom": null,
            "_model_module": "@jupyter-widgets/base",
            "top": null,
            "grid_column": null,
            "overflow_y": null,
            "overflow_x": null,
            "grid_auto_flow": null,
            "grid_area": null,
            "grid_template_columns": null,
            "flex": null,
            "_model_name": "LayoutModel",
            "justify_items": null,
            "grid_row": null,
            "max_height": null,
            "align_content": null,
            "visibility": null,
            "align_self": null,
            "height": null,
            "min_height": null,
            "padding": null,
            "grid_auto_rows": null,
            "grid_gap": null,
            "max_width": null,
            "order": null,
            "_view_module_version": "1.2.0",
            "grid_template_areas": null,
            "object_position": null,
            "object_fit": null,
            "grid_auto_columns": null,
            "margin": null,
            "display": null,
            "left": null
          }
        },
        "e0f8901a0d4b4d8ea9baedd5b785a685": {
          "model_module": "@jupyter-widgets/controls",
          "model_name": "DescriptionStyleModel",
          "state": {
            "_view_name": "StyleView",
            "_model_name": "DescriptionStyleModel",
            "description_width": "",
            "_view_module": "@jupyter-widgets/base",
            "_model_module_version": "1.5.0",
            "_view_count": null,
            "_view_module_version": "1.2.0",
            "_model_module": "@jupyter-widgets/controls"
          }
        },
        "cf66d8cddbaa45fe970421d27cfe65f2": {
          "model_module": "@jupyter-widgets/base",
          "model_name": "LayoutModel",
          "state": {
            "_view_name": "LayoutView",
            "grid_template_rows": null,
            "right": null,
            "justify_content": null,
            "_view_module": "@jupyter-widgets/base",
            "overflow": null,
            "_model_module_version": "1.2.0",
            "_view_count": null,
            "flex_flow": null,
            "width": null,
            "min_width": null,
            "border": null,
            "align_items": null,
            "bottom": null,
            "_model_module": "@jupyter-widgets/base",
            "top": null,
            "grid_column": null,
            "overflow_y": null,
            "overflow_x": null,
            "grid_auto_flow": null,
            "grid_area": null,
            "grid_template_columns": null,
            "flex": null,
            "_model_name": "LayoutModel",
            "justify_items": null,
            "grid_row": null,
            "max_height": null,
            "align_content": null,
            "visibility": null,
            "align_self": null,
            "height": null,
            "min_height": null,
            "padding": null,
            "grid_auto_rows": null,
            "grid_gap": null,
            "max_width": null,
            "order": null,
            "_view_module_version": "1.2.0",
            "grid_template_areas": null,
            "object_position": null,
            "object_fit": null,
            "grid_auto_columns": null,
            "margin": null,
            "display": null,
            "left": null
          }
        },
        "de3a22f26d37471b9ca8e8958b8a9e2a": {
          "model_module": "@jupyter-widgets/controls",
          "model_name": "HBoxModel",
          "state": {
            "_view_name": "HBoxView",
            "_dom_classes": [],
            "_model_name": "HBoxModel",
            "_view_module": "@jupyter-widgets/controls",
            "_model_module_version": "1.5.0",
            "_view_count": null,
            "_view_module_version": "1.5.0",
            "box_style": "",
            "layout": "IPY_MODEL_f438d953e9cb4837a7898eea9ae3e738",
            "_model_module": "@jupyter-widgets/controls",
            "children": [
              "IPY_MODEL_b3b832b3c24e4c39aa540050405f663a",
              "IPY_MODEL_3bb43372b3a74875b5d55b8a8925cb11"
            ]
          }
        },
        "f438d953e9cb4837a7898eea9ae3e738": {
          "model_module": "@jupyter-widgets/base",
          "model_name": "LayoutModel",
          "state": {
            "_view_name": "LayoutView",
            "grid_template_rows": null,
            "right": null,
            "justify_content": null,
            "_view_module": "@jupyter-widgets/base",
            "overflow": null,
            "_model_module_version": "1.2.0",
            "_view_count": null,
            "flex_flow": null,
            "width": null,
            "min_width": null,
            "border": null,
            "align_items": null,
            "bottom": null,
            "_model_module": "@jupyter-widgets/base",
            "top": null,
            "grid_column": null,
            "overflow_y": null,
            "overflow_x": null,
            "grid_auto_flow": null,
            "grid_area": null,
            "grid_template_columns": null,
            "flex": null,
            "_model_name": "LayoutModel",
            "justify_items": null,
            "grid_row": null,
            "max_height": null,
            "align_content": null,
            "visibility": null,
            "align_self": null,
            "height": null,
            "min_height": null,
            "padding": null,
            "grid_auto_rows": null,
            "grid_gap": null,
            "max_width": null,
            "order": null,
            "_view_module_version": "1.2.0",
            "grid_template_areas": null,
            "object_position": null,
            "object_fit": null,
            "grid_auto_columns": null,
            "margin": null,
            "display": null,
            "left": null
          }
        },
        "b3b832b3c24e4c39aa540050405f663a": {
          "model_module": "@jupyter-widgets/controls",
          "model_name": "IntProgressModel",
          "state": {
            "_view_name": "ProgressView",
            "style": "IPY_MODEL_4e492ec0439b4aa092752e584caba001",
            "_dom_classes": [],
            "description": "",
            "_model_name": "IntProgressModel",
            "bar_style": "success",
            "max": 1,
            "_view_module": "@jupyter-widgets/controls",
            "_model_module_version": "1.5.0",
            "value": 1,
            "_view_count": null,
            "_view_module_version": "1.5.0",
            "orientation": "horizontal",
            "min": 0,
            "description_tooltip": null,
            "_model_module": "@jupyter-widgets/controls",
            "layout": "IPY_MODEL_2f0add9b119249cbbb2fd2a9e174cebb"
          }
        },
        "3bb43372b3a74875b5d55b8a8925cb11": {
          "model_module": "@jupyter-widgets/controls",
          "model_name": "HTMLModel",
          "state": {
            "_view_name": "HTMLView",
            "style": "IPY_MODEL_bd60a5be33474718a640dd4f01f4e4c4",
            "_dom_classes": [],
            "description": "",
            "_model_name": "HTMLModel",
            "placeholder": "​",
            "_view_module": "@jupyter-widgets/controls",
            "_model_module_version": "1.5.0",
            "value": " 32768/? [00:02&lt;00:00, 15114.16it/s]",
            "_view_count": null,
            "_view_module_version": "1.5.0",
            "description_tooltip": null,
            "_model_module": "@jupyter-widgets/controls",
            "layout": "IPY_MODEL_0dfdfde3a145423ba3530097bdc26c99"
          }
        },
        "4e492ec0439b4aa092752e584caba001": {
          "model_module": "@jupyter-widgets/controls",
          "model_name": "ProgressStyleModel",
          "state": {
            "_view_name": "StyleView",
            "_model_name": "ProgressStyleModel",
            "description_width": "initial",
            "_view_module": "@jupyter-widgets/base",
            "_model_module_version": "1.5.0",
            "_view_count": null,
            "_view_module_version": "1.2.0",
            "bar_color": null,
            "_model_module": "@jupyter-widgets/controls"
          }
        },
        "2f0add9b119249cbbb2fd2a9e174cebb": {
          "model_module": "@jupyter-widgets/base",
          "model_name": "LayoutModel",
          "state": {
            "_view_name": "LayoutView",
            "grid_template_rows": null,
            "right": null,
            "justify_content": null,
            "_view_module": "@jupyter-widgets/base",
            "overflow": null,
            "_model_module_version": "1.2.0",
            "_view_count": null,
            "flex_flow": null,
            "width": null,
            "min_width": null,
            "border": null,
            "align_items": null,
            "bottom": null,
            "_model_module": "@jupyter-widgets/base",
            "top": null,
            "grid_column": null,
            "overflow_y": null,
            "overflow_x": null,
            "grid_auto_flow": null,
            "grid_area": null,
            "grid_template_columns": null,
            "flex": null,
            "_model_name": "LayoutModel",
            "justify_items": null,
            "grid_row": null,
            "max_height": null,
            "align_content": null,
            "visibility": null,
            "align_self": null,
            "height": null,
            "min_height": null,
            "padding": null,
            "grid_auto_rows": null,
            "grid_gap": null,
            "max_width": null,
            "order": null,
            "_view_module_version": "1.2.0",
            "grid_template_areas": null,
            "object_position": null,
            "object_fit": null,
            "grid_auto_columns": null,
            "margin": null,
            "display": null,
            "left": null
          }
        },
        "bd60a5be33474718a640dd4f01f4e4c4": {
          "model_module": "@jupyter-widgets/controls",
          "model_name": "DescriptionStyleModel",
          "state": {
            "_view_name": "StyleView",
            "_model_name": "DescriptionStyleModel",
            "description_width": "",
            "_view_module": "@jupyter-widgets/base",
            "_model_module_version": "1.5.0",
            "_view_count": null,
            "_view_module_version": "1.2.0",
            "_model_module": "@jupyter-widgets/controls"
          }
        },
        "0dfdfde3a145423ba3530097bdc26c99": {
          "model_module": "@jupyter-widgets/base",
          "model_name": "LayoutModel",
          "state": {
            "_view_name": "LayoutView",
            "grid_template_rows": null,
            "right": null,
            "justify_content": null,
            "_view_module": "@jupyter-widgets/base",
            "overflow": null,
            "_model_module_version": "1.2.0",
            "_view_count": null,
            "flex_flow": null,
            "width": null,
            "min_width": null,
            "border": null,
            "align_items": null,
            "bottom": null,
            "_model_module": "@jupyter-widgets/base",
            "top": null,
            "grid_column": null,
            "overflow_y": null,
            "overflow_x": null,
            "grid_auto_flow": null,
            "grid_area": null,
            "grid_template_columns": null,
            "flex": null,
            "_model_name": "LayoutModel",
            "justify_items": null,
            "grid_row": null,
            "max_height": null,
            "align_content": null,
            "visibility": null,
            "align_self": null,
            "height": null,
            "min_height": null,
            "padding": null,
            "grid_auto_rows": null,
            "grid_gap": null,
            "max_width": null,
            "order": null,
            "_view_module_version": "1.2.0",
            "grid_template_areas": null,
            "object_position": null,
            "object_fit": null,
            "grid_auto_columns": null,
            "margin": null,
            "display": null,
            "left": null
          }
        },
        "d36a86f19b434015b5bfe759eac05d26": {
          "model_module": "@jupyter-widgets/controls",
          "model_name": "HBoxModel",
          "state": {
            "_view_name": "HBoxView",
            "_dom_classes": [],
            "_model_name": "HBoxModel",
            "_view_module": "@jupyter-widgets/controls",
            "_model_module_version": "1.5.0",
            "_view_count": null,
            "_view_module_version": "1.5.0",
            "box_style": "",
            "layout": "IPY_MODEL_71d8eda1902949d79c9d57eef6267cb0",
            "_model_module": "@jupyter-widgets/controls",
            "children": [
              "IPY_MODEL_4337dc7ca24f4d85a3c9a84b43522a18",
              "IPY_MODEL_96ea10f49cac44f19649ae8d305f8e73"
            ]
          }
        },
        "71d8eda1902949d79c9d57eef6267cb0": {
          "model_module": "@jupyter-widgets/base",
          "model_name": "LayoutModel",
          "state": {
            "_view_name": "LayoutView",
            "grid_template_rows": null,
            "right": null,
            "justify_content": null,
            "_view_module": "@jupyter-widgets/base",
            "overflow": null,
            "_model_module_version": "1.2.0",
            "_view_count": null,
            "flex_flow": null,
            "width": null,
            "min_width": null,
            "border": null,
            "align_items": null,
            "bottom": null,
            "_model_module": "@jupyter-widgets/base",
            "top": null,
            "grid_column": null,
            "overflow_y": null,
            "overflow_x": null,
            "grid_auto_flow": null,
            "grid_area": null,
            "grid_template_columns": null,
            "flex": null,
            "_model_name": "LayoutModel",
            "justify_items": null,
            "grid_row": null,
            "max_height": null,
            "align_content": null,
            "visibility": null,
            "align_self": null,
            "height": null,
            "min_height": null,
            "padding": null,
            "grid_auto_rows": null,
            "grid_gap": null,
            "max_width": null,
            "order": null,
            "_view_module_version": "1.2.0",
            "grid_template_areas": null,
            "object_position": null,
            "object_fit": null,
            "grid_auto_columns": null,
            "margin": null,
            "display": null,
            "left": null
          }
        },
        "4337dc7ca24f4d85a3c9a84b43522a18": {
          "model_module": "@jupyter-widgets/controls",
          "model_name": "IntProgressModel",
          "state": {
            "_view_name": "ProgressView",
            "style": "IPY_MODEL_80ea9b2fa6cc463abbfd63663c8ed03f",
            "_dom_classes": [],
            "description": "",
            "_model_name": "IntProgressModel",
            "bar_style": "success",
            "max": 1,
            "_view_module": "@jupyter-widgets/controls",
            "_model_module_version": "1.5.0",
            "value": 1,
            "_view_count": null,
            "_view_module_version": "1.5.0",
            "orientation": "horizontal",
            "min": 0,
            "description_tooltip": null,
            "_model_module": "@jupyter-widgets/controls",
            "layout": "IPY_MODEL_2ac828fdae754796b44d702b6a8460ce"
          }
        },
        "96ea10f49cac44f19649ae8d305f8e73": {
          "model_module": "@jupyter-widgets/controls",
          "model_name": "HTMLModel",
          "state": {
            "_view_name": "HTMLView",
            "style": "IPY_MODEL_1fd914aae839470bb1d493cd355402f3",
            "_dom_classes": [],
            "description": "",
            "_model_name": "HTMLModel",
            "placeholder": "​",
            "_view_module": "@jupyter-widgets/controls",
            "_model_module_version": "1.5.0",
            "value": " 4423680/? [00:01&lt;00:00, 2537266.52it/s]",
            "_view_count": null,
            "_view_module_version": "1.5.0",
            "description_tooltip": null,
            "_model_module": "@jupyter-widgets/controls",
            "layout": "IPY_MODEL_a502974c1b1c48408923d37b06770267"
          }
        },
        "80ea9b2fa6cc463abbfd63663c8ed03f": {
          "model_module": "@jupyter-widgets/controls",
          "model_name": "ProgressStyleModel",
          "state": {
            "_view_name": "StyleView",
            "_model_name": "ProgressStyleModel",
            "description_width": "initial",
            "_view_module": "@jupyter-widgets/base",
            "_model_module_version": "1.5.0",
            "_view_count": null,
            "_view_module_version": "1.2.0",
            "bar_color": null,
            "_model_module": "@jupyter-widgets/controls"
          }
        },
        "2ac828fdae754796b44d702b6a8460ce": {
          "model_module": "@jupyter-widgets/base",
          "model_name": "LayoutModel",
          "state": {
            "_view_name": "LayoutView",
            "grid_template_rows": null,
            "right": null,
            "justify_content": null,
            "_view_module": "@jupyter-widgets/base",
            "overflow": null,
            "_model_module_version": "1.2.0",
            "_view_count": null,
            "flex_flow": null,
            "width": null,
            "min_width": null,
            "border": null,
            "align_items": null,
            "bottom": null,
            "_model_module": "@jupyter-widgets/base",
            "top": null,
            "grid_column": null,
            "overflow_y": null,
            "overflow_x": null,
            "grid_auto_flow": null,
            "grid_area": null,
            "grid_template_columns": null,
            "flex": null,
            "_model_name": "LayoutModel",
            "justify_items": null,
            "grid_row": null,
            "max_height": null,
            "align_content": null,
            "visibility": null,
            "align_self": null,
            "height": null,
            "min_height": null,
            "padding": null,
            "grid_auto_rows": null,
            "grid_gap": null,
            "max_width": null,
            "order": null,
            "_view_module_version": "1.2.0",
            "grid_template_areas": null,
            "object_position": null,
            "object_fit": null,
            "grid_auto_columns": null,
            "margin": null,
            "display": null,
            "left": null
          }
        },
        "1fd914aae839470bb1d493cd355402f3": {
          "model_module": "@jupyter-widgets/controls",
          "model_name": "DescriptionStyleModel",
          "state": {
            "_view_name": "StyleView",
            "_model_name": "DescriptionStyleModel",
            "description_width": "",
            "_view_module": "@jupyter-widgets/base",
            "_model_module_version": "1.5.0",
            "_view_count": null,
            "_view_module_version": "1.2.0",
            "_model_module": "@jupyter-widgets/controls"
          }
        },
        "a502974c1b1c48408923d37b06770267": {
          "model_module": "@jupyter-widgets/base",
          "model_name": "LayoutModel",
          "state": {
            "_view_name": "LayoutView",
            "grid_template_rows": null,
            "right": null,
            "justify_content": null,
            "_view_module": "@jupyter-widgets/base",
            "overflow": null,
            "_model_module_version": "1.2.0",
            "_view_count": null,
            "flex_flow": null,
            "width": null,
            "min_width": null,
            "border": null,
            "align_items": null,
            "bottom": null,
            "_model_module": "@jupyter-widgets/base",
            "top": null,
            "grid_column": null,
            "overflow_y": null,
            "overflow_x": null,
            "grid_auto_flow": null,
            "grid_area": null,
            "grid_template_columns": null,
            "flex": null,
            "_model_name": "LayoutModel",
            "justify_items": null,
            "grid_row": null,
            "max_height": null,
            "align_content": null,
            "visibility": null,
            "align_self": null,
            "height": null,
            "min_height": null,
            "padding": null,
            "grid_auto_rows": null,
            "grid_gap": null,
            "max_width": null,
            "order": null,
            "_view_module_version": "1.2.0",
            "grid_template_areas": null,
            "object_position": null,
            "object_fit": null,
            "grid_auto_columns": null,
            "margin": null,
            "display": null,
            "left": null
          }
        },
        "dd7a7bd1d9d8427387d46707f4e4332a": {
          "model_module": "@jupyter-widgets/controls",
          "model_name": "HBoxModel",
          "state": {
            "_view_name": "HBoxView",
            "_dom_classes": [],
            "_model_name": "HBoxModel",
            "_view_module": "@jupyter-widgets/controls",
            "_model_module_version": "1.5.0",
            "_view_count": null,
            "_view_module_version": "1.5.0",
            "box_style": "",
            "layout": "IPY_MODEL_8bebf87e56b646f5a86e6516160c776d",
            "_model_module": "@jupyter-widgets/controls",
            "children": [
              "IPY_MODEL_b8e1d1f84db240dc8ac8a50c7034793c",
              "IPY_MODEL_21f26f1b7424494f91151ffbe557f135"
            ]
          }
        },
        "8bebf87e56b646f5a86e6516160c776d": {
          "model_module": "@jupyter-widgets/base",
          "model_name": "LayoutModel",
          "state": {
            "_view_name": "LayoutView",
            "grid_template_rows": null,
            "right": null,
            "justify_content": null,
            "_view_module": "@jupyter-widgets/base",
            "overflow": null,
            "_model_module_version": "1.2.0",
            "_view_count": null,
            "flex_flow": null,
            "width": null,
            "min_width": null,
            "border": null,
            "align_items": null,
            "bottom": null,
            "_model_module": "@jupyter-widgets/base",
            "top": null,
            "grid_column": null,
            "overflow_y": null,
            "overflow_x": null,
            "grid_auto_flow": null,
            "grid_area": null,
            "grid_template_columns": null,
            "flex": null,
            "_model_name": "LayoutModel",
            "justify_items": null,
            "grid_row": null,
            "max_height": null,
            "align_content": null,
            "visibility": null,
            "align_self": null,
            "height": null,
            "min_height": null,
            "padding": null,
            "grid_auto_rows": null,
            "grid_gap": null,
            "max_width": null,
            "order": null,
            "_view_module_version": "1.2.0",
            "grid_template_areas": null,
            "object_position": null,
            "object_fit": null,
            "grid_auto_columns": null,
            "margin": null,
            "display": null,
            "left": null
          }
        },
        "b8e1d1f84db240dc8ac8a50c7034793c": {
          "model_module": "@jupyter-widgets/controls",
          "model_name": "IntProgressModel",
          "state": {
            "_view_name": "ProgressView",
            "style": "IPY_MODEL_6ef2962e7db04752894141c06c2733cb",
            "_dom_classes": [],
            "description": "",
            "_model_name": "IntProgressModel",
            "bar_style": "success",
            "max": 1,
            "_view_module": "@jupyter-widgets/controls",
            "_model_module_version": "1.5.0",
            "value": 1,
            "_view_count": null,
            "_view_module_version": "1.5.0",
            "orientation": "horizontal",
            "min": 0,
            "description_tooltip": null,
            "_model_module": "@jupyter-widgets/controls",
            "layout": "IPY_MODEL_f935c4bbcec3424ea460668cdeab5597"
          }
        },
        "21f26f1b7424494f91151ffbe557f135": {
          "model_module": "@jupyter-widgets/controls",
          "model_name": "HTMLModel",
          "state": {
            "_view_name": "HTMLView",
            "style": "IPY_MODEL_b2fb96bc4be044c1bdfac1b6464944c9",
            "_dom_classes": [],
            "description": "",
            "_model_name": "HTMLModel",
            "placeholder": "​",
            "_view_module": "@jupyter-widgets/controls",
            "_model_module_version": "1.5.0",
            "value": " 8192/? [00:00&lt;00:00, 17265.56it/s]",
            "_view_count": null,
            "_view_module_version": "1.5.0",
            "description_tooltip": null,
            "_model_module": "@jupyter-widgets/controls",
            "layout": "IPY_MODEL_e38c7ca1dc7b4f2ebee5f8e5bba8caaa"
          }
        },
        "6ef2962e7db04752894141c06c2733cb": {
          "model_module": "@jupyter-widgets/controls",
          "model_name": "ProgressStyleModel",
          "state": {
            "_view_name": "StyleView",
            "_model_name": "ProgressStyleModel",
            "description_width": "initial",
            "_view_module": "@jupyter-widgets/base",
            "_model_module_version": "1.5.0",
            "_view_count": null,
            "_view_module_version": "1.2.0",
            "bar_color": null,
            "_model_module": "@jupyter-widgets/controls"
          }
        },
        "f935c4bbcec3424ea460668cdeab5597": {
          "model_module": "@jupyter-widgets/base",
          "model_name": "LayoutModel",
          "state": {
            "_view_name": "LayoutView",
            "grid_template_rows": null,
            "right": null,
            "justify_content": null,
            "_view_module": "@jupyter-widgets/base",
            "overflow": null,
            "_model_module_version": "1.2.0",
            "_view_count": null,
            "flex_flow": null,
            "width": null,
            "min_width": null,
            "border": null,
            "align_items": null,
            "bottom": null,
            "_model_module": "@jupyter-widgets/base",
            "top": null,
            "grid_column": null,
            "overflow_y": null,
            "overflow_x": null,
            "grid_auto_flow": null,
            "grid_area": null,
            "grid_template_columns": null,
            "flex": null,
            "_model_name": "LayoutModel",
            "justify_items": null,
            "grid_row": null,
            "max_height": null,
            "align_content": null,
            "visibility": null,
            "align_self": null,
            "height": null,
            "min_height": null,
            "padding": null,
            "grid_auto_rows": null,
            "grid_gap": null,
            "max_width": null,
            "order": null,
            "_view_module_version": "1.2.0",
            "grid_template_areas": null,
            "object_position": null,
            "object_fit": null,
            "grid_auto_columns": null,
            "margin": null,
            "display": null,
            "left": null
          }
        },
        "b2fb96bc4be044c1bdfac1b6464944c9": {
          "model_module": "@jupyter-widgets/controls",
          "model_name": "DescriptionStyleModel",
          "state": {
            "_view_name": "StyleView",
            "_model_name": "DescriptionStyleModel",
            "description_width": "",
            "_view_module": "@jupyter-widgets/base",
            "_model_module_version": "1.5.0",
            "_view_count": null,
            "_view_module_version": "1.2.0",
            "_model_module": "@jupyter-widgets/controls"
          }
        },
        "e38c7ca1dc7b4f2ebee5f8e5bba8caaa": {
          "model_module": "@jupyter-widgets/base",
          "model_name": "LayoutModel",
          "state": {
            "_view_name": "LayoutView",
            "grid_template_rows": null,
            "right": null,
            "justify_content": null,
            "_view_module": "@jupyter-widgets/base",
            "overflow": null,
            "_model_module_version": "1.2.0",
            "_view_count": null,
            "flex_flow": null,
            "width": null,
            "min_width": null,
            "border": null,
            "align_items": null,
            "bottom": null,
            "_model_module": "@jupyter-widgets/base",
            "top": null,
            "grid_column": null,
            "overflow_y": null,
            "overflow_x": null,
            "grid_auto_flow": null,
            "grid_area": null,
            "grid_template_columns": null,
            "flex": null,
            "_model_name": "LayoutModel",
            "justify_items": null,
            "grid_row": null,
            "max_height": null,
            "align_content": null,
            "visibility": null,
            "align_self": null,
            "height": null,
            "min_height": null,
            "padding": null,
            "grid_auto_rows": null,
            "grid_gap": null,
            "max_width": null,
            "order": null,
            "_view_module_version": "1.2.0",
            "grid_template_areas": null,
            "object_position": null,
            "object_fit": null,
            "grid_auto_columns": null,
            "margin": null,
            "display": null,
            "left": null
          }
        }
      }
    }
  },
  "cells": [
    {
      "cell_type": "markdown",
      "metadata": {
        "id": "FUi7C6IuXUI4",
        "colab_type": "text"
      },
      "source": [
        "Interference = Prediction \n",
        "- If as ML engineer you go to DS manager and say I have 95 % accuracy, It will not mean until and unless you have no confidance on new unrevealed data. So testing data is requrired for that. \n",
        "- Sometime testing data is only as new generated data which will give in future. So, its trouble for ML applications that how to check and improve our efficiency of model. That's why We have validation set which helps ML \n",
        "engineer to improve performace and confidance on generated model and make leart pattern trustworthy.\n",
        "- It also helpful for reduce overfitting of data, overfitting is understand by practical example that, \" If I learn English only by reading Shakespere's books then most of vocab which I learnt are based on philosophy and I must have trouble to find scientific terminology. \n",
        "- So, knowing exact about give set make our training set accuracy higher but on test data performance will become shameful. That's why we use some technique to reduce such thingh.\n",
        "- Now, the practical methods to reduce overfitting are :\n",
        "> - Use validation set as test before check to actual test data\n",
        "> - Every time during partition of training, validation and test set, use random shuffle. \n",
        "> - Use DropOut method during epoch change to train model better for every one."
      ]
    },
    {
      "cell_type": "code",
      "metadata": {
        "id": "0w7dBmDFfWLo",
        "colab_type": "code",
        "outputId": "713c0124-256e-4cab-a53d-f5bde2e263bc",
        "colab": {
          "base_uri": "https://localhost:8080/",
          "height": 378,
          "referenced_widgets": [
            "2acefd54b5d74249b7fd40e9bc3dd9b7",
            "eac1bc57d5524fdd86ee271f1a955252",
            "bcb1e708395d4a23b0b3da858fb1c393",
            "343db57e01674cbf8cb21a99a2c92a6b",
            "84fdd79e5e9f46f989e97bdeef7e22a8",
            "9dd8ac43ca6944cdbcaa3814444c73d5",
            "e0f8901a0d4b4d8ea9baedd5b785a685",
            "cf66d8cddbaa45fe970421d27cfe65f2",
            "de3a22f26d37471b9ca8e8958b8a9e2a",
            "f438d953e9cb4837a7898eea9ae3e738",
            "b3b832b3c24e4c39aa540050405f663a",
            "3bb43372b3a74875b5d55b8a8925cb11",
            "4e492ec0439b4aa092752e584caba001",
            "2f0add9b119249cbbb2fd2a9e174cebb",
            "bd60a5be33474718a640dd4f01f4e4c4",
            "0dfdfde3a145423ba3530097bdc26c99",
            "d36a86f19b434015b5bfe759eac05d26",
            "71d8eda1902949d79c9d57eef6267cb0",
            "4337dc7ca24f4d85a3c9a84b43522a18",
            "96ea10f49cac44f19649ae8d305f8e73",
            "80ea9b2fa6cc463abbfd63663c8ed03f",
            "2ac828fdae754796b44d702b6a8460ce",
            "1fd914aae839470bb1d493cd355402f3",
            "a502974c1b1c48408923d37b06770267",
            "dd7a7bd1d9d8427387d46707f4e4332a",
            "8bebf87e56b646f5a86e6516160c776d",
            "b8e1d1f84db240dc8ac8a50c7034793c",
            "21f26f1b7424494f91151ffbe557f135",
            "6ef2962e7db04752894141c06c2733cb",
            "f935c4bbcec3424ea460668cdeab5597",
            "b2fb96bc4be044c1bdfac1b6464944c9",
            "e38c7ca1dc7b4f2ebee5f8e5bba8caaa"
          ]
        }
      },
      "source": [
        "import torch\n",
        "from torchvision import datasets, transforms\n",
        "\n",
        "# Define a transform to normalize the data\n",
        "transform = transforms.Compose([transforms.ToTensor(),\n",
        "                                transforms.Normalize((0.5,), (0.5,))])\n",
        "# Download and load the training data\n",
        "trainset = datasets.FashionMNIST('~/.pytorch/F_MNIST_data/', download=True, train=True, transform=transform)\n",
        "trainloader = torch.utils.data.DataLoader(trainset, batch_size=64, shuffle=True)\n",
        "\n",
        "# Download and load the test data\n",
        "testset = datasets.FashionMNIST('~/.pytorch/F_MNIST_data/', download=True, train=False, transform=transform)\n",
        "testloader = torch.utils.data.DataLoader(testset, batch_size=64, shuffle=True)"
      ],
      "execution_count": 0,
      "outputs": [
        {
          "output_type": "stream",
          "text": [
            "Downloading http://fashion-mnist.s3-website.eu-central-1.amazonaws.com/train-images-idx3-ubyte.gz to /root/.pytorch/F_MNIST_data/FashionMNIST/raw/train-images-idx3-ubyte.gz\n"
          ],
          "name": "stdout"
        },
        {
          "output_type": "display_data",
          "data": {
            "application/vnd.jupyter.widget-view+json": {
              "model_id": "2acefd54b5d74249b7fd40e9bc3dd9b7",
              "version_minor": 0,
              "version_major": 2
            },
            "text/plain": [
              "HBox(children=(IntProgress(value=1, bar_style='info', max=1), HTML(value='')))"
            ]
          },
          "metadata": {
            "tags": []
          }
        },
        {
          "output_type": "stream",
          "text": [
            "Extracting /root/.pytorch/F_MNIST_data/FashionMNIST/raw/train-images-idx3-ubyte.gz to /root/.pytorch/F_MNIST_data/FashionMNIST/raw\n",
            "Downloading http://fashion-mnist.s3-website.eu-central-1.amazonaws.com/train-labels-idx1-ubyte.gz to /root/.pytorch/F_MNIST_data/FashionMNIST/raw/train-labels-idx1-ubyte.gz\n"
          ],
          "name": "stdout"
        },
        {
          "output_type": "display_data",
          "data": {
            "application/vnd.jupyter.widget-view+json": {
              "model_id": "de3a22f26d37471b9ca8e8958b8a9e2a",
              "version_minor": 0,
              "version_major": 2
            },
            "text/plain": [
              "HBox(children=(IntProgress(value=1, bar_style='info', max=1), HTML(value='')))"
            ]
          },
          "metadata": {
            "tags": []
          }
        },
        {
          "output_type": "stream",
          "text": [
            "Extracting /root/.pytorch/F_MNIST_data/FashionMNIST/raw/train-labels-idx1-ubyte.gz to /root/.pytorch/F_MNIST_data/FashionMNIST/raw\n",
            "Downloading http://fashion-mnist.s3-website.eu-central-1.amazonaws.com/t10k-images-idx3-ubyte.gz to /root/.pytorch/F_MNIST_data/FashionMNIST/raw/t10k-images-idx3-ubyte.gz\n"
          ],
          "name": "stdout"
        },
        {
          "output_type": "display_data",
          "data": {
            "application/vnd.jupyter.widget-view+json": {
              "model_id": "d36a86f19b434015b5bfe759eac05d26",
              "version_minor": 0,
              "version_major": 2
            },
            "text/plain": [
              "HBox(children=(IntProgress(value=1, bar_style='info', max=1), HTML(value='')))"
            ]
          },
          "metadata": {
            "tags": []
          }
        },
        {
          "output_type": "stream",
          "text": [
            "Extracting /root/.pytorch/F_MNIST_data/FashionMNIST/raw/t10k-images-idx3-ubyte.gz to /root/.pytorch/F_MNIST_data/FashionMNIST/raw\n",
            "Downloading http://fashion-mnist.s3-website.eu-central-1.amazonaws.com/t10k-labels-idx1-ubyte.gz to /root/.pytorch/F_MNIST_data/FashionMNIST/raw/t10k-labels-idx1-ubyte.gz\n"
          ],
          "name": "stdout"
        },
        {
          "output_type": "display_data",
          "data": {
            "application/vnd.jupyter.widget-view+json": {
              "model_id": "dd7a7bd1d9d8427387d46707f4e4332a",
              "version_minor": 0,
              "version_major": 2
            },
            "text/plain": [
              "HBox(children=(IntProgress(value=1, bar_style='info', max=1), HTML(value='')))"
            ]
          },
          "metadata": {
            "tags": []
          }
        },
        {
          "output_type": "stream",
          "text": [
            "Extracting /root/.pytorch/F_MNIST_data/FashionMNIST/raw/t10k-labels-idx1-ubyte.gz to /root/.pytorch/F_MNIST_data/FashionMNIST/raw\n",
            "Processing...\n",
            "Done!\n",
            "\n",
            "\n",
            "\n",
            "\n"
          ],
          "name": "stdout"
        }
      ]
    },
    {
      "cell_type": "markdown",
      "metadata": {
        "id": "CvXcdYyVkAdh",
        "colab_type": "text"
      },
      "source": [
        "Create Manual Neural- Network Model:"
      ]
    },
    {
      "cell_type": "code",
      "metadata": {
        "id": "T8i_KRXnkF4b",
        "colab_type": "code",
        "colab": {}
      },
      "source": [
        "from torch import nn, optim\n",
        "import torch.nn.functional as F\n",
        "\n",
        "class Classifier(nn.Module):\n",
        "    def __init__(self):\n",
        "        super().__init__()\n",
        "        self.fc1 = nn.Linear(784,256)\n",
        "        self.fc2 = nn.Linear(256,128)\n",
        "        self.fc3 = nn.Linear(128,64)\n",
        "        self.fc4 = nn.Linear(64,10)\n",
        "\n",
        "    def forward(self,x):\n",
        "        x = x.view(x.shape[0],-1)\n",
        "        x = F.relu(self.fc1(x))\n",
        "        x = F.relu(self.fc2(x))\n",
        "        x = F.relu(self.fc3(x))\n",
        "        x = F.log_softmax(self.fc4(x),dim =1 )\n",
        "        return x"
      ],
      "execution_count": 0,
      "outputs": []
    },
    {
      "cell_type": "markdown",
      "metadata": {
        "id": "B3uYwwolquRm",
        "colab_type": "text"
      },
      "source": [
        "Our goal is to define the model performace and the known method is accuracy. But there are other methods to define better performance by precision and Recall. The amother evaluation is first 5 error rate."
      ]
    },
    {
      "cell_type": "code",
      "metadata": {
        "id": "MrZ_6k05qgLf",
        "colab_type": "code",
        "outputId": "803b0ab3-9d35-42c2-f8cb-beb1f88f33b8",
        "colab": {
          "base_uri": "https://localhost:8080/",
          "height": 33
        }
      },
      "source": [
        "model = Classifier()\n",
        "\n",
        "images,labels = next(iter(trainloader))\n",
        "ps = torch.exp(model(images))\n",
        "print(ps.shape)"
      ],
      "execution_count": 0,
      "outputs": [
        {
          "output_type": "stream",
          "text": [
            "torch.Size([64, 10])\n"
          ],
          "name": "stdout"
        }
      ]
    },
    {
      "cell_type": "markdown",
      "metadata": {
        "id": "I_6ul_xqt9S1",
        "colab_type": "text"
      },
      "source": [
        "here, we need most likely class with top k probable classes, which we can get from topk methodology."
      ]
    },
    {
      "cell_type": "code",
      "metadata": {
        "id": "vqj5Bh0xtYrP",
        "colab_type": "code",
        "outputId": "3e04c04e-ceb6-40f5-8c22-ce02b6cfc67c",
        "colab": {
          "base_uri": "https://localhost:8080/",
          "height": 200
        }
      },
      "source": [
        "top_p, top_class = ps.topk(1,dim=1)\n",
        "print(top_p[:5,:])\n",
        "print(top_class[:5,:])\n",
        "print(top_p.shape,\" === \" , top_class.shape)"
      ],
      "execution_count": 0,
      "outputs": [
        {
          "output_type": "stream",
          "text": [
            "tensor([[0.1070],\n",
            "        [0.1095],\n",
            "        [0.1086],\n",
            "        [0.1082],\n",
            "        [0.1083]], grad_fn=<SliceBackward>)\n",
            "tensor([[3],\n",
            "        [3],\n",
            "        [3],\n",
            "        [3],\n",
            "        [3]])\n",
            "torch.Size([64, 1])  ===  torch.Size([64, 1])\n"
          ],
          "name": "stdout"
        }
      ]
    },
    {
      "cell_type": "code",
      "metadata": {
        "id": "Kff131krua6S",
        "colab_type": "code",
        "outputId": "1f4ab9cd-c1ed-4925-a634-dde1bf719f03",
        "colab": {
          "base_uri": "https://localhost:8080/",
          "height": 33
        }
      },
      "source": [
        "equals = top_class == labels.view(*top_class.shape)\n",
        "accuracy = torch.mean(equals.type(torch.FloatTensor))\n",
        "print(\"Accuracy : \" ,(accuracy.item()*100))"
      ],
      "execution_count": 0,
      "outputs": [
        {
          "output_type": "stream",
          "text": [
            "Accuracy :  14.0625\n"
          ],
          "name": "stdout"
        }
      ]
    },
    {
      "cell_type": "markdown",
      "metadata": {
        "id": "qmC945lSJ5Xk",
        "colab_type": "text"
      },
      "source": [
        "Let's put validation loop "
      ]
    },
    {
      "cell_type": "code",
      "metadata": {
        "id": "PYtgUG0_wR36",
        "colab_type": "code",
        "outputId": "c4496fa8-8b93-4405-e9eb-bf8ecf4d376f",
        "colab": {
          "base_uri": "https://localhost:8080/",
          "height": 517
        }
      },
      "source": [
        "#@title Tuning Parameters { form-width: \"40%\" }\n",
        "\n",
        "model = Classifier()\n",
        "criterian  =  nn.NLLLoss()\n",
        "learning_rate = 0.003 #@param {type:\"slider\", min:0.001, max:0.3, step:0.001}\n",
        "optimizer = optim.Adam(model.parameters(),lr = learning_rate) # from last notebook model\n",
        "\n",
        "epochs = 30 #@param {type:\"number\"}\n",
        "\n",
        "steps = 0\n",
        "\n",
        "train_losses , test_losses = [] , [] \n",
        "for e in range(epochs):\n",
        "  running_loss = 0 \n",
        "  for images,labels in trainloader:\n",
        "    optimizer.zero_grad()\n",
        "    log_ps = model(images)\n",
        "    loss = criterian(log_ps,labels)\n",
        "    loss.backward()\n",
        "    optimizer.step()\n",
        "\n",
        "    running_loss += loss.item()\n",
        "  else:\n",
        "    test_loss = 0\n",
        "    accuracy = 0\n",
        "\n",
        "    with torch.no_grad():\n",
        "      for images ,labels in testloader:\n",
        "        log_ps = model(images)\n",
        "        test_loss += criterian(log_ps,labels)\n",
        "\n",
        "        ps = torch.exp(log_ps)\n",
        "        top_p,top_class = ps.topk(1,dim=1)\n",
        "        equals = top_class == labels.view(*top_class.shape)\n",
        "        accuracy = torch.mean(equals.type(torch.FloatTensor))\n",
        "    \n",
        "    train_losses.append(running_loss/len(trainloader))\n",
        "    test_losses.append(test_loss/len(testloader))\n",
        "\n",
        "    print(\"Epoch: {}/{}.. \".format(e+1, epochs),            # directly taken from general repo. \n",
        "              \"Training Loss: {:.3f}.. \".format(running_loss/len(trainloader)),\n",
        "              \"Test Loss: {:.3f}.. \".format(test_loss/len(testloader)),\n",
        "              \"Test Accuracy: {:.3f}\".format(accuracy/len(testloader)))    "
      ],
      "execution_count": 0,
      "outputs": [
        {
          "output_type": "stream",
          "text": [
            "Epoch: 1/30..  Training Loss: 0.511..  Test Loss: 0.448..  Test Accuracy: 0.006\n",
            "Epoch: 2/30..  Training Loss: 0.392..  Test Loss: 0.418..  Test Accuracy: 0.006\n",
            "Epoch: 3/30..  Training Loss: 0.356..  Test Loss: 0.428..  Test Accuracy: 0.005\n",
            "Epoch: 4/30..  Training Loss: 0.331..  Test Loss: 0.421..  Test Accuracy: 0.005\n",
            "Epoch: 5/30..  Training Loss: 0.315..  Test Loss: 0.380..  Test Accuracy: 0.006\n",
            "Epoch: 6/30..  Training Loss: 0.303..  Test Loss: 0.377..  Test Accuracy: 0.005\n",
            "Epoch: 7/30..  Training Loss: 0.290..  Test Loss: 0.395..  Test Accuracy: 0.006\n",
            "Epoch: 8/30..  Training Loss: 0.283..  Test Loss: 0.371..  Test Accuracy: 0.006\n",
            "Epoch: 9/30..  Training Loss: 0.272..  Test Loss: 0.398..  Test Accuracy: 0.005\n",
            "Epoch: 10/30..  Training Loss: 0.266..  Test Loss: 0.378..  Test Accuracy: 0.005\n",
            "Epoch: 11/30..  Training Loss: 0.258..  Test Loss: 0.364..  Test Accuracy: 0.005\n",
            "Epoch: 12/30..  Training Loss: 0.253..  Test Loss: 0.372..  Test Accuracy: 0.005\n",
            "Epoch: 13/30..  Training Loss: 0.245..  Test Loss: 0.375..  Test Accuracy: 0.006\n",
            "Epoch: 14/30..  Training Loss: 0.243..  Test Loss: 0.350..  Test Accuracy: 0.006\n",
            "Epoch: 15/30..  Training Loss: 0.233..  Test Loss: 0.366..  Test Accuracy: 0.006\n",
            "Epoch: 16/30..  Training Loss: 0.231..  Test Loss: 0.394..  Test Accuracy: 0.006\n",
            "Epoch: 17/30..  Training Loss: 0.230..  Test Loss: 0.387..  Test Accuracy: 0.006\n",
            "Epoch: 18/30..  Training Loss: 0.218..  Test Loss: 0.378..  Test Accuracy: 0.006\n",
            "Epoch: 19/30..  Training Loss: 0.215..  Test Loss: 0.388..  Test Accuracy: 0.006\n",
            "Epoch: 20/30..  Training Loss: 0.215..  Test Loss: 0.384..  Test Accuracy: 0.005\n",
            "Epoch: 21/30..  Training Loss: 0.213..  Test Loss: 0.372..  Test Accuracy: 0.006\n",
            "Epoch: 22/30..  Training Loss: 0.206..  Test Loss: 0.429..  Test Accuracy: 0.006\n",
            "Epoch: 23/30..  Training Loss: 0.204..  Test Loss: 0.385..  Test Accuracy: 0.005\n",
            "Epoch: 24/30..  Training Loss: 0.201..  Test Loss: 0.427..  Test Accuracy: 0.006\n",
            "Epoch: 25/30..  Training Loss: 0.198..  Test Loss: 0.404..  Test Accuracy: 0.005\n",
            "Epoch: 26/30..  Training Loss: 0.193..  Test Loss: 0.414..  Test Accuracy: 0.006\n",
            "Epoch: 27/30..  Training Loss: 0.192..  Test Loss: 0.446..  Test Accuracy: 0.006\n",
            "Epoch: 28/30..  Training Loss: 0.191..  Test Loss: 0.466..  Test Accuracy: 0.006\n",
            "Epoch: 29/30..  Training Loss: 0.186..  Test Loss: 0.470..  Test Accuracy: 0.005\n",
            "Epoch: 30/30..  Training Loss: 0.188..  Test Loss: 0.455..  Test Accuracy: 0.004\n"
          ],
          "name": "stdout"
        }
      ]
    },
    {
      "cell_type": "code",
      "metadata": {
        "id": "taNjzuO8Of5G",
        "colab_type": "code",
        "colab": {}
      },
      "source": [
        "%matplotlib inline\n",
        "%config InlineBackend.figure_format = 'retina'\n",
        "\n",
        "import matplotlib.pyplot as plt"
      ],
      "execution_count": 0,
      "outputs": []
    },
    {
      "cell_type": "code",
      "metadata": {
        "id": "mgJPXZLGO8AX",
        "colab_type": "code",
        "outputId": "8386ea48-357d-4553-e447-4391f2310fd4",
        "colab": {
          "base_uri": "https://localhost:8080/",
          "height": 282
        }
      },
      "source": [
        "plt.plot(train_losses, label='Training loss')\n",
        "plt.plot(test_losses, label='Validation loss')\n",
        "plt.legend(frameon=False)"
      ],
      "execution_count": 0,
      "outputs": [
        {
          "output_type": "execute_result",
          "data": {
            "text/plain": [
              "<matplotlib.legend.Legend at 0x7fc0db8d0358>"
            ]
          },
          "metadata": {
            "tags": []
          },
          "execution_count": 13
        },
        {
          "output_type": "display_data",
          "data": {
            "image/png": "[encoded data removed]",
            "text/plain": [
              "<Figure size 432x288 with 1 Axes>"
            ]
          },
          "metadata": {
            "tags": [],
            "image/png": {
              "width": 380,
              "height": 248
            },
            "needs_background": "light"
          }
        }
      ]
    },
    {
      "cell_type": "markdown",
      "metadata": {
        "id": "bNd944rgRpun",
        "colab_type": "text"
      },
      "source": [
        "From above graph we see that sometime the validation accuracy is lowest and then rise for another some period so averagely around each 8 to 10 epoch so early stopping is useful way but still it will not make our validation loss down as required.\n",
        "- The main Method used for it is called [dropdown](https://www.youtube.com/watch?v=ARq74QuavAo)"
      ]
    },
    {
      "cell_type": "code",
      "metadata": {
        "id": "T8v_npLeel2o",
        "colab_type": "code",
        "colab": {}
      },
      "source": [
        "#@title Hyper Parameter Tuning \n",
        "dropout = 0.2 #@param {type:\"slider\", min:0, max:0.5, step:0.1}\n",
        "class Classifier(nn.Module):\n",
        "    def __init__(self):\n",
        "        super().__init__()\n",
        "        self.fc1 = nn.Linear(784, 256)\n",
        "        self.fc2 = nn.Linear(256, 128)\n",
        "        self.fc3 = nn.Linear(128, 64)\n",
        "        self.fc4 = nn.Linear(64, 10)\n",
        "\n",
        "        # Dropout module with 0.2 drop probability\n",
        "        self.dropout = nn.Dropout(p=dropout)\n",
        "\n",
        "    def forward(self, x):\n",
        "        # make sure input tensor is flattened\n",
        "        x = x.view(x.shape[0], -1)\n",
        "\n",
        "        # Now with dropout\n",
        "        x = self.dropout(F.relu(self.fc1(x)))\n",
        "        x = self.dropout(F.relu(self.fc2(x)))\n",
        "        x = self.dropout(F.relu(self.fc3(x)))\n",
        "\n",
        "        # output so no dropout here\n",
        "        x = F.log_softmax(self.fc4(x), dim=1)\n",
        "\n",
        "        return x"
      ],
      "execution_count": 0,
      "outputs": []
    },
    {
      "cell_type": "code",
      "metadata": {
        "id": "gB6pKHIIPURv",
        "colab_type": "code",
        "outputId": "57f3e488-fead-48f0-8433-4a263c9543e6",
        "colab": {
          "base_uri": "https://localhost:8080/",
          "height": 517
        }
      },
      "source": [
        "model_dropout = Classifier()\n",
        "criterion = nn.NLLLoss()\n",
        "optimizer = optim.Adam(model_dropout.parameters(), lr=0.003)   # From previous Jupyter Notebook\n",
        "\n",
        "epochs = 30\n",
        "steps = 0\n",
        "\n",
        "train_losses, test_losses = [], []\n",
        "for e in range(epochs):\n",
        "    running_loss = 0\n",
        "    for images, labels in trainloader:\n",
        "        \n",
        "        optimizer.zero_grad()\n",
        "        \n",
        "        log_ps = model_dropout(images)\n",
        "        loss = criterion(log_ps, labels)\n",
        "        loss.backward()\n",
        "        optimizer.step()\n",
        "        \n",
        "        running_loss += loss.item()\n",
        "        \n",
        "    else:\n",
        "        test_loss = 0\n",
        "        accuracy = 0\n",
        "        \n",
        "        # Turn off gradients for validation, saves memory and computations\n",
        "        with torch.no_grad():\n",
        "            model_dropout.eval()                       # For validation put model to evaluation\n",
        "            for images, labels in testloader:\n",
        "                log_ps = model_dropout(images)\n",
        "                test_loss += criterion(log_ps, labels)\n",
        "                \n",
        "                ps = torch.exp(log_ps)\n",
        "                top_p, top_class = ps.topk(1, dim=1)\n",
        "                equals = top_class == labels.view(*top_class.shape)\n",
        "                accuracy += torch.mean(equals.type(torch.FloatTensor))\n",
        "        \n",
        "        model_dropout.train() # Again change model to train mode to update in main traning.\n",
        "        \n",
        "        train_losses.append(running_loss/len(trainloader))\n",
        "        test_losses.append(test_loss/len(testloader))\n",
        "\n",
        "        print(\"Epoch: {}/{}.. \".format(e+1, epochs),\n",
        "              \"Training Loss: {:.3f}.. \".format(train_losses[-1]),\n",
        "              \"Test Loss: {:.3f}.. \".format(test_losses[-1]),\n",
        "              \"Test Accuracy: {:.3f}\".format(accuracy/len(testloader)))"
      ],
      "execution_count": 0,
      "outputs": [
        {
          "output_type": "stream",
          "text": [
            "Epoch: 1/30..  Training Loss: 0.605..  Test Loss: 0.489..  Test Accuracy: 0.817\n",
            "Epoch: 2/30..  Training Loss: 0.490..  Test Loss: 0.429..  Test Accuracy: 0.846\n",
            "Epoch: 3/30..  Training Loss: 0.458..  Test Loss: 0.421..  Test Accuracy: 0.846\n",
            "Epoch: 4/30..  Training Loss: 0.434..  Test Loss: 0.409..  Test Accuracy: 0.850\n",
            "Epoch: 5/30..  Training Loss: 0.424..  Test Loss: 0.397..  Test Accuracy: 0.861\n",
            "Epoch: 6/30..  Training Loss: 0.419..  Test Loss: 0.400..  Test Accuracy: 0.857\n",
            "Epoch: 7/30..  Training Loss: 0.408..  Test Loss: 0.390..  Test Accuracy: 0.862\n",
            "Epoch: 8/30..  Training Loss: 0.402..  Test Loss: 0.394..  Test Accuracy: 0.856\n",
            "Epoch: 9/30..  Training Loss: 0.388..  Test Loss: 0.393..  Test Accuracy: 0.860\n",
            "Epoch: 10/30..  Training Loss: 0.396..  Test Loss: 0.383..  Test Accuracy: 0.863\n",
            "Epoch: 11/30..  Training Loss: 0.384..  Test Loss: 0.417..  Test Accuracy: 0.853\n",
            "Epoch: 12/30..  Training Loss: 0.377..  Test Loss: 0.387..  Test Accuracy: 0.864\n",
            "Epoch: 13/30..  Training Loss: 0.387..  Test Loss: 0.378..  Test Accuracy: 0.873\n",
            "Epoch: 14/30..  Training Loss: 0.384..  Test Loss: 0.378..  Test Accuracy: 0.868\n",
            "Epoch: 15/30..  Training Loss: 0.366..  Test Loss: 0.392..  Test Accuracy: 0.868\n",
            "Epoch: 16/30..  Training Loss: 0.364..  Test Loss: 0.386..  Test Accuracy: 0.863\n",
            "Epoch: 17/30..  Training Loss: 0.363..  Test Loss: 0.383..  Test Accuracy: 0.872\n",
            "Epoch: 18/30..  Training Loss: 0.365..  Test Loss: 0.370..  Test Accuracy: 0.873\n",
            "Epoch: 19/30..  Training Loss: 0.361..  Test Loss: 0.397..  Test Accuracy: 0.869\n",
            "Epoch: 20/30..  Training Loss: 0.363..  Test Loss: 0.395..  Test Accuracy: 0.864\n",
            "Epoch: 21/30..  Training Loss: 0.353..  Test Loss: 0.390..  Test Accuracy: 0.865\n",
            "Epoch: 22/30..  Training Loss: 0.356..  Test Loss: 0.370..  Test Accuracy: 0.874\n",
            "Epoch: 23/30..  Training Loss: 0.355..  Test Loss: 0.397..  Test Accuracy: 0.865\n",
            "Epoch: 24/30..  Training Loss: 0.352..  Test Loss: 0.399..  Test Accuracy: 0.873\n",
            "Epoch: 25/30..  Training Loss: 0.345..  Test Loss: 0.369..  Test Accuracy: 0.876\n",
            "Epoch: 26/30..  Training Loss: 0.349..  Test Loss: 0.394..  Test Accuracy: 0.868\n",
            "Epoch: 27/30..  Training Loss: 0.346..  Test Loss: 0.375..  Test Accuracy: 0.875\n",
            "Epoch: 28/30..  Training Loss: 0.342..  Test Loss: 0.394..  Test Accuracy: 0.871\n",
            "Epoch: 29/30..  Training Loss: 0.345..  Test Loss: 0.375..  Test Accuracy: 0.869\n",
            "Epoch: 30/30..  Training Loss: 0.337..  Test Loss: 0.362..  Test Accuracy: 0.876\n"
          ],
          "name": "stdout"
        }
      ]
    },
    {
      "cell_type": "code",
      "metadata": {
        "id": "finGUorTX4_j",
        "colab_type": "code",
        "outputId": "a7b6dcf4-1310-4bed-d184-c54d97859b75",
        "colab": {
          "base_uri": "https://localhost:8080/",
          "height": 282
        }
      },
      "source": [
        "plt.plot(train_losses, label='Training loss')\n",
        "plt.plot(test_losses, label='Validation loss')\n",
        "plt.legend(frameon=False)"
      ],
      "execution_count": 0,
      "outputs": [
        {
          "output_type": "execute_result",
          "data": {
            "text/plain": [
              "<matplotlib.legend.Legend at 0x7fc0db86abe0>"
            ]
          },
          "metadata": {
            "tags": []
          },
          "execution_count": 16
        },
        {
          "output_type": "display_data",
          "data": {
            "image/png": "[encoded data removed]",
            "text/plain": [
              "<Figure size 432x288 with 1 Axes>"
            ]
          },
          "metadata": {
            "tags": [],
            "image/png": {
              "width": 380,
              "height": 248
            },
            "needs_background": "light"
          }
        }
      ]
    },
    {
      "cell_type": "code",
      "metadata": {
        "id": "FdFY2Y2JrETZ",
        "colab_type": "code",
        "outputId": "354f012e-ed85-4e6b-bd15-935fca42c874",
        "colab": {
          "base_uri": "https://localhost:8080/",
          "height": 282
        }
      },
      "source": [
        "plt.plot(train_losses, label='Training loss')\n",
        "plt.plot(test_losses, label='Validation loss')\n",
        "plt.legend(frameon=True)"
      ],
      "execution_count": 0,
      "outputs": [
        {
          "output_type": "execute_result",
          "data": {
            "text/plain": [
              "<matplotlib.legend.Legend at 0x7fc0da84f630>"
            ]
          },
          "metadata": {
            "tags": []
          },
          "execution_count": 36
        },
        {
          "output_type": "display_data",
          "data": {
            "image/png": "[encoded data removed]",
            "text/plain": [
              "<Figure size 432x288 with 1 Axes>"
            ]
          },
          "metadata": {
            "tags": [],
            "image/png": {
              "width": 380,
              "height": 248
            },
            "needs_background": "light"
          }
        }
      ]
    },
    {
      "cell_type": "markdown",
      "metadata": {
        "id": "4RaeZVWhbB8F",
        "colab_type": "text"
      },
      "source": [
        "Prediction(Interfernce)"
      ]
    },
    {
      "cell_type": "code",
      "metadata": {
        "id": "FZ7eTfrPX7aV",
        "colab_type": "code",
        "outputId": "98caf39f-cd23-4549-c16b-3b40f42b8de7",
        "colab": {
          "base_uri": "https://localhost:8080/",
          "height": 33
        }
      },
      "source": [
        "#@title view_classify ploting function (just run it) { run: \"auto\", display-mode: \"form\" }\n",
        "import matplotlib.pyplot as plt\n",
        "import numpy as np\n",
        "\n",
        "def view_classify(img, ps, version=\"MNIST\"):\n",
        "    ''' Function for viewing an image and it's predicted classes.\n",
        "    '''\n",
        "    ps = ps.data.numpy().squeeze()\n",
        "\n",
        "    fig, (ax1, ax2) = plt.subplots(figsize=(6,9), ncols=2)\n",
        "    ax1.imshow(img.resize_(1, 28, 28).numpy().squeeze())\n",
        "    ax1.axis('off')\n",
        "    ax2.barh(np.arange(10), ps)\n",
        "    ax2.set_aspect(0.1)\n",
        "    ax2.set_yticks(np.arange(10))\n",
        "    if version == \"MNIST\":\n",
        "        ax2.set_yticklabels(np.arange(10))\n",
        "    elif version == \"Fashion\":\n",
        "        ax2.set_yticklabels(['T-shirt/top',\n",
        "                            'Trouser',\n",
        "                            'Pullover',\n",
        "                            'Dress',\n",
        "                            'Coat',\n",
        "                            'Sandal',\n",
        "                            'Shirt',\n",
        "                            'Sneaker',\n",
        "                            'Bag',\n",
        "                            'Ankle Boot'], size='small');\n",
        "    ax2.set_title('Class Probability')\n",
        "    ax2.set_xlim(0, 1.1)\n",
        "\n",
        "plt.tight_layout()\n"
      ],
      "execution_count": 0,
      "outputs": [
        {
          "output_type": "display_data",
          "data": {
            "text/plain": [
              "<Figure size 432x288 with 0 Axes>"
            ]
          },
          "metadata": {
            "tags": []
          }
        }
      ]
    },
    {
      "cell_type": "code",
      "metadata": {
        "id": "UCbLzqJ8bnD0",
        "colab_type": "code",
        "outputId": "7012426b-454f-4117-bd0d-91c26cc4c1cb",
        "colab": {
          "base_uri": "https://localhost:8080/",
          "height": 212
        }
      },
      "source": [
        "model_dropout.eval()\n",
        "\n",
        "images,labels = next(iter(testloader))\n",
        "image = images[0]\n",
        "\n",
        "# To view image \n",
        "img = image.view(1,784)\n",
        "\n",
        "# prediction\n",
        "with torch.no_grad():\n",
        "  ps = torch.exp(model_dropout(image))\n",
        "\n",
        "\n",
        "\n",
        "view_classify(img.view(1,28,28),ps, version=\"Fashion\")"
      ],
      "execution_count": 0,
      "outputs": [
        {
          "output_type": "display_data",
          "data": {
            "image/png": "[encoded data removed]",
            "text/plain": [
              "<Figure size 432x648 with 2 Axes>"
            ]
          },
          "metadata": {
            "tags": [],
            "image/png": {
              "width": 349,
              "height": 195
            },
            "needs_background": "light"
          }
        }
      ]
    },
    {
      "cell_type": "markdown",
      "metadata": {
        "id": "l0r31opuuANd",
        "colab_type": "text"
      },
      "source": [
        " As you can imagine, it's impractical to train a network every time you need to use it. Instead, we can save trained networks then load them later to train more or use them for predictions.\n",
        "\n",
        "The parameters for PyTorch networks are stored in a model's `state_dict`. We can see the state dict contains the weight and bias matrices for each of our layers."
      ]
    },
    {
      "cell_type": "code",
      "metadata": {
        "id": "_xOuoKQw03LO",
        "colab_type": "code",
        "outputId": "638608f6-fc39-4866-eeb9-f014e125293a",
        "colab": {
          "base_uri": "https://localhost:8080/",
          "height": 233
        }
      },
      "source": [
        "print(\"Our model: \\n\\n\", model_dropout, '\\n')\n",
        "print(\"The state dict keys: \\n\\n\", model_dropout.state_dict().keys())"
      ],
      "execution_count": 0,
      "outputs": [
        {
          "output_type": "stream",
          "text": [
            "Our model: \n",
            "\n",
            " Classifier(\n",
            "  (fc1): Linear(in_features=784, out_features=256, bias=True)\n",
            "  (fc2): Linear(in_features=256, out_features=128, bias=True)\n",
            "  (fc3): Linear(in_features=128, out_features=64, bias=True)\n",
            "  (fc4): Linear(in_features=64, out_features=10, bias=True)\n",
            "  (dropout): Dropout(p=0.2, inplace=False)\n",
            ") \n",
            "\n",
            "The state dict keys: \n",
            "\n",
            " odict_keys(['fc1.weight', 'fc1.bias', 'fc2.weight', 'fc2.bias', 'fc3.weight', 'fc3.bias', 'fc4.weight', 'fc4.bias'])\n"
          ],
          "name": "stdout"
        }
      ]
    },
    {
      "cell_type": "code",
      "metadata": {
        "id": "auoXUR-ycgrq",
        "colab_type": "code",
        "colab": {}
      },
      "source": [
        "# save the model stae\n",
        "torch.save(model_dropout.state_dict(),\"pred_model.pth\") "
      ],
      "execution_count": 0,
      "outputs": []
    },
    {
      "cell_type": "code",
      "metadata": {
        "id": "0q6pZgFC1PQZ",
        "colab_type": "code",
        "outputId": "81cb70b4-1059-487b-d2dc-9475746b0eb7",
        "colab": {
          "base_uri": "https://localhost:8080/",
          "height": 33
        }
      },
      "source": [
        "# Now load model for use \n",
        "state_dict = torch.load(\"pred_model.pth\")\n",
        "print(state_dict.keys())"
      ],
      "execution_count": 0,
      "outputs": [
        {
          "output_type": "stream",
          "text": [
            "odict_keys(['fc1.weight', 'fc1.bias', 'fc2.weight', 'fc2.bias', 'fc3.weight', 'fc3.bias', 'fc4.weight', 'fc4.bias'])\n"
          ],
          "name": "stdout"
        }
      ]
    },
    {
      "cell_type": "code",
      "metadata": {
        "id": "Rt0yQ1Wf1g7k",
        "colab_type": "code",
        "colab": {}
      },
      "source": [
        "model_dropout.load_state_dict(state_dict) "
      ],
      "execution_count": 0,
      "outputs": []
    },
    {
      "cell_type": "code",
      "metadata": {
        "id": "juPdSW1c2a60",
        "colab_type": "code",
        "colab": {}
      },
      "source": [
        "# Keep Learining, Enjoy Empowering"
      ],
      "execution_count": 0,
      "outputs": []
    },
    {
      "cell_type": "code",
      "metadata": {
        "id": "RcTCar8A8JAL",
        "colab_type": "code",
        "colab": {}
      },
      "source": [
        ""
      ],
      "execution_count": 0,
      "outputs": []
    }
  ]
}