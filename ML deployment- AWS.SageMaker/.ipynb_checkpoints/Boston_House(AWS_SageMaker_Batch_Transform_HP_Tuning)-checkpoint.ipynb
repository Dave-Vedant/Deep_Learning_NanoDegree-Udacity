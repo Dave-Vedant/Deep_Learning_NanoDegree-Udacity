{
 "cells": [
  {
   "cell_type": "markdown",
   "metadata": {
    "colab_type": "text",
    "id": "view-in-github"
   },
   "source": [
    "<a href=\"https://colab.research.google.com/github/vedantdave77/project.Orca/blob/master/ML%20deployment-%20AWS.SageMaker/Boston_House(AWS_SageMaker_Batch_Transform_HP_Tuning).ipynb\" target=\"_parent\"><img src=\"https://colab.research.google.com/assets/colab-badge.svg\" alt=\"Open In Colab\"/></a>"
   ]
  },
  {
   "cell_type": "markdown",
   "metadata": {
    "colab_type": "text",
    "id": "eIWbGtVPjtnQ"
   },
   "source": [
    "# AWS SAGEMAKER \n",
    "Hello, I am [Vedant_Dave](vedantdave77@gmail.com), a inspiratonal Machine Learning Practitiner.\n",
    "## Intro To Topic\n",
    "Today, I am going to deploy Boston Housing data Project using AWS Sagemaker's High level API called - \"Python SDK\". \n",
    "> This API has facility to train and deploy model in cloud directly from innner Jupyter notebook creation. So, I will use simple Machine learning workflow as usaual. \n",
    "\n",
    "> Data loading --> Data Preparation --> Model Training --> HP Tuning --> Deployment in AWS. (Hopefully, try to make Web Application). \n",
    "\n",
    "---\n",
    "---\n",
    "\n",
    "First of all, I will use SageMaker's batch transform feature, which  is a high-performance and high-throughput method for transforming data and generating inferences. \n",
    "\n",
    "- I personally think, It's ideal for scenarios where you're dealing with large batches of data, don't need sub-second latency, or need to both preprocess and transform the training data. \n",
    "\n",
    "- My main focus is to deploy model, so on analytic point of view, I tried to use Sagemaker's ML library and find median housing price for specific housing requrements in certain areas. \n",
    "\n",
    " \n"
   ]
  },
  {
   "cell_type": "markdown",
   "metadata": {
    "colab_type": "text",
    "id": "DB3yDsFIJB_W"
   },
   "source": [
    "## Set Environment (lib & SageMaker)"
   ]
  },
  {
   "cell_type": "code",
   "execution_count": 32,
   "metadata": {
    "colab": {},
    "colab_type": "code",
    "id": "gslpcnrwJiMC"
   },
   "outputs": [],
   "source": [
    "# Setting-up Notebook in relevant environment.\n",
    "\n",
    "import os\n",
    "import numpy as np\n",
    "import pandas as pd \n",
    "import matplotlib.pyplot as plt\n",
    "%matplotlib inline\n",
    "\n",
    "from sklearn.datasets import load_boston\n",
    "import sklearn.model_selection"
   ]
  },
  {
   "cell_type": "code",
   "execution_count": 33,
   "metadata": {
    "colab": {},
    "colab_type": "code",
    "id": "cOtUDtqJmNcg"
   },
   "outputs": [],
   "source": [
    "# set sagemaker in env.\n",
    "import sagemaker  \n",
    "from sagemaker import get_execution_role                                        # import execution role(IAM type)                                       \n",
    "from sagemaker.amazon.amazon_estimator import get_image_uri                     # instance (s3/sagemaker- uri)\n",
    "from sagemaker.predictor import csv_serializer                                  # to serialize data for prediction purpose\n",
    "\n",
    "# Object to represent current active session of sagemaker - contains some useful info. for future usage.\n",
    "session = sagemaker.Session()\n",
    "\n",
    "# object shows IAM role - will help us to assign training job to sagemaker.\n",
    "role = get_execution_role()"
   ]
  },
  {
   "cell_type": "markdown",
   "metadata": {
    "colab_type": "text",
    "id": "gP7UA5RHoG1c"
   },
   "source": [
    "## Download Data "
   ]
  },
  {
   "cell_type": "code",
   "execution_count": 34,
   "metadata": {
    "colab": {},
    "colab_type": "code",
    "id": "tGz26OMNoDnN"
   },
   "outputs": [],
   "source": [
    "# The following data will be download from sagemaker's storage. (Actully, boston is one of the ideal dataset for practice purpose.)\n",
    "boston = load_boston()\n"
   ]
  },
  {
   "cell_type": "markdown",
   "metadata": {
    "colab_type": "text",
    "id": "IQ1Ldf2HoXgX"
   },
   "source": [
    "## Data preparation and splitting.\n"
   ]
  },
  {
   "cell_type": "code",
   "execution_count": 35,
   "metadata": {
    "colab": {
     "base_uri": "https://localhost:8080/",
     "height": 132
    },
    "colab_type": "code",
    "id": "E5HXQWXdoDkW",
    "outputId": "0537510b-a48e-4560-d81b-16e64e6edfca"
   },
   "outputs": [],
   "source": [
    "# prepare data for python notebook\n",
    "X_bos_pd = pd.DataFrame(boston.data, columns=boston.feature_names)\n",
    "y_bos_pd = pd.DataFrame(boston.target)\n",
    "\n",
    "# splitting into train and test\n",
    "X_train,X_test,y_train,y_test = sklearn.model_selection.train_test_split(X_bos_pd, y_bos_pd, test_size =0.33)\n",
    "\n",
    "# further splitting of train to train(2/3) and validation(1/3)\n",
    "X_train, X_val, y_train, y_val = sklearn.model_selection.train_test_split(X_train, y_train, test_size=0.33)"
   ]
  },
  {
   "cell_type": "markdown",
   "metadata": {
    "colab_type": "text",
    "id": "6p9mDXm4qQPo"
   },
   "source": [
    "## Uploading data files to S3.\n",
    "\n",
    "Keep in mind that, \n",
    "\n",
    "- When a training job is constructed using SageMaker, a container is executed which performs the training operation.\n",
    "- This container is given access to data that is stored in S3. This means that we need to upload the data we want to use for training to S3. \n",
    "- In addition, when we perform a batch transform job, SageMaker expects the input data to be stored on S3. We can use the SageMaker API to do this and hide some of the details, but first data saved locally and then uploaded to S3 container.\n",
    "\n",
    "\n"
   ]
  },
  {
   "cell_type": "code",
   "execution_count": 36,
   "metadata": {
    "colab": {},
    "colab_type": "code",
    "id": "Yc2SI2v4xy92"
   },
   "outputs": [],
   "source": [
    "# define & ensure data dictionary...\n",
    "data_dir = '.../data/boston'\n",
    "if not os.path.exists(data_dir):\n",
    "  os.makedirs(data_dir)"
   ]
  },
  {
   "cell_type": "code",
   "execution_count": 37,
   "metadata": {
    "colab": {},
    "colab_type": "code",
    "id": "yYQAaia5oDiK"
   },
   "outputs": [],
   "source": [
    "# In data_dir, I amd creating csv file format for all data, and in validation and train set target data comes in first columns.\n",
    "\n",
    "X_test.to_csv(os.path.join(data_dir,'test.csv'),header = False, index = False)\n",
    " \n",
    "pd.concat([y_val,X_val], axis =1).to_csv(os.path.join(data_dir, 'validation.csv'),header=False, index= False)\n",
    "pd.concat([y_train,X_train],axis =1).to_csv(os.path.join(data_dir,'train.csv'),header=False,index=False)"
   ]
  },
  {
   "cell_type": "markdown",
   "metadata": {
    "colab_type": "text",
    "id": "4w9BxAIs13oi"
   },
   "source": [
    "### Upload to S3 - data storage.\n",
    "Its good prectice to give prefix to your S3 bucket, so you can easily get idea about specific container for relevant project. \n",
    "- Here, I am giving name as \"dataset_name-algorithm_name-API_level\".\n",
    "\n",
    "I will use xgboost algorithm, which is one of the modern approach for supervised learning. It boost our algorithm gradient and give high accuracy result with good F1 score Matrix. \n",
    "\n",
    "> For more info, visit [XGBoost](https://xgboost.readthedocs.io/en/latest/) official documentation."
   ]
  },
  {
   "cell_type": "code",
   "execution_count": 38,
   "metadata": {
    "colab": {},
    "colab_type": "code",
    "id": "Rq5Uhd5doDel"
   },
   "outputs": [
    {
     "name": "stderr",
     "output_type": "stream",
     "text": [
      "WARNING:sagemaker:'upload_data' method will be deprecated in favor of 'S3Uploader' class (https://sagemaker.readthedocs.io/en/stable/s3.html#sagemaker.s3.S3Uploader) in SageMaker Python SDK v2.\n",
      "WARNING:sagemaker:'upload_data' method will be deprecated in favor of 'S3Uploader' class (https://sagemaker.readthedocs.io/en/stable/s3.html#sagemaker.s3.S3Uploader) in SageMaker Python SDK v2.\n",
      "WARNING:sagemaker:'upload_data' method will be deprecated in favor of 'S3Uploader' class (https://sagemaker.readthedocs.io/en/stable/s3.html#sagemaker.s3.S3Uploader) in SageMaker Python SDK v2.\n"
     ]
    }
   ],
   "source": [
    "prefix = 'boston-xgboost-HL'\n",
    "\n",
    "test_location = session.upload_data(os.path.join(data_dir,'test.csv'),key_prefix = prefix)\n",
    "val_location = session.upload_data(os.path.join(data_dir,'validation.csv'), key_prefix = prefix)\n",
    "train_location = session.upload_data(os.path.join(data_dir,'train.csv'),key_prefix = prefix)"
   ]
  },
  {
   "cell_type": "markdown",
   "metadata": {
    "colab_type": "text",
    "id": "pXKWD1V_36wO"
   },
   "source": [
    "## Training XGBoost Model\n",
    "There are two options for training model either use high-level API in which Sage-Maker will train algorithm ownself or from low level API inwhich we need to define our own work. \n",
    "\n",
    "I will go with both the cases to represent difference. Before this we must need some important information for sagemaker to give permissions and you can find them from [common_para_list](https://docs.aws.amazon.com/sagemaker/latest/dg/sagemaker-algo-docker-registry-paths.html)\n"
   ]
  },
  {
   "cell_type": "code",
   "execution_count": 39,
   "metadata": {
    "colab": {},
    "colab_type": "code",
    "id": "SXtdSvnHoDa3",
    "scrolled": true
   },
   "outputs": [
    {
     "name": "stderr",
     "output_type": "stream",
     "text": [
      "WARNING:sagemaker.amazon.amazon_estimator:'get_image_uri' method will be deprecated in favor of 'ImageURIProvider' class in SageMaker Python SDK v2.\n",
      "WARNING:root:There is a more up to date SageMaker XGBoost image. To use the newer image, please set 'repo_version'='1.0-1'. For example:\n",
      "\tget_image_uri(region, 'xgboost', '1.0-1').\n",
      "WARNING:root:Parameter image_name will be renamed to image_uri in SageMaker Python SDK v2.\n"
     ]
    }
   ],
   "source": [
    "# define container with uri to define container with session and ml-model info.\n",
    "container = get_image_uri(session.boto_region_name,'xgboost')\n",
    "\n",
    "# Now construct container object with requried parametrs.\n",
    "xgb = sagemaker.estimator.Estimator(container,                                  # our training container\n",
    "                                    role,                                       # defined IAM role for training\n",
    "                                    train_instance_count=1,                     # instaces, depend how many you created - for lengthy job need more\n",
    "                                    train_instance_type = 'ml.m4.xlarge',       # type of instace type for deployjent - can use m2 to m5 (AWS rate will according to that, check here --> https://aws.amazon.com/sagemaker/pricing/)\n",
    "                                    output_path = 's3://{}/{}/output'.format(session.default_bucket(),prefix),   # output destination\n",
    "                                    sagemaker_session=session)                  # current session (because instance are on regionwise servers, s3 bucket is globalize platform)"
   ]
  },
  {
   "cell_type": "markdown",
   "metadata": {
    "colab_type": "text",
    "id": "ZjnFyDbzCRO9"
   },
   "source": [
    "> ***SageMaker has xgb Hyper parameters for tuning so, we can seperate parameters in two main clubs first one are static and other will be dynamic(continuouse) tuing paraeters. you can check the documentation here clck it*** [here.](https://docs.aws.amazon.com/sagemaker/latest/dg/xgboost_hyperparameters.html)"
   ]
  },
  {
   "cell_type": "code",
   "execution_count": 40,
   "metadata": {
    "colab": {},
    "colab_type": "code",
    "id": "8uFTgAYkoDYW"
   },
   "outputs": [],
   "source": [
    "# set HyperParameter of model.\n",
    "xgb.set_hyperparameters(max_depth=5,\n",
    "                        eta=0.2,\n",
    "                        gamma=4,\n",
    "                        min_child_weight=6,\n",
    "                        subsample=0.8,\n",
    "                        objective='reg:linear',        # ()':' for represents)\n",
    "                        early_stopping_rounds=10,\n",
    "                        num_round=200)"
   ]
  },
  {
   "cell_type": "markdown",
   "metadata": {
    "colab_type": "text",
    "id": "3aRkAIhvL9Yk"
   },
   "source": [
    "The best thing about AWS service is about Hyper Parameter tuning freatures. \n",
    "> If you have little bit experience with ML and DL deep network training on complex data then you know, How much frustrating to set HP for better model accuracy, we all face different problems for that such as overfitting, gradient explodation/ vanishing, underfitting, time/computation complexity etc...\n",
    "\n",
    "With HP tuner we can provide range for output and wait for best model HP, sagemaker will return the best executed model."
   ]
  },
  {
   "cell_type": "code",
   "execution_count": 41,
   "metadata": {
    "colab": {},
    "colab_type": "code",
    "id": "bojDn-F5L8lP"
   },
   "outputs": [],
   "source": [
    "from sagemaker.tuner import IntegerParameter, ContinuousParameter, HyperparameterTuner\n",
    "\n",
    "xgb_hyperparameter_tuner = HyperparameterTuner(estimator = xgb,                                    # choose your model type (ML-approach)\n",
    "                                               objective_metric_name = 'validation:rmse',          # Evaluation Matrix for model comparison \n",
    "                                               objective_type = 'Minimize',                        # What you want? ---> minimize / maximize matrix result as best model (here, minimize will give best accuracy (due to error matrix))\n",
    "                                               max_jobs = 20,                                      # total models to train --> More model=>more time=> expensive \n",
    "                                               max_parallel_jobs = 3,                              # The number of models to train in parallel, (more parallel operation--> powerful instance type(cpu) => More Money to spend)\n",
    "                                               hyperparameter_ranges = {\n",
    "                                                    'max_depth': IntegerParameter(3, 12),        # visit -->  https://docs.aws.amazon.com/sagemaker/latest/dg/xgboost_hyperparameters.html\n",
    "                                                    'eta'      : ContinuousParameter(0.05, 0.5), \n",
    "                                                    'min_child_weight': IntegerParameter(2, 8),\n",
    "                                                    'subsample': ContinuousParameter(0.5, 0.9),\n",
    "                                                    'gamma': ContinuousParameter(0, 10),\n",
    "                                               })"
   ]
  },
  {
   "cell_type": "code",
   "execution_count": 48,
   "metadata": {
    "colab": {},
    "colab_type": "code",
    "id": "nHH4FRGZoDVs"
   },
   "outputs": [
    {
     "name": "stderr",
     "output_type": "stream",
     "text": [
      "WARNING:sagemaker:'s3_input' class will be renamed to 'TrainingInput' in SageMaker Python SDK v2.\n",
      "WARNING:sagemaker:'s3_input' class will be renamed to 'TrainingInput' in SageMaker Python SDK v2.\n"
     ]
    }
   ],
   "source": [
    "# give some more info to sagemaker about our input's data structure and arrangement\n",
    "s3_input_train = sagemaker.s3_input(s3_data= train_location, content_type='csv')\n",
    "s3_input_validation = sagemaker.s3_input(s3_data= val_location, content_type='csv')\n",
    "\n",
    "xgb_hyperparameter_tuner.fit({'train':s3_input_train,'validation': s3_input_validation})      ##### check the model name during fit (bug fixed)"
   ]
  },
  {
   "cell_type": "code",
   "execution_count": 49,
   "metadata": {
    "colab": {},
    "colab_type": "code",
    "id": "JM8hxoBOMAr6"
   },
   "outputs": [
    {
     "name": "stdout",
     "output_type": "stream",
     "text": [
      "....................................................................................................................................................................................................................................................................................................!\n"
     ]
    }
   ],
   "source": [
    "# wait for model response (after all, we gave 20 model execution job!)\n",
    "xgb_hyperparameter_tuner.wait()                                                     ##### model job conflication occured -> solved "
   ]
  },
  {
   "cell_type": "code",
   "execution_count": 50,
   "metadata": {
    "colab": {},
    "colab_type": "code",
    "id": "oZuFagfPMAO4"
   },
   "outputs": [
    {
     "data": {
      "text/plain": [
       "'xgboost-200606-0559-019-e996df8f'"
      ]
     },
     "execution_count": 50,
     "metadata": {},
     "output_type": "execute_result"
    }
   ],
   "source": [
    "#pick best model for me for highest accuracy\n",
    "xgb_hyperparameter_tuner.best_training_job()"
   ]
  },
  {
   "cell_type": "code",
   "execution_count": 51,
   "metadata": {
    "colab": {},
    "colab_type": "code",
    "id": "sJfG2n5QL_q5"
   },
   "outputs": [
    {
     "name": "stderr",
     "output_type": "stream",
     "text": [
      "WARNING:root:Parameter image_name will be renamed to image_uri in SageMaker Python SDK v2.\n"
     ]
    },
    {
     "name": "stdout",
     "output_type": "stream",
     "text": [
      "2020-06-06 06:23:19 Starting - Preparing the instances for training\n",
      "2020-06-06 06:23:19 Downloading - Downloading input data\n",
      "2020-06-06 06:23:19 Training - Training image download completed. Training in progress.\n",
      "2020-06-06 06:23:19 Uploading - Uploading generated training model\n",
      "2020-06-06 06:23:19 Completed - Training job completed\u001b[34mArguments: train\u001b[0m\n",
      "\u001b[34m[2020-06-06:06:23:08:INFO] Running standalone xgboost training.\u001b[0m\n",
      "\u001b[34m[2020-06-06:06:23:08:INFO] Setting up HPO optimized metric to be : rmse\u001b[0m\n",
      "\u001b[34m[2020-06-06:06:23:08:INFO] File size need to be processed in the node: 0.02mb. Available memory size in the node: 8478.66mb\u001b[0m\n",
      "\u001b[34m[2020-06-06:06:23:08:INFO] Determined delimiter of CSV input is ','\u001b[0m\n",
      "\u001b[34m[06:23:08] S3DistributionType set as FullyReplicated\u001b[0m\n",
      "\u001b[34m[06:23:08] 227x13 matrix with 2951 entries loaded from /opt/ml/input/data/train?format=csv&label_column=0&delimiter=,\u001b[0m\n",
      "\u001b[34m[2020-06-06:06:23:08:INFO] Determined delimiter of CSV input is ','\u001b[0m\n",
      "\u001b[34m[06:23:08] S3DistributionType set as FullyReplicated\u001b[0m\n",
      "\u001b[34m[06:23:08] 112x13 matrix with 1456 entries loaded from /opt/ml/input/data/validation?format=csv&label_column=0&delimiter=,\u001b[0m\n",
      "\u001b[34m[06:23:08] src/tree/updater_prune.cc:74: tree pruning end, 1 roots, 10 extra nodes, 0 pruned nodes, max_depth=4\u001b[0m\n",
      "\u001b[34m[0]#011train-rmse:15.6539#011validation-rmse:15.736\u001b[0m\n",
      "\u001b[34mMultiple eval metrics have been passed: 'validation-rmse' will be used for early stopping.\n",
      "\u001b[0m\n",
      "\u001b[34mWill train until validation-rmse hasn't improved in 10 rounds.\u001b[0m\n",
      "\u001b[34m[06:23:08] src/tree/updater_prune.cc:74: tree pruning end, 1 roots, 16 extra nodes, 4 pruned nodes, max_depth=4\u001b[0m\n",
      "\u001b[34m[1]#011train-rmse:10.5926#011validation-rmse:10.8719\u001b[0m\n",
      "\u001b[34m[06:23:08] src/tree/updater_prune.cc:74: tree pruning end, 1 roots, 26 extra nodes, 6 pruned nodes, max_depth=7\u001b[0m\n",
      "\u001b[34m[2]#011train-rmse:7.22896#011validation-rmse:7.60705\u001b[0m\n",
      "\u001b[34m[06:23:08] src/tree/updater_prune.cc:74: tree pruning end, 1 roots, 30 extra nodes, 12 pruned nodes, max_depth=6\u001b[0m\n",
      "\u001b[34m[3]#011train-rmse:5.15337#011validation-rmse:5.66068\u001b[0m\n",
      "\u001b[34m[06:23:08] src/tree/updater_prune.cc:74: tree pruning end, 1 roots, 40 extra nodes, 14 pruned nodes, max_depth=12\u001b[0m\n",
      "\u001b[34m[4]#011train-rmse:3.88283#011validation-rmse:4.70976\u001b[0m\n",
      "\u001b[34m[06:23:08] src/tree/updater_prune.cc:74: tree pruning end, 1 roots, 40 extra nodes, 48 pruned nodes, max_depth=11\u001b[0m\n",
      "\u001b[34m[5]#011train-rmse:3.21715#011validation-rmse:4.28596\u001b[0m\n",
      "\u001b[34m[06:23:08] src/tree/updater_prune.cc:74: tree pruning end, 1 roots, 48 extra nodes, 48 pruned nodes, max_depth=9\u001b[0m\n",
      "\u001b[34m[6]#011train-rmse:2.58836#011validation-rmse:3.87494\u001b[0m\n",
      "\u001b[34m[06:23:08] src/tree/updater_prune.cc:74: tree pruning end, 1 roots, 44 extra nodes, 46 pruned nodes, max_depth=10\u001b[0m\n",
      "\u001b[34m[7]#011train-rmse:2.17329#011validation-rmse:3.70967\u001b[0m\n",
      "\u001b[34m[06:23:08] src/tree/updater_prune.cc:74: tree pruning end, 1 roots, 38 extra nodes, 56 pruned nodes, max_depth=9\u001b[0m\n",
      "\u001b[34m[8]#011train-rmse:1.76402#011validation-rmse:3.49707\u001b[0m\n",
      "\u001b[34m[06:23:08] src/tree/updater_prune.cc:74: tree pruning end, 1 roots, 20 extra nodes, 72 pruned nodes, max_depth=8\u001b[0m\n",
      "\u001b[34m[9]#011train-rmse:1.57619#011validation-rmse:3.38433\u001b[0m\n",
      "\u001b[34m[06:23:08] src/tree/updater_prune.cc:74: tree pruning end, 1 roots, 28 extra nodes, 46 pruned nodes, max_depth=10\u001b[0m\n",
      "\u001b[34m[10]#011train-rmse:1.37533#011validation-rmse:3.32353\u001b[0m\n",
      "\u001b[34m[06:23:08] src/tree/updater_prune.cc:74: tree pruning end, 1 roots, 12 extra nodes, 62 pruned nodes, max_depth=5\u001b[0m\n",
      "\u001b[34m[11]#011train-rmse:1.28341#011validation-rmse:3.31532\u001b[0m\n",
      "\u001b[34m[06:23:08] src/tree/updater_prune.cc:74: tree pruning end, 1 roots, 18 extra nodes, 56 pruned nodes, max_depth=8\u001b[0m\n",
      "\u001b[34m[12]#011train-rmse:1.22622#011validation-rmse:3.32767\u001b[0m\n",
      "\u001b[34m[06:23:08] src/tree/updater_prune.cc:74: tree pruning end, 1 roots, 14 extra nodes, 84 pruned nodes, max_depth=7\u001b[0m\n",
      "\u001b[34m[13]#011train-rmse:1.17947#011validation-rmse:3.2889\u001b[0m\n",
      "\u001b[34m[06:23:08] src/tree/updater_prune.cc:74: tree pruning end, 1 roots, 8 extra nodes, 94 pruned nodes, max_depth=4\u001b[0m\n",
      "\u001b[34m[14]#011train-rmse:1.15711#011validation-rmse:3.28853\u001b[0m\n",
      "\u001b[34m[06:23:08] src/tree/updater_prune.cc:74: tree pruning end, 1 roots, 12 extra nodes, 86 pruned nodes, max_depth=3\u001b[0m\n",
      "\u001b[34m[15]#011train-rmse:1.09337#011validation-rmse:3.33183\u001b[0m\n",
      "\u001b[34m[06:23:08] src/tree/updater_prune.cc:74: tree pruning end, 1 roots, 4 extra nodes, 68 pruned nodes, max_depth=2\u001b[0m\n",
      "\u001b[34m[16]#011train-rmse:1.07607#011validation-rmse:3.33838\u001b[0m\n",
      "\u001b[34m[06:23:08] src/tree/updater_prune.cc:74: tree pruning end, 1 roots, 12 extra nodes, 92 pruned nodes, max_depth=6\u001b[0m\n",
      "\u001b[34m[17]#011train-rmse:1.03424#011validation-rmse:3.31897\u001b[0m\n",
      "\u001b[34m[06:23:08] src/tree/updater_prune.cc:74: tree pruning end, 1 roots, 6 extra nodes, 96 pruned nodes, max_depth=3\u001b[0m\n",
      "\u001b[34m[18]#011train-rmse:0.990003#011validation-rmse:3.32086\u001b[0m\n",
      "\u001b[34m[06:23:08] src/tree/updater_prune.cc:74: tree pruning end, 1 roots, 2 extra nodes, 82 pruned nodes, max_depth=1\u001b[0m\n",
      "\u001b[34m[19]#011train-rmse:0.990813#011validation-rmse:3.32824\u001b[0m\n",
      "\u001b[34m[06:23:08] src/tree/updater_prune.cc:74: tree pruning end, 1 roots, 6 extra nodes, 100 pruned nodes, max_depth=3\u001b[0m\n",
      "\u001b[34m[20]#011train-rmse:0.972074#011validation-rmse:3.31316\u001b[0m\n",
      "\u001b[34m[06:23:08] src/tree/updater_prune.cc:74: tree pruning end, 1 roots, 8 extra nodes, 84 pruned nodes, max_depth=4\u001b[0m\n",
      "\u001b[34m[21]#011train-rmse:0.952092#011validation-rmse:3.28104\u001b[0m\n",
      "\u001b[34m[06:23:08] src/tree/updater_prune.cc:74: tree pruning end, 1 roots, 4 extra nodes, 88 pruned nodes, max_depth=2\u001b[0m\n",
      "\u001b[34m[22]#011train-rmse:0.935609#011validation-rmse:3.27909\u001b[0m\n",
      "\u001b[34m[06:23:08] src/tree/updater_prune.cc:74: tree pruning end, 1 roots, 8 extra nodes, 94 pruned nodes, max_depth=4\u001b[0m\n",
      "\u001b[34m[23]#011train-rmse:0.91811#011validation-rmse:3.30961\u001b[0m\n",
      "\u001b[34m[06:23:08] src/tree/updater_prune.cc:74: tree pruning end, 1 roots, 0 extra nodes, 100 pruned nodes, max_depth=0\u001b[0m\n",
      "\u001b[34m[24]#011train-rmse:0.917991#011validation-rmse:3.31005\u001b[0m\n",
      "\u001b[34m[06:23:08] src/tree/updater_prune.cc:74: tree pruning end, 1 roots, 4 extra nodes, 102 pruned nodes, max_depth=2\u001b[0m\n",
      "\u001b[34m[25]#011train-rmse:0.910708#011validation-rmse:3.30772\u001b[0m\n",
      "\u001b[34m[06:23:08] src/tree/updater_prune.cc:74: tree pruning end, 1 roots, 0 extra nodes, 110 pruned nodes, max_depth=0\u001b[0m\n",
      "\u001b[34m[26]#011train-rmse:0.911181#011validation-rmse:3.30636\u001b[0m\n",
      "\u001b[34m[06:23:08] src/tree/updater_prune.cc:74: tree pruning end, 1 roots, 8 extra nodes, 72 pruned nodes, max_depth=4\u001b[0m\n",
      "\u001b[34m[27]#011train-rmse:0.893858#011validation-rmse:3.30774\u001b[0m\n",
      "\u001b[34m[06:23:08] src/tree/updater_prune.cc:74: tree pruning end, 1 roots, 0 extra nodes, 92 pruned nodes, max_depth=0\u001b[0m\n",
      "\u001b[34m[28]#011train-rmse:0.893849#011validation-rmse:3.30756\u001b[0m\n",
      "\u001b[34m[06:23:08] src/tree/updater_prune.cc:74: tree pruning end, 1 roots, 0 extra nodes, 100 pruned nodes, max_depth=0\u001b[0m\n",
      "\u001b[34m[29]#011train-rmse:0.893995#011validation-rmse:3.30882\u001b[0m\n",
      "\u001b[34m[06:23:08] src/tree/updater_prune.cc:74: tree pruning end, 1 roots, 0 extra nodes, 106 pruned nodes, max_depth=0\u001b[0m\n",
      "\u001b[34m[30]#011train-rmse:0.893883#011validation-rmse:3.30805\u001b[0m\n",
      "\u001b[34m[06:23:08] src/tree/updater_prune.cc:74: tree pruning end, 1 roots, 0 extra nodes, 104 pruned nodes, max_depth=0\u001b[0m\n",
      "\u001b[34m[31]#011train-rmse:0.894303#011validation-rmse:3.31003\u001b[0m\n",
      "\u001b[34m[06:23:08] src/tree/updater_prune.cc:74: tree pruning end, 1 roots, 0 extra nodes, 100 pruned nodes, max_depth=0\u001b[0m\n",
      "\u001b[34m[32]#011train-rmse:0.894094#011validation-rmse:3.30928\u001b[0m\n",
      "\u001b[34mStopping. Best iteration:\u001b[0m\n",
      "\u001b[34m[22]#011train-rmse:0.935609#011validation-rmse:3.27909\n",
      "\u001b[0m\n",
      "Training seconds: 67\n",
      "Billable seconds: 67\n"
     ]
    }
   ],
   "source": [
    "# replace our previous xgb with best one.\n",
    "xgb_attached = sagemaker.estimator.Estimator.attach(xgb_hyperparameter_tuner.best_training_job())"
   ]
  },
  {
   "cell_type": "markdown",
   "metadata": {
    "colab_type": "text",
    "id": "Fr_EtAQUDXrM"
   },
   "source": [
    "## Test Model\n",
    "Testing need special requirement of sagemaker-batch transform. It works in background so we need to wait.\n",
    "\n",
    "So, first let's construct transform object and give batch transform work.\n"
   ]
  },
  {
   "cell_type": "code",
   "execution_count": 52,
   "metadata": {
    "colab": {},
    "colab_type": "code",
    "id": "YeUMCepHoDT0"
   },
   "outputs": [
    {
     "name": "stderr",
     "output_type": "stream",
     "text": [
      "WARNING:sagemaker:Parameter image will be renamed to image_uri in SageMaker Python SDK v2.\n"
     ]
    }
   ],
   "source": [
    "xgb_transformer = xgb_attached.transformer(instance_count =1, instance_type = 'ml.m4.xlarge')"
   ]
  },
  {
   "cell_type": "code",
   "execution_count": 53,
   "metadata": {
    "colab": {},
    "colab_type": "code",
    "id": "vxfJWfd1oDQs"
   },
   "outputs": [],
   "source": [
    "xgb_transformer.transform(test_location,content_type='text/csv',split_type='Line')"
   ]
  },
  {
   "cell_type": "code",
   "execution_count": 54,
   "metadata": {
    "colab": {},
    "colab_type": "code",
    "id": "OJXJx29AoDCQ"
   },
   "outputs": [
    {
     "name": "stdout",
     "output_type": "stream",
     "text": [
      "...................\u001b[34mArguments: serve\u001b[0m\n",
      "\u001b[34m[2020-06-06 06:26:56 +0000] [1] [INFO] Starting gunicorn 19.7.1\u001b[0m\n",
      "\u001b[34m[2020-06-06 06:26:56 +0000] [1] [INFO] Listening at: http://0.0.0.0:8080 (1)\u001b[0m\n",
      "\u001b[34m[2020-06-06 06:26:56 +0000] [1] [INFO] Using worker: gevent\u001b[0m\n",
      "\u001b[34m[2020-06-06 06:26:56 +0000] [37] [INFO] Booting worker with pid: 37\u001b[0m\n",
      "\u001b[34m[2020-06-06 06:26:56 +0000] [38] [INFO] Booting worker with pid: 38\u001b[0m\n",
      "\u001b[34m[2020-06-06:06:26:56:INFO] Model loaded successfully for worker : 37\u001b[0m\n",
      "\u001b[34m[2020-06-06:06:26:56:INFO] Model loaded successfully for worker : 38\u001b[0m\n",
      "\u001b[34m[2020-06-06 06:26:56 +0000] [39] [INFO] Booting worker with pid: 39\u001b[0m\n",
      "\u001b[34m[2020-06-06 06:26:56 +0000] [40] [INFO] Booting worker with pid: 40\u001b[0m\n",
      "\u001b[34m[2020-06-06:06:26:56:INFO] Model loaded successfully for worker : 39\u001b[0m\n",
      "\u001b[34m[2020-06-06:06:26:56:INFO] Model loaded successfully for worker : 40\u001b[0m\n",
      "\u001b[34m[2020-06-06:06:27:21:INFO] Sniff delimiter as ','\u001b[0m\n",
      "\u001b[34m[2020-06-06:06:27:21:INFO] Determined delimiter of CSV input is ','\u001b[0m\n",
      "\u001b[35m[2020-06-06:06:27:21:INFO] Sniff delimiter as ','\u001b[0m\n",
      "\u001b[35m[2020-06-06:06:27:21:INFO] Determined delimiter of CSV input is ','\u001b[0m\n",
      "\u001b[32m2020-06-06T06:27:21.522:[sagemaker logs]: MaxConcurrentTransforms=4, MaxPayloadInMB=6, BatchStrategy=MULTI_RECORD\u001b[0m\n",
      "\n"
     ]
    }
   ],
   "source": [
    "xgb_transformer.wait()"
   ]
  },
  {
   "cell_type": "markdown",
   "metadata": {
    "colab_type": "text",
    "id": "QV0QZe-oFdZG"
   },
   "source": [
    "Our Output will saved automatically, For more operation we need to download it locally (locally means on the notebook instance, not on local drive!)....this will doen by jupyter notebook magic."
   ]
  },
  {
   "cell_type": "code",
   "execution_count": 55,
   "metadata": {
    "colab": {},
    "colab_type": "code",
    "id": "72YF0ABXFTVU"
   },
   "outputs": [
    {
     "name": "stdout",
     "output_type": "stream",
     "text": [
      "Completed 2.3 KiB/2.3 KiB (14.5 KiB/s) with 1 file(s) remaining\r",
      "download: s3://sagemaker-us-west-2-337299574287/xgboost-200606-0559-019-e996df8f-2020-06-06-06-23-49-472/test.csv.out to .../data/boston/test.csv.out\r\n"
     ]
    }
   ],
   "source": [
    "!aws s3 cp --recursive $xgb_transformer.output_path $data_dir"
   ]
  },
  {
   "cell_type": "markdown",
   "metadata": {
    "colab_type": "text",
    "id": "nXx09MqeGTA8"
   },
   "source": [
    "## Ouput visualization (scatter plot)\n"
   ]
  },
  {
   "cell_type": "code",
   "execution_count": 57,
   "metadata": {
    "colab": {},
    "colab_type": "code",
    "id": "CP4VMuG-FTR6"
   },
   "outputs": [
    {
     "data": {
      "text/plain": [
       "Text(0.5, 1.0, 'Median Price vs Predicted Price')"
      ]
     },
     "execution_count": 57,
     "metadata": {},
     "output_type": "execute_result"
    },
    {
     "data": {
      "image/png": "[encoded data removed]",
      "text/plain": [
       "<Figure size 432x288 with 1 Axes>"
      ]
     },
     "metadata": {
      "needs_background": "light"
     },
     "output_type": "display_data"
    }
   ],
   "source": [
    "Y_pred = pd.read_csv(os.path.join(data_dir, 'test.csv.out'), header=None)\n",
    "plt.scatter(y_test, _pred)\n",
    "plt.xlabel(\"Median Price\")\n",
    "plt.ylabel(\"Predicted Price\")\n",
    "plt.title(\"Median Price vs Predicted Price\")"
   ]
  },
  {
   "cell_type": "markdown",
   "metadata": {
    "colab_type": "text",
    "id": "HLniLdj9GtLN"
   },
   "source": [
    "### Important Observation:\n",
    "\n",
    "In sagemaker, we have notebook instance in sagemaker, and on one instance I am going to train other models (... that you can see it in its parent folder), so if we trained this model in notebook means some space of instance must be used. Or, may be more (90 to 95 % of total..(just assume)) \n",
    "\n",
    "In such case, if I run other notebook then due to unavailable space it will give error, and its hard to solve sometime. So, its better to delete this data directory. \n",
    "\n",
    "- You can do it from terminate notebook stance also.\n",
    "\n",
    "***Keep in mind*, IT WILL LOSS YOUR ALL DATA**, even given **INPUT DATA**\n"
   ]
  },
  {
   "cell_type": "code",
   "execution_count": 58,
   "metadata": {
    "colab": {},
    "colab_type": "code",
    "id": "qEUH0aZ-FTPr"
   },
   "outputs": [],
   "source": [
    "# remove all the files from data_dir\n",
    "!rm $data_dir/*\n",
    "\n",
    "# remove directory\n",
    "!rmdir $data_dir"
   ]
  },
  {
   "cell_type": "markdown",
   "metadata": {
    "colab_type": "text",
    "id": "fAwYFU2aH6LC"
   },
   "source": [
    "### Summary \n",
    "Let's revise \n",
    "The flow of notebook  ...\n",
    "1. Download or otherwise retrieve the data.\n",
    "2. Process / Prepare the data.\n",
    "3. Upload the processed data to S3.\n",
    "4. Train a chosen model.\n",
    "5. Test the trained model (typically using a batch transform job).\n",
    "6. Deploy the trained model.\n",
    "7. Use the deployed model.\n",
    "\n",
    "Thats all, please visit [image_folder]() to see aws working screenshots."
   ]
  },
  {
   "cell_type": "code",
   "execution_count": 59,
   "metadata": {
    "colab": {},
    "colab_type": "code",
    "id": "lqrUT1T-FTMU"
   },
   "outputs": [],
   "source": [
    "# \"Keep Learning, Enjoy Empowering\" @dave117"
   ]
  },
  {
   "cell_type": "code",
   "execution_count": null,
   "metadata": {},
   "outputs": [],
   "source": []
  }
 ],
 "metadata": {
  "colab": {
   "authorship_tag": "ABX9TyO8fRQCUlOMbUYhkz1VU7FE",
   "collapsed_sections": [],
   "include_colab_link": true,
   "name": "Boston_House(AWS-SageMaker.Batch_Transform/HP_Tuning).ipynb",
   "provenance": []
  },
  "kernelspec": {
   "display_name": "conda_pytorch_latest_p36",
   "language": "python",
   "name": "conda_pytorch_latest_p36"
  },
  "language_info": {
   "codemirror_mode": {
    "name": "ipython",
    "version": 3
   },
   "file_extension": ".py",
   "mimetype": "text/x-python",
   "name": "python",
   "nbconvert_exporter": "python",
   "pygments_lexer": "ipython3",
   "version": "3.6.10"
  }
 },
 "nbformat": 4,
 "nbformat_minor": 1
}
