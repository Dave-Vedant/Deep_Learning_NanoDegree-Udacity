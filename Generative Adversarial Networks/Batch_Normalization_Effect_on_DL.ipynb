{
  "nbformat": 4,
  "nbformat_minor": 0,
  "metadata": {
    "colab": {
      "name": "Batch_Norm._Effect.ipynb",
      "provenance": [],
      "authorship_tag": "ABX9TyPEySC+NGfuHQANWPvUGCw0",
      "include_colab_link": true
    },
    "kernelspec": {
      "name": "python3",
      "display_name": "Python 3"
    },
    "widgets": {
      "application/vnd.jupyter.widget-state+json": {
        "5d935c9064c245009e9000b153d709fc": {
          "model_module": "@jupyter-widgets/controls",
          "model_name": "HBoxModel",
          "state": {
            "_view_name": "HBoxView",
            "_dom_classes": [],
            "_model_name": "HBoxModel",
            "_view_module": "@jupyter-widgets/controls",
            "_model_module_version": "1.5.0",
            "_view_count": null,
            "_view_module_version": "1.5.0",
            "box_style": "",
            "layout": "IPY_MODEL_098af8952b51417ca9646eb79b493805",
            "_model_module": "@jupyter-widgets/controls",
            "children": [
              "IPY_MODEL_5b9a4d6fd05c4821b71900574fbb858f",
              "IPY_MODEL_69455930f30649839cb373d0a6927d99"
            ]
          }
        },
        "098af8952b51417ca9646eb79b493805": {
          "model_module": "@jupyter-widgets/base",
          "model_name": "LayoutModel",
          "state": {
            "_view_name": "LayoutView",
            "grid_template_rows": null,
            "right": null,
            "justify_content": null,
            "_view_module": "@jupyter-widgets/base",
            "overflow": null,
            "_model_module_version": "1.2.0",
            "_view_count": null,
            "flex_flow": null,
            "width": null,
            "min_width": null,
            "border": null,
            "align_items": null,
            "bottom": null,
            "_model_module": "@jupyter-widgets/base",
            "top": null,
            "grid_column": null,
            "overflow_y": null,
            "overflow_x": null,
            "grid_auto_flow": null,
            "grid_area": null,
            "grid_template_columns": null,
            "flex": null,
            "_model_name": "LayoutModel",
            "justify_items": null,
            "grid_row": null,
            "max_height": null,
            "align_content": null,
            "visibility": null,
            "align_self": null,
            "height": null,
            "min_height": null,
            "padding": null,
            "grid_auto_rows": null,
            "grid_gap": null,
            "max_width": null,
            "order": null,
            "_view_module_version": "1.2.0",
            "grid_template_areas": null,
            "object_position": null,
            "object_fit": null,
            "grid_auto_columns": null,
            "margin": null,
            "display": null,
            "left": null
          }
        },
        "5b9a4d6fd05c4821b71900574fbb858f": {
          "model_module": "@jupyter-widgets/controls",
          "model_name": "FloatProgressModel",
          "state": {
            "_view_name": "ProgressView",
            "style": "IPY_MODEL_4d4ce41eb51f4b94877398888aba3fb2",
            "_dom_classes": [],
            "description": "",
            "_model_name": "FloatProgressModel",
            "bar_style": "info",
            "max": 1,
            "_view_module": "@jupyter-widgets/controls",
            "_model_module_version": "1.5.0",
            "value": 1,
            "_view_count": null,
            "_view_module_version": "1.5.0",
            "orientation": "horizontal",
            "min": 0,
            "description_tooltip": null,
            "_model_module": "@jupyter-widgets/controls",
            "layout": "IPY_MODEL_271614db87cb47ed92b62270a950e88a"
          }
        },
        "69455930f30649839cb373d0a6927d99": {
          "model_module": "@jupyter-widgets/controls",
          "model_name": "HTMLModel",
          "state": {
            "_view_name": "HTMLView",
            "style": "IPY_MODEL_126a30175b5e471f9d05663cc8d2a823",
            "_dom_classes": [],
            "description": "",
            "_model_name": "HTMLModel",
            "placeholder": "​",
            "_view_module": "@jupyter-widgets/controls",
            "_model_module_version": "1.5.0",
            "value": " 9920512/? [00:20&lt;00:00, 771154.23it/s]",
            "_view_count": null,
            "_view_module_version": "1.5.0",
            "description_tooltip": null,
            "_model_module": "@jupyter-widgets/controls",
            "layout": "IPY_MODEL_78c7ff29c2de4721affa0d7c1b8fbfcd"
          }
        },
        "4d4ce41eb51f4b94877398888aba3fb2": {
          "model_module": "@jupyter-widgets/controls",
          "model_name": "ProgressStyleModel",
          "state": {
            "_view_name": "StyleView",
            "_model_name": "ProgressStyleModel",
            "description_width": "initial",
            "_view_module": "@jupyter-widgets/base",
            "_model_module_version": "1.5.0",
            "_view_count": null,
            "_view_module_version": "1.2.0",
            "bar_color": null,
            "_model_module": "@jupyter-widgets/controls"
          }
        },
        "271614db87cb47ed92b62270a950e88a": {
          "model_module": "@jupyter-widgets/base",
          "model_name": "LayoutModel",
          "state": {
            "_view_name": "LayoutView",
            "grid_template_rows": null,
            "right": null,
            "justify_content": null,
            "_view_module": "@jupyter-widgets/base",
            "overflow": null,
            "_model_module_version": "1.2.0",
            "_view_count": null,
            "flex_flow": null,
            "width": null,
            "min_width": null,
            "border": null,
            "align_items": null,
            "bottom": null,
            "_model_module": "@jupyter-widgets/base",
            "top": null,
            "grid_column": null,
            "overflow_y": null,
            "overflow_x": null,
            "grid_auto_flow": null,
            "grid_area": null,
            "grid_template_columns": null,
            "flex": null,
            "_model_name": "LayoutModel",
            "justify_items": null,
            "grid_row": null,
            "max_height": null,
            "align_content": null,
            "visibility": null,
            "align_self": null,
            "height": null,
            "min_height": null,
            "padding": null,
            "grid_auto_rows": null,
            "grid_gap": null,
            "max_width": null,
            "order": null,
            "_view_module_version": "1.2.0",
            "grid_template_areas": null,
            "object_position": null,
            "object_fit": null,
            "grid_auto_columns": null,
            "margin": null,
            "display": null,
            "left": null
          }
        },
        "126a30175b5e471f9d05663cc8d2a823": {
          "model_module": "@jupyter-widgets/controls",
          "model_name": "DescriptionStyleModel",
          "state": {
            "_view_name": "StyleView",
            "_model_name": "DescriptionStyleModel",
            "description_width": "",
            "_view_module": "@jupyter-widgets/base",
            "_model_module_version": "1.5.0",
            "_view_count": null,
            "_view_module_version": "1.2.0",
            "_model_module": "@jupyter-widgets/controls"
          }
        },
        "78c7ff29c2de4721affa0d7c1b8fbfcd": {
          "model_module": "@jupyter-widgets/base",
          "model_name": "LayoutModel",
          "state": {
            "_view_name": "LayoutView",
            "grid_template_rows": null,
            "right": null,
            "justify_content": null,
            "_view_module": "@jupyter-widgets/base",
            "overflow": null,
            "_model_module_version": "1.2.0",
            "_view_count": null,
            "flex_flow": null,
            "width": null,
            "min_width": null,
            "border": null,
            "align_items": null,
            "bottom": null,
            "_model_module": "@jupyter-widgets/base",
            "top": null,
            "grid_column": null,
            "overflow_y": null,
            "overflow_x": null,
            "grid_auto_flow": null,
            "grid_area": null,
            "grid_template_columns": null,
            "flex": null,
            "_model_name": "LayoutModel",
            "justify_items": null,
            "grid_row": null,
            "max_height": null,
            "align_content": null,
            "visibility": null,
            "align_self": null,
            "height": null,
            "min_height": null,
            "padding": null,
            "grid_auto_rows": null,
            "grid_gap": null,
            "max_width": null,
            "order": null,
            "_view_module_version": "1.2.0",
            "grid_template_areas": null,
            "object_position": null,
            "object_fit": null,
            "grid_auto_columns": null,
            "margin": null,
            "display": null,
            "left": null
          }
        },
        "29bc64d1452b45db9945ecd3e0d26e0a": {
          "model_module": "@jupyter-widgets/controls",
          "model_name": "HBoxModel",
          "state": {
            "_view_name": "HBoxView",
            "_dom_classes": [],
            "_model_name": "HBoxModel",
            "_view_module": "@jupyter-widgets/controls",
            "_model_module_version": "1.5.0",
            "_view_count": null,
            "_view_module_version": "1.5.0",
            "box_style": "",
            "layout": "IPY_MODEL_265f690663c142df9f1578a7d148f442",
            "_model_module": "@jupyter-widgets/controls",
            "children": [
              "IPY_MODEL_387f5754f0d8497fbdcd80936568bb4f",
              "IPY_MODEL_c146e8fa135f41b0bca8dbc25d67470c"
            ]
          }
        },
        "265f690663c142df9f1578a7d148f442": {
          "model_module": "@jupyter-widgets/base",
          "model_name": "LayoutModel",
          "state": {
            "_view_name": "LayoutView",
            "grid_template_rows": null,
            "right": null,
            "justify_content": null,
            "_view_module": "@jupyter-widgets/base",
            "overflow": null,
            "_model_module_version": "1.2.0",
            "_view_count": null,
            "flex_flow": null,
            "width": null,
            "min_width": null,
            "border": null,
            "align_items": null,
            "bottom": null,
            "_model_module": "@jupyter-widgets/base",
            "top": null,
            "grid_column": null,
            "overflow_y": null,
            "overflow_x": null,
            "grid_auto_flow": null,
            "grid_area": null,
            "grid_template_columns": null,
            "flex": null,
            "_model_name": "LayoutModel",
            "justify_items": null,
            "grid_row": null,
            "max_height": null,
            "align_content": null,
            "visibility": null,
            "align_self": null,
            "height": null,
            "min_height": null,
            "padding": null,
            "grid_auto_rows": null,
            "grid_gap": null,
            "max_width": null,
            "order": null,
            "_view_module_version": "1.2.0",
            "grid_template_areas": null,
            "object_position": null,
            "object_fit": null,
            "grid_auto_columns": null,
            "margin": null,
            "display": null,
            "left": null
          }
        },
        "387f5754f0d8497fbdcd80936568bb4f": {
          "model_module": "@jupyter-widgets/controls",
          "model_name": "FloatProgressModel",
          "state": {
            "_view_name": "ProgressView",
            "style": "IPY_MODEL_0599285435e842a182c10d2b07635727",
            "_dom_classes": [],
            "description": "  0%",
            "_model_name": "FloatProgressModel",
            "bar_style": "info",
            "max": 1,
            "_view_module": "@jupyter-widgets/controls",
            "_model_module_version": "1.5.0",
            "value": 0,
            "_view_count": null,
            "_view_module_version": "1.5.0",
            "orientation": "horizontal",
            "min": 0,
            "description_tooltip": null,
            "_model_module": "@jupyter-widgets/controls",
            "layout": "IPY_MODEL_e91a7969ac0f46eebabaec57338e59b0"
          }
        },
        "c146e8fa135f41b0bca8dbc25d67470c": {
          "model_module": "@jupyter-widgets/controls",
          "model_name": "HTMLModel",
          "state": {
            "_view_name": "HTMLView",
            "style": "IPY_MODEL_5bbe5f8559c54d7e9603b4ea85f0bf52",
            "_dom_classes": [],
            "description": "",
            "_model_name": "HTMLModel",
            "placeholder": "​",
            "_view_module": "@jupyter-widgets/controls",
            "_model_module_version": "1.5.0",
            "value": " 0/28881 [00:00&lt;?, ?it/s]",
            "_view_count": null,
            "_view_module_version": "1.5.0",
            "description_tooltip": null,
            "_model_module": "@jupyter-widgets/controls",
            "layout": "IPY_MODEL_43c2bcd7e81c4adbbd1eac778f48f26f"
          }
        },
        "0599285435e842a182c10d2b07635727": {
          "model_module": "@jupyter-widgets/controls",
          "model_name": "ProgressStyleModel",
          "state": {
            "_view_name": "StyleView",
            "_model_name": "ProgressStyleModel",
            "description_width": "initial",
            "_view_module": "@jupyter-widgets/base",
            "_model_module_version": "1.5.0",
            "_view_count": null,
            "_view_module_version": "1.2.0",
            "bar_color": null,
            "_model_module": "@jupyter-widgets/controls"
          }
        },
        "e91a7969ac0f46eebabaec57338e59b0": {
          "model_module": "@jupyter-widgets/base",
          "model_name": "LayoutModel",
          "state": {
            "_view_name": "LayoutView",
            "grid_template_rows": null,
            "right": null,
            "justify_content": null,
            "_view_module": "@jupyter-widgets/base",
            "overflow": null,
            "_model_module_version": "1.2.0",
            "_view_count": null,
            "flex_flow": null,
            "width": null,
            "min_width": null,
            "border": null,
            "align_items": null,
            "bottom": null,
            "_model_module": "@jupyter-widgets/base",
            "top": null,
            "grid_column": null,
            "overflow_y": null,
            "overflow_x": null,
            "grid_auto_flow": null,
            "grid_area": null,
            "grid_template_columns": null,
            "flex": null,
            "_model_name": "LayoutModel",
            "justify_items": null,
            "grid_row": null,
            "max_height": null,
            "align_content": null,
            "visibility": null,
            "align_self": null,
            "height": null,
            "min_height": null,
            "padding": null,
            "grid_auto_rows": null,
            "grid_gap": null,
            "max_width": null,
            "order": null,
            "_view_module_version": "1.2.0",
            "grid_template_areas": null,
            "object_position": null,
            "object_fit": null,
            "grid_auto_columns": null,
            "margin": null,
            "display": null,
            "left": null
          }
        },
        "5bbe5f8559c54d7e9603b4ea85f0bf52": {
          "model_module": "@jupyter-widgets/controls",
          "model_name": "DescriptionStyleModel",
          "state": {
            "_view_name": "StyleView",
            "_model_name": "DescriptionStyleModel",
            "description_width": "",
            "_view_module": "@jupyter-widgets/base",
            "_model_module_version": "1.5.0",
            "_view_count": null,
            "_view_module_version": "1.2.0",
            "_model_module": "@jupyter-widgets/controls"
          }
        },
        "43c2bcd7e81c4adbbd1eac778f48f26f": {
          "model_module": "@jupyter-widgets/base",
          "model_name": "LayoutModel",
          "state": {
            "_view_name": "LayoutView",
            "grid_template_rows": null,
            "right": null,
            "justify_content": null,
            "_view_module": "@jupyter-widgets/base",
            "overflow": null,
            "_model_module_version": "1.2.0",
            "_view_count": null,
            "flex_flow": null,
            "width": null,
            "min_width": null,
            "border": null,
            "align_items": null,
            "bottom": null,
            "_model_module": "@jupyter-widgets/base",
            "top": null,
            "grid_column": null,
            "overflow_y": null,
            "overflow_x": null,
            "grid_auto_flow": null,
            "grid_area": null,
            "grid_template_columns": null,
            "flex": null,
            "_model_name": "LayoutModel",
            "justify_items": null,
            "grid_row": null,
            "max_height": null,
            "align_content": null,
            "visibility": null,
            "align_self": null,
            "height": null,
            "min_height": null,
            "padding": null,
            "grid_auto_rows": null,
            "grid_gap": null,
            "max_width": null,
            "order": null,
            "_view_module_version": "1.2.0",
            "grid_template_areas": null,
            "object_position": null,
            "object_fit": null,
            "grid_auto_columns": null,
            "margin": null,
            "display": null,
            "left": null
          }
        },
        "b50270938703462580ecc85678d20903": {
          "model_module": "@jupyter-widgets/controls",
          "model_name": "HBoxModel",
          "state": {
            "_view_name": "HBoxView",
            "_dom_classes": [],
            "_model_name": "HBoxModel",
            "_view_module": "@jupyter-widgets/controls",
            "_model_module_version": "1.5.0",
            "_view_count": null,
            "_view_module_version": "1.5.0",
            "box_style": "",
            "layout": "IPY_MODEL_7663339d9175483e8979cb75c883a4e1",
            "_model_module": "@jupyter-widgets/controls",
            "children": [
              "IPY_MODEL_f8d37e78c86b40cf8fb5aa6419119e0a",
              "IPY_MODEL_fda90a5502014513921b72f1e6afc8c7"
            ]
          }
        },
        "7663339d9175483e8979cb75c883a4e1": {
          "model_module": "@jupyter-widgets/base",
          "model_name": "LayoutModel",
          "state": {
            "_view_name": "LayoutView",
            "grid_template_rows": null,
            "right": null,
            "justify_content": null,
            "_view_module": "@jupyter-widgets/base",
            "overflow": null,
            "_model_module_version": "1.2.0",
            "_view_count": null,
            "flex_flow": null,
            "width": null,
            "min_width": null,
            "border": null,
            "align_items": null,
            "bottom": null,
            "_model_module": "@jupyter-widgets/base",
            "top": null,
            "grid_column": null,
            "overflow_y": null,
            "overflow_x": null,
            "grid_auto_flow": null,
            "grid_area": null,
            "grid_template_columns": null,
            "flex": null,
            "_model_name": "LayoutModel",
            "justify_items": null,
            "grid_row": null,
            "max_height": null,
            "align_content": null,
            "visibility": null,
            "align_self": null,
            "height": null,
            "min_height": null,
            "padding": null,
            "grid_auto_rows": null,
            "grid_gap": null,
            "max_width": null,
            "order": null,
            "_view_module_version": "1.2.0",
            "grid_template_areas": null,
            "object_position": null,
            "object_fit": null,
            "grid_auto_columns": null,
            "margin": null,
            "display": null,
            "left": null
          }
        },
        "f8d37e78c86b40cf8fb5aa6419119e0a": {
          "model_module": "@jupyter-widgets/controls",
          "model_name": "FloatProgressModel",
          "state": {
            "_view_name": "ProgressView",
            "style": "IPY_MODEL_a0f3e48684c5407cb0fb1d9df0a46895",
            "_dom_classes": [],
            "description": "",
            "_model_name": "FloatProgressModel",
            "bar_style": "info",
            "max": 1,
            "_view_module": "@jupyter-widgets/controls",
            "_model_module_version": "1.5.0",
            "value": 1,
            "_view_count": null,
            "_view_module_version": "1.5.0",
            "orientation": "horizontal",
            "min": 0,
            "description_tooltip": null,
            "_model_module": "@jupyter-widgets/controls",
            "layout": "IPY_MODEL_0f12581a0bf74355993b4f4e87b55017"
          }
        },
        "fda90a5502014513921b72f1e6afc8c7": {
          "model_module": "@jupyter-widgets/controls",
          "model_name": "HTMLModel",
          "state": {
            "_view_name": "HTMLView",
            "style": "IPY_MODEL_39df6571fc8f40fd8dd46e80742b2e35",
            "_dom_classes": [],
            "description": "",
            "_model_name": "HTMLModel",
            "placeholder": "​",
            "_view_module": "@jupyter-widgets/controls",
            "_model_module_version": "1.5.0",
            "value": " 1654784/? [00:18&lt;00:00, 264161.92it/s]",
            "_view_count": null,
            "_view_module_version": "1.5.0",
            "description_tooltip": null,
            "_model_module": "@jupyter-widgets/controls",
            "layout": "IPY_MODEL_40b0fc47ba5c4b4aba089f336e86d5be"
          }
        },
        "a0f3e48684c5407cb0fb1d9df0a46895": {
          "model_module": "@jupyter-widgets/controls",
          "model_name": "ProgressStyleModel",
          "state": {
            "_view_name": "StyleView",
            "_model_name": "ProgressStyleModel",
            "description_width": "initial",
            "_view_module": "@jupyter-widgets/base",
            "_model_module_version": "1.5.0",
            "_view_count": null,
            "_view_module_version": "1.2.0",
            "bar_color": null,
            "_model_module": "@jupyter-widgets/controls"
          }
        },
        "0f12581a0bf74355993b4f4e87b55017": {
          "model_module": "@jupyter-widgets/base",
          "model_name": "LayoutModel",
          "state": {
            "_view_name": "LayoutView",
            "grid_template_rows": null,
            "right": null,
            "justify_content": null,
            "_view_module": "@jupyter-widgets/base",
            "overflow": null,
            "_model_module_version": "1.2.0",
            "_view_count": null,
            "flex_flow": null,
            "width": null,
            "min_width": null,
            "border": null,
            "align_items": null,
            "bottom": null,
            "_model_module": "@jupyter-widgets/base",
            "top": null,
            "grid_column": null,
            "overflow_y": null,
            "overflow_x": null,
            "grid_auto_flow": null,
            "grid_area": null,
            "grid_template_columns": null,
            "flex": null,
            "_model_name": "LayoutModel",
            "justify_items": null,
            "grid_row": null,
            "max_height": null,
            "align_content": null,
            "visibility": null,
            "align_self": null,
            "height": null,
            "min_height": null,
            "padding": null,
            "grid_auto_rows": null,
            "grid_gap": null,
            "max_width": null,
            "order": null,
            "_view_module_version": "1.2.0",
            "grid_template_areas": null,
            "object_position": null,
            "object_fit": null,
            "grid_auto_columns": null,
            "margin": null,
            "display": null,
            "left": null
          }
        },
        "39df6571fc8f40fd8dd46e80742b2e35": {
          "model_module": "@jupyter-widgets/controls",
          "model_name": "DescriptionStyleModel",
          "state": {
            "_view_name": "StyleView",
            "_model_name": "DescriptionStyleModel",
            "description_width": "",
            "_view_module": "@jupyter-widgets/base",
            "_model_module_version": "1.5.0",
            "_view_count": null,
            "_view_module_version": "1.2.0",
            "_model_module": "@jupyter-widgets/controls"
          }
        },
        "40b0fc47ba5c4b4aba089f336e86d5be": {
          "model_module": "@jupyter-widgets/base",
          "model_name": "LayoutModel",
          "state": {
            "_view_name": "LayoutView",
            "grid_template_rows": null,
            "right": null,
            "justify_content": null,
            "_view_module": "@jupyter-widgets/base",
            "overflow": null,
            "_model_module_version": "1.2.0",
            "_view_count": null,
            "flex_flow": null,
            "width": null,
            "min_width": null,
            "border": null,
            "align_items": null,
            "bottom": null,
            "_model_module": "@jupyter-widgets/base",
            "top": null,
            "grid_column": null,
            "overflow_y": null,
            "overflow_x": null,
            "grid_auto_flow": null,
            "grid_area": null,
            "grid_template_columns": null,
            "flex": null,
            "_model_name": "LayoutModel",
            "justify_items": null,
            "grid_row": null,
            "max_height": null,
            "align_content": null,
            "visibility": null,
            "align_self": null,
            "height": null,
            "min_height": null,
            "padding": null,
            "grid_auto_rows": null,
            "grid_gap": null,
            "max_width": null,
            "order": null,
            "_view_module_version": "1.2.0",
            "grid_template_areas": null,
            "object_position": null,
            "object_fit": null,
            "grid_auto_columns": null,
            "margin": null,
            "display": null,
            "left": null
          }
        },
        "e497787b159d40e0adf3e1d9a877d3c8": {
          "model_module": "@jupyter-widgets/controls",
          "model_name": "HBoxModel",
          "state": {
            "_view_name": "HBoxView",
            "_dom_classes": [],
            "_model_name": "HBoxModel",
            "_view_module": "@jupyter-widgets/controls",
            "_model_module_version": "1.5.0",
            "_view_count": null,
            "_view_module_version": "1.5.0",
            "box_style": "",
            "layout": "IPY_MODEL_db823d83903e48319ff44b4d118c4cc0",
            "_model_module": "@jupyter-widgets/controls",
            "children": [
              "IPY_MODEL_a69e71e0f4304466ba3e852a6a9af826",
              "IPY_MODEL_8e5a16ae93024e6ba0d3f977bf671167"
            ]
          }
        },
        "db823d83903e48319ff44b4d118c4cc0": {
          "model_module": "@jupyter-widgets/base",
          "model_name": "LayoutModel",
          "state": {
            "_view_name": "LayoutView",
            "grid_template_rows": null,
            "right": null,
            "justify_content": null,
            "_view_module": "@jupyter-widgets/base",
            "overflow": null,
            "_model_module_version": "1.2.0",
            "_view_count": null,
            "flex_flow": null,
            "width": null,
            "min_width": null,
            "border": null,
            "align_items": null,
            "bottom": null,
            "_model_module": "@jupyter-widgets/base",
            "top": null,
            "grid_column": null,
            "overflow_y": null,
            "overflow_x": null,
            "grid_auto_flow": null,
            "grid_area": null,
            "grid_template_columns": null,
            "flex": null,
            "_model_name": "LayoutModel",
            "justify_items": null,
            "grid_row": null,
            "max_height": null,
            "align_content": null,
            "visibility": null,
            "align_self": null,
            "height": null,
            "min_height": null,
            "padding": null,
            "grid_auto_rows": null,
            "grid_gap": null,
            "max_width": null,
            "order": null,
            "_view_module_version": "1.2.0",
            "grid_template_areas": null,
            "object_position": null,
            "object_fit": null,
            "grid_auto_columns": null,
            "margin": null,
            "display": null,
            "left": null
          }
        },
        "a69e71e0f4304466ba3e852a6a9af826": {
          "model_module": "@jupyter-widgets/controls",
          "model_name": "FloatProgressModel",
          "state": {
            "_view_name": "ProgressView",
            "style": "IPY_MODEL_31325d7c5d7c45bf812d21a204371bbf",
            "_dom_classes": [],
            "description": "  0%",
            "_model_name": "FloatProgressModel",
            "bar_style": "info",
            "max": 1,
            "_view_module": "@jupyter-widgets/controls",
            "_model_module_version": "1.5.0",
            "value": 0,
            "_view_count": null,
            "_view_module_version": "1.5.0",
            "orientation": "horizontal",
            "min": 0,
            "description_tooltip": null,
            "_model_module": "@jupyter-widgets/controls",
            "layout": "IPY_MODEL_b3c9b89c0b55423f86857ca66040fc9e"
          }
        },
        "8e5a16ae93024e6ba0d3f977bf671167": {
          "model_module": "@jupyter-widgets/controls",
          "model_name": "HTMLModel",
          "state": {
            "_view_name": "HTMLView",
            "style": "IPY_MODEL_9d0237885a3b4309b10e9ef05f736f0d",
            "_dom_classes": [],
            "description": "",
            "_model_name": "HTMLModel",
            "placeholder": "​",
            "_view_module": "@jupyter-widgets/controls",
            "_model_module_version": "1.5.0",
            "value": " 0/4542 [00:00&lt;?, ?it/s]",
            "_view_count": null,
            "_view_module_version": "1.5.0",
            "description_tooltip": null,
            "_model_module": "@jupyter-widgets/controls",
            "layout": "IPY_MODEL_2b574e2704c44df8b076c5a1ec79658c"
          }
        },
        "31325d7c5d7c45bf812d21a204371bbf": {
          "model_module": "@jupyter-widgets/controls",
          "model_name": "ProgressStyleModel",
          "state": {
            "_view_name": "StyleView",
            "_model_name": "ProgressStyleModel",
            "description_width": "initial",
            "_view_module": "@jupyter-widgets/base",
            "_model_module_version": "1.5.0",
            "_view_count": null,
            "_view_module_version": "1.2.0",
            "bar_color": null,
            "_model_module": "@jupyter-widgets/controls"
          }
        },
        "b3c9b89c0b55423f86857ca66040fc9e": {
          "model_module": "@jupyter-widgets/base",
          "model_name": "LayoutModel",
          "state": {
            "_view_name": "LayoutView",
            "grid_template_rows": null,
            "right": null,
            "justify_content": null,
            "_view_module": "@jupyter-widgets/base",
            "overflow": null,
            "_model_module_version": "1.2.0",
            "_view_count": null,
            "flex_flow": null,
            "width": null,
            "min_width": null,
            "border": null,
            "align_items": null,
            "bottom": null,
            "_model_module": "@jupyter-widgets/base",
            "top": null,
            "grid_column": null,
            "overflow_y": null,
            "overflow_x": null,
            "grid_auto_flow": null,
            "grid_area": null,
            "grid_template_columns": null,
            "flex": null,
            "_model_name": "LayoutModel",
            "justify_items": null,
            "grid_row": null,
            "max_height": null,
            "align_content": null,
            "visibility": null,
            "align_self": null,
            "height": null,
            "min_height": null,
            "padding": null,
            "grid_auto_rows": null,
            "grid_gap": null,
            "max_width": null,
            "order": null,
            "_view_module_version": "1.2.0",
            "grid_template_areas": null,
            "object_position": null,
            "object_fit": null,
            "grid_auto_columns": null,
            "margin": null,
            "display": null,
            "left": null
          }
        },
        "9d0237885a3b4309b10e9ef05f736f0d": {
          "model_module": "@jupyter-widgets/controls",
          "model_name": "DescriptionStyleModel",
          "state": {
            "_view_name": "StyleView",
            "_model_name": "DescriptionStyleModel",
            "description_width": "",
            "_view_module": "@jupyter-widgets/base",
            "_model_module_version": "1.5.0",
            "_view_count": null,
            "_view_module_version": "1.2.0",
            "_model_module": "@jupyter-widgets/controls"
          }
        },
        "2b574e2704c44df8b076c5a1ec79658c": {
          "model_module": "@jupyter-widgets/base",
          "model_name": "LayoutModel",
          "state": {
            "_view_name": "LayoutView",
            "grid_template_rows": null,
            "right": null,
            "justify_content": null,
            "_view_module": "@jupyter-widgets/base",
            "overflow": null,
            "_model_module_version": "1.2.0",
            "_view_count": null,
            "flex_flow": null,
            "width": null,
            "min_width": null,
            "border": null,
            "align_items": null,
            "bottom": null,
            "_model_module": "@jupyter-widgets/base",
            "top": null,
            "grid_column": null,
            "overflow_y": null,
            "overflow_x": null,
            "grid_auto_flow": null,
            "grid_area": null,
            "grid_template_columns": null,
            "flex": null,
            "_model_name": "LayoutModel",
            "justify_items": null,
            "grid_row": null,
            "max_height": null,
            "align_content": null,
            "visibility": null,
            "align_self": null,
            "height": null,
            "min_height": null,
            "padding": null,
            "grid_auto_rows": null,
            "grid_gap": null,
            "max_width": null,
            "order": null,
            "_view_module_version": "1.2.0",
            "grid_template_areas": null,
            "object_position": null,
            "object_fit": null,
            "grid_auto_columns": null,
            "margin": null,
            "display": null,
            "left": null
          }
        }
      }
    }
  },
  "cells": [
    {
      "cell_type": "markdown",
      "metadata": {
        "id": "view-in-github",
        "colab_type": "text"
      },
      "source": [
        "<a href=\"https://colab.research.google.com/github/vedantdave77/project.Orca/blob/master/Generative%20Adversarial%20Networks/Batch_Normalization_Effect_on_DL.ipynb\" target=\"_parent\"><img src=\"https://colab.research.google.com/assets/colab-badge.svg\" alt=\"Open In Colab\"/></a>"
      ]
    },
    {
      "cell_type": "markdown",
      "metadata": {
        "id": "i7JlQv4Zf-IO",
        "colab_type": "text"
      },
      "source": [
        "# Batch Normalization\n",
        "\n",
        "IN this notebook I will inplement layer level batch normalization in Neural Network. Its has huge impact on GAN performance. Here, my main motive is to understand the effect of batch transform on deep learning algorithm. And, will measure the performance difference. \n",
        "\n",
        "> It's called batch normalization because during training, we normalize each layer's inputs by using the mean and variance of the values in the current batch."
      ]
    },
    {
      "cell_type": "markdown",
      "metadata": {
        "id": "9v28nF4sf9_q",
        "colab_type": "text"
      },
      "source": [
        "## Import Library"
      ]
    },
    {
      "cell_type": "code",
      "metadata": {
        "id": "BpUiHsEhe32p",
        "colab_type": "code",
        "colab": {}
      },
      "source": [
        "import numpy as np\n",
        "import torch\n",
        "import torch.nn as nn\n",
        "import torch.nn.functional as F\n",
        "import matplotlib.pyplot as plt\n",
        "%matplotlib inline "
      ],
      "execution_count": 2,
      "outputs": []
    },
    {
      "cell_type": "markdown",
      "metadata": {
        "id": "Kt-P6VYMjj-U",
        "colab_type": "text"
      },
      "source": [
        "## Data Preparation\n",
        "\n"
      ]
    },
    {
      "cell_type": "code",
      "metadata": {
        "id": "CsQv3C4tjXBx",
        "colab_type": "code",
        "colab": {
          "base_uri": "https://localhost:8080/",
          "height": 365,
          "referenced_widgets": [
            "5d935c9064c245009e9000b153d709fc",
            "098af8952b51417ca9646eb79b493805",
            "5b9a4d6fd05c4821b71900574fbb858f",
            "69455930f30649839cb373d0a6927d99",
            "4d4ce41eb51f4b94877398888aba3fb2",
            "271614db87cb47ed92b62270a950e88a",
            "126a30175b5e471f9d05663cc8d2a823",
            "78c7ff29c2de4721affa0d7c1b8fbfcd",
            "29bc64d1452b45db9945ecd3e0d26e0a",
            "265f690663c142df9f1578a7d148f442",
            "387f5754f0d8497fbdcd80936568bb4f",
            "c146e8fa135f41b0bca8dbc25d67470c",
            "0599285435e842a182c10d2b07635727",
            "e91a7969ac0f46eebabaec57338e59b0",
            "5bbe5f8559c54d7e9603b4ea85f0bf52",
            "43c2bcd7e81c4adbbd1eac778f48f26f",
            "b50270938703462580ecc85678d20903",
            "7663339d9175483e8979cb75c883a4e1",
            "f8d37e78c86b40cf8fb5aa6419119e0a",
            "fda90a5502014513921b72f1e6afc8c7",
            "a0f3e48684c5407cb0fb1d9df0a46895",
            "0f12581a0bf74355993b4f4e87b55017",
            "39df6571fc8f40fd8dd46e80742b2e35",
            "40b0fc47ba5c4b4aba089f336e86d5be",
            "e497787b159d40e0adf3e1d9a877d3c8",
            "db823d83903e48319ff44b4d118c4cc0",
            "a69e71e0f4304466ba3e852a6a9af826",
            "8e5a16ae93024e6ba0d3f977bf671167",
            "31325d7c5d7c45bf812d21a204371bbf",
            "b3c9b89c0b55423f86857ca66040fc9e",
            "9d0237885a3b4309b10e9ef05f736f0d",
            "2b574e2704c44df8b076c5a1ec79658c"
          ]
        },
        "outputId": "d813ff06-3b4b-4915-d1f9-d3c858cc3447"
      },
      "source": [
        "from torchvision import datasets\n",
        "import torchvision.transforms as transforms\n",
        "\n",
        "num_workers = 2\n",
        "batch_size = 64\n",
        "transform = transforms.ToTensor()\n",
        "\n",
        "# Import data\n",
        "train_data = datasets.MNIST(root = 'data', train=True, download=True, transform = transform)\n",
        "test_data = datasets.MNIST(root = 'data', train=False, download=True, transform = transform)\n",
        "\n",
        "# preparing  Data loader\n",
        "train_loader = torch.utils.data.DataLoader(train_data,batch_size = batch_size, num_workers= num_workers)\n",
        "test_loader = torch.utils.data.DataLoader(test_data, batch_size = batch_size, num_workers=num_workers)"
      ],
      "execution_count": 3,
      "outputs": [
        {
          "output_type": "stream",
          "text": [
            "Downloading http://yann.lecun.com/exdb/mnist/train-images-idx3-ubyte.gz to data/MNIST/raw/train-images-idx3-ubyte.gz\n"
          ],
          "name": "stdout"
        },
        {
          "output_type": "display_data",
          "data": {
            "application/vnd.jupyter.widget-view+json": {
              "model_id": "5d935c9064c245009e9000b153d709fc",
              "version_minor": 0,
              "version_major": 2
            },
            "text/plain": [
              "HBox(children=(FloatProgress(value=1.0, bar_style='info', max=1.0), HTML(value='')))"
            ]
          },
          "metadata": {
            "tags": []
          }
        },
        {
          "output_type": "stream",
          "text": [
            "Extracting data/MNIST/raw/train-images-idx3-ubyte.gz to data/MNIST/raw\n",
            "Downloading http://yann.lecun.com/exdb/mnist/train-labels-idx1-ubyte.gz to data/MNIST/raw/train-labels-idx1-ubyte.gz\n"
          ],
          "name": "stdout"
        },
        {
          "output_type": "display_data",
          "data": {
            "application/vnd.jupyter.widget-view+json": {
              "model_id": "29bc64d1452b45db9945ecd3e0d26e0a",
              "version_minor": 0,
              "version_major": 2
            },
            "text/plain": [
              "HBox(children=(FloatProgress(value=1.0, bar_style='info', max=1.0), HTML(value='')))"
            ]
          },
          "metadata": {
            "tags": []
          }
        },
        {
          "output_type": "stream",
          "text": [
            "Extracting data/MNIST/raw/train-labels-idx1-ubyte.gz to data/MNIST/raw\n",
            "Downloading http://yann.lecun.com/exdb/mnist/t10k-images-idx3-ubyte.gz to data/MNIST/raw/t10k-images-idx3-ubyte.gz\n"
          ],
          "name": "stdout"
        },
        {
          "output_type": "display_data",
          "data": {
            "application/vnd.jupyter.widget-view+json": {
              "model_id": "b50270938703462580ecc85678d20903",
              "version_minor": 0,
              "version_major": 2
            },
            "text/plain": [
              "HBox(children=(FloatProgress(value=1.0, bar_style='info', max=1.0), HTML(value='')))"
            ]
          },
          "metadata": {
            "tags": []
          }
        },
        {
          "output_type": "stream",
          "text": [
            "Extracting data/MNIST/raw/t10k-images-idx3-ubyte.gz to data/MNIST/raw\n",
            "Downloading http://yann.lecun.com/exdb/mnist/t10k-labels-idx1-ubyte.gz to data/MNIST/raw/t10k-labels-idx1-ubyte.gz\n"
          ],
          "name": "stdout"
        },
        {
          "output_type": "display_data",
          "data": {
            "application/vnd.jupyter.widget-view+json": {
              "model_id": "e497787b159d40e0adf3e1d9a877d3c8",
              "version_minor": 0,
              "version_major": 2
            },
            "text/plain": [
              "HBox(children=(FloatProgress(value=1.0, bar_style='info', max=1.0), HTML(value='')))"
            ]
          },
          "metadata": {
            "tags": []
          }
        },
        {
          "output_type": "stream",
          "text": [
            "Extracting data/MNIST/raw/t10k-labels-idx1-ubyte.gz to data/MNIST/raw\n",
            "Processing...\n",
            "Done!\n"
          ],
          "name": "stdout"
        },
        {
          "output_type": "stream",
          "text": [
            "/usr/local/lib/python3.6/dist-packages/torchvision/datasets/mnist.py:469: UserWarning: The given NumPy array is not writeable, and PyTorch does not support non-writeable tensors. This means you can write to the underlying (supposedly non-writeable) NumPy array using the tensor. You may want to copy the array to protect its data or make it writeable before converting it to a tensor. This type of warning will be suppressed for the rest of this program. (Triggered internally at  /pytorch/torch/csrc/utils/tensor_numpy.cpp:141.)\n",
            "  return torch.from_numpy(parsed.astype(m[2], copy=False)).view(*s)\n"
          ],
          "name": "stderr"
        }
      ]
    },
    {
      "cell_type": "markdown",
      "metadata": {
        "id": "PZhjc4A8mNGP",
        "colab_type": "text"
      },
      "source": [
        "## Visualize data"
      ]
    },
    {
      "cell_type": "code",
      "metadata": {
        "id": "vzx-E-Yim4DA",
        "colab_type": "code",
        "colab": {
          "base_uri": "https://localhost:8080/",
          "height": 228
        },
        "outputId": "b6faa51e-91d9-452a-8d06-33998f307729"
      },
      "source": [
        "# obtain one batch of image\n",
        "dataiter = iter(train_loader)\n",
        "images, labels = dataiter.next()\n",
        "images = images.numpy()\n",
        "\n",
        "# get one image from the batch\n",
        "img = np.squeeze(images[0])\n",
        "\n",
        "fig = plt.figure(figsize = (3,3)) \n",
        "ax = fig.add_subplot(111)\n",
        "ax.imshow(img, cmap='gray')"
      ],
      "execution_count": 4,
      "outputs": [
        {
          "output_type": "execute_result",
          "data": {
            "text/plain": [
              "<matplotlib.image.AxesImage at 0x7fb248dd1c88>"
            ]
          },
          "metadata": {
            "tags": []
          },
          "execution_count": 4
        },
        {
          "output_type": "display_data",
          "data": {
            "image/png": "[encoded data removed]",
            "text/plain": [
              "<Figure size 216x216 with 1 Axes>"
            ]
          },
          "metadata": {
            "tags": [],
            "needs_background": "light"
          }
        }
      ]
    },
    {
      "cell_type": "markdown",
      "metadata": {
        "id": "juO62DDvnnOd",
        "colab_type": "text"
      },
      "source": [
        "## Model Architecture\n",
        "\n",
        "NeuralNet, allows us to create identical neural networks with and without batch normalization to compare. ."
      ]
    },
    {
      "cell_type": "code",
      "metadata": {
        "id": "jM_mACZ8m4qx",
        "colab_type": "code",
        "colab": {}
      },
      "source": [
        "class Batch_Normalization(nn.Module):\n",
        "  def __init__( self, use_batch_norm, input_size = 784, hidden_dim = 256, output_size = 10):\n",
        "    super(Batch_Normalization,self).__init__()\n",
        "    self.hidden_dim = hidden_dim\n",
        "    self.input_size = input_size\n",
        "    self.output_size = output_size\n",
        "    self.use_batch_norm = use_batch_norm\n",
        "\n",
        "    if use_batch_norm:\n",
        "      self.fc1 = nn.Linear(input_size, hidden_dim*2, bias=False)\n",
        "      self.batch_norm1 = nn.BatchNorm1d(hidden_dim*2)\n",
        "    else:\n",
        "      self.fc1 = nn.Linear(input_size,hidden_dim*2)\n",
        "\n",
        "    if use_batch_norm:\n",
        "      self.fc2 = nn.Linear(hidden_dim*2, hidden_dim,bias =False)\n",
        "      self.batch_norm2 = nn.BatchNorm1d(hidden_dim)\n",
        "    else:\n",
        "      self.fc2 = nn.Linear(hidden_dim*2,hidden_dim)\n",
        "\n",
        "    # third and final, fully-connected layer\n",
        "    self.fc3 = nn.Linear(hidden_dim, output_size)\n",
        "\n",
        "  def forward(self,x):\n",
        "    # flatten image\n",
        "    x = x.view(-1, 28*28)\n",
        "    # --------------------------first_layer\n",
        "    x = self.fc1(x)\n",
        "    if self.use_batch_norm:\n",
        "      x = self.batch_norm1(x)\n",
        "    x = F.relu(x)\n",
        "    # -------------------------- second_layer\n",
        "    x = self.fc2(x)\n",
        "    if self.use_batch_norm:\n",
        "      x = self.batch_norm2(x)\n",
        "    x = F.relu(x)\n",
        "   # ---------------------------- third_layer\n",
        "    x = self.fc3(x)\n",
        "    return x "
      ],
      "execution_count": 7,
      "outputs": []
    },
    {
      "cell_type": "markdown",
      "metadata": {
        "id": "hjpDRqdnxFmw",
        "colab_type": "text"
      },
      "source": [
        "## Model Testing  \n",
        "\n",
        "Two different models for comparission."
      ]
    },
    {
      "cell_type": "code",
      "metadata": {
        "id": "ESt4AvH6wjgK",
        "colab_type": "code",
        "colab": {
          "base_uri": "https://localhost:8080/",
          "height": 233
        },
        "outputId": "998fcb87-d11b-4a4d-92c7-3c792fa9d5a8"
      },
      "source": [
        "NN_without_batchNorm = Batch_Normalization(use_batch_norm= False)\n",
        "NN_with_batchNorm = Batch_Normalization(use_batch_norm= True)\n",
        "\n",
        "print(NN_with_batchNorm) \n",
        "print()\n",
        "print(NN_without_batchNorm)"
      ],
      "execution_count": 8,
      "outputs": [
        {
          "output_type": "stream",
          "text": [
            "Batch_Normalization(\n",
            "  (fc1): Linear(in_features=784, out_features=512, bias=False)\n",
            "  (batch_norm1): BatchNorm1d(512, eps=1e-05, momentum=0.1, affine=True, track_running_stats=True)\n",
            "  (fc2): Linear(in_features=512, out_features=256, bias=False)\n",
            "  (batch_norm2): BatchNorm1d(256, eps=1e-05, momentum=0.1, affine=True, track_running_stats=True)\n",
            "  (fc3): Linear(in_features=256, out_features=10, bias=True)\n",
            ")\n",
            "\n",
            "Batch_Normalization(\n",
            "  (fc1): Linear(in_features=784, out_features=512, bias=True)\n",
            "  (fc2): Linear(in_features=512, out_features=256, bias=True)\n",
            "  (fc3): Linear(in_features=256, out_features=10, bias=True)\n",
            ")\n"
          ],
          "name": "stdout"
        }
      ]
    },
    {
      "cell_type": "markdown",
      "metadata": {
        "id": "Nc1p8mHVyVQk",
        "colab_type": "text"
      },
      "source": [
        "## Model Training\n",
        "\n",
        "I will use cross entropy loss and stochastic gradient descent for optimization. And, will record the model behaviour after each epoch. So, its easy to compare."
      ]
    },
    {
      "cell_type": "code",
      "metadata": {
        "id": "v3dOoMh8xDqQ",
        "colab_type": "code",
        "colab": {}
      },
      "source": [
        "def train(model, n_epochs=25):\n",
        "  \n",
        "  losses = []\n",
        "  train_loss = 0.0\n",
        "  batch_count = 0\n",
        "  criterion = nn.CrossEntropyLoss()\n",
        "\n",
        "  optimizer = torch.optim.SGD(model.parameters(), lr=0.01)\n",
        "\n",
        "  model.train()\n",
        "  for epoch in range(1, n_epochs+1):\n",
        "    for batch_id, (data,target) in enumerate(train_loader):\n",
        "      optimizer.zero_grad()                                                     # grad_reset -> output -> loss -> loss-backward -> optimizer -> indi. loss update -> coutner update ->loos_update\n",
        "      output = model(data)\n",
        "      loss = criterion(output, target)\n",
        "      loss.backward()\n",
        "      optimizer.step()\n",
        "      train_loss += loss.item()\n",
        "      batch_count += 1\n",
        "\n",
        "    losses.append(train_loss/batch_count)\n",
        "    print(\"Epoch: {} \\tTraining_loss: {:.6f}\".format(epoch, train_loss/batch_count))\n",
        "  return losses"
      ],
      "execution_count": 21,
      "outputs": []
    },
    {
      "cell_type": "markdown",
      "metadata": {
        "id": "OB7j-Wvl48My",
        "colab_type": "text"
      },
      "source": [
        "## Comparing Models\n",
        "\n",
        "In the below cells, we train our two different models and compare their trainining loss over time."
      ]
    },
    {
      "cell_type": "code",
      "metadata": {
        "id": "B3Xr2d_ExDc3",
        "colab_type": "code",
        "colab": {
          "base_uri": "https://localhost:8080/",
          "height": 433
        },
        "outputId": "1509a598-1997-4206-fb00-dc61da4cfed6"
      },
      "source": [
        "loss_batchNorm = train(NN_with_batchNorm)"
      ],
      "execution_count": 22,
      "outputs": [
        {
          "output_type": "stream",
          "text": [
            "Epoch: 1 \tTraining_loss: 0.083981\n",
            "Epoch: 2 \tTraining_loss: 0.074009\n",
            "Epoch: 3 \tTraining_loss: 0.065888\n",
            "Epoch: 4 \tTraining_loss: 0.059155\n",
            "Epoch: 5 \tTraining_loss: 0.053485\n",
            "Epoch: 6 \tTraining_loss: 0.048660\n",
            "Epoch: 7 \tTraining_loss: 0.044524\n",
            "Epoch: 8 \tTraining_loss: 0.040959\n",
            "Epoch: 9 \tTraining_loss: 0.037870\n",
            "Epoch: 10 \tTraining_loss: 0.035184\n",
            "Epoch: 11 \tTraining_loss: 0.032834\n",
            "Epoch: 12 \tTraining_loss: 0.030768\n",
            "Epoch: 13 \tTraining_loss: 0.028940\n",
            "Epoch: 14 \tTraining_loss: 0.027315\n",
            "Epoch: 15 \tTraining_loss: 0.025862\n",
            "Epoch: 16 \tTraining_loss: 0.024555\n",
            "Epoch: 17 \tTraining_loss: 0.023376\n",
            "Epoch: 18 \tTraining_loss: 0.022306\n",
            "Epoch: 19 \tTraining_loss: 0.021330\n",
            "Epoch: 20 \tTraining_loss: 0.020438\n",
            "Epoch: 21 \tTraining_loss: 0.019619\n",
            "Epoch: 22 \tTraining_loss: 0.018864\n",
            "Epoch: 23 \tTraining_loss: 0.018166\n",
            "Epoch: 24 \tTraining_loss: 0.017520\n",
            "Epoch: 25 \tTraining_loss: 0.016918\n"
          ],
          "name": "stdout"
        }
      ]
    },
    {
      "cell_type": "code",
      "metadata": {
        "id": "nDtFBq8R58wv",
        "colab_type": "code",
        "colab": {
          "base_uri": "https://localhost:8080/",
          "height": 433
        },
        "outputId": "5a220d84-ed26-41a7-95cc-99f57abf40d7"
      },
      "source": [
        "loss_noNorm = train(NN_without_batchNorm)"
      ],
      "execution_count": 23,
      "outputs": [
        {
          "output_type": "stream",
          "text": [
            "Epoch: 1 \tTraining_loss: 0.513607\n",
            "Epoch: 2 \tTraining_loss: 0.444898\n",
            "Epoch: 3 \tTraining_loss: 0.406077\n",
            "Epoch: 4 \tTraining_loss: 0.379381\n",
            "Epoch: 5 \tTraining_loss: 0.358900\n",
            "Epoch: 6 \tTraining_loss: 0.342107\n",
            "Epoch: 7 \tTraining_loss: 0.327732\n",
            "Epoch: 8 \tTraining_loss: 0.315081\n",
            "Epoch: 9 \tTraining_loss: 0.303741\n",
            "Epoch: 10 \tTraining_loss: 0.293449\n",
            "Epoch: 11 \tTraining_loss: 0.284019\n",
            "Epoch: 12 \tTraining_loss: 0.275315\n",
            "Epoch: 13 \tTraining_loss: 0.267236\n",
            "Epoch: 14 \tTraining_loss: 0.259703\n",
            "Epoch: 15 \tTraining_loss: 0.252651\n",
            "Epoch: 16 \tTraining_loss: 0.246026\n",
            "Epoch: 17 \tTraining_loss: 0.239783\n",
            "Epoch: 18 \tTraining_loss: 0.233886\n",
            "Epoch: 19 \tTraining_loss: 0.228300\n",
            "Epoch: 20 \tTraining_loss: 0.222998\n",
            "Epoch: 21 \tTraining_loss: 0.217956\n",
            "Epoch: 22 \tTraining_loss: 0.213151\n",
            "Epoch: 23 \tTraining_loss: 0.208564\n",
            "Epoch: 24 \tTraining_loss: 0.204180\n",
            "Epoch: 25 \tTraining_loss: 0.199984\n"
          ],
          "name": "stdout"
        }
      ]
    },
    {
      "cell_type": "code",
      "metadata": {
        "id": "_4s5_QZM68yl",
        "colab_type": "code",
        "colab": {
          "base_uri": "https://localhost:8080/",
          "height": 516
        },
        "outputId": "57a17c15-9eeb-4fd5-a3ac-100009edf9a9"
      },
      "source": [
        "# compare\n",
        "fig, ax = plt.subplots(figsize=(12,8))\n",
        "#losses_batchnorm = np.array(losses_batchnorm)\n",
        "#losses_no_norm = np.array(losses_no_norm)\n",
        "plt.plot(loss_batchNorm, label='Using batchnorm', alpha=0.5)\n",
        "plt.plot(loss_noNorm, label='No norm', alpha=0.5)\n",
        "plt.title(\"Training Losses\")\n",
        "plt.legend()"
      ],
      "execution_count": 25,
      "outputs": [
        {
          "output_type": "execute_result",
          "data": {
            "text/plain": [
              "<matplotlib.legend.Legend at 0x7fb24455d0f0>"
            ]
          },
          "metadata": {
            "tags": []
          },
          "execution_count": 25
        },
        {
          "output_type": "display_data",
          "data": {
            "image/png": "[encoded data removed]",
            "text/plain": [
              "<Figure size 864x576 with 1 Axes>"
            ]
          },
          "metadata": {
            "tags": [],
            "needs_background": "light"
          }
        }
      ]
    },
    {
      "cell_type": "markdown",
      "metadata": {
        "id": "JJi6r11t7lpa",
        "colab_type": "text"
      },
      "source": [
        "## Testing \n",
        "\n"
      ]
    },
    {
      "cell_type": "code",
      "metadata": {
        "id": "luxsqLug8ogp",
        "colab_type": "code",
        "colab": {}
      },
      "source": [
        "def test(model,train):\n",
        "  # initialize vars to monitor test loss and accuracy.\n",
        "  class_correct = list(0. for i in range(10))\n",
        "  class_total = list(0. for i in range(10))\n",
        "  test_loss = 0.0\n",
        "\n",
        "  # set model to train and validation mode.\n",
        "  if(train == True):\n",
        "    model.train()\n",
        "  if(train == False):\n",
        "    model.eval()\n",
        "\n",
        "  # loss criterion\n",
        "  criterion = nn.CrossEntropyLoss()\n",
        "\n",
        "  for batch_idx, (data,target) in enumerate(test_loader):\n",
        "    batch_size = data.size(0)\n",
        "    output = model(data)\n",
        "    loss = criterion(output,target)\n",
        "    test_loss += loss.item()*batch_size\n",
        "    _,pred = torch.max(output,1)\n",
        "    correct = np.squeeze(pred.eq(target.data.view_as(pred)))\n",
        "\n",
        "    for i in range(batch_size):                                                 # calculate accuracy\n",
        "      label = target.data[i]\n",
        "      class_correct[label] += correct[i].item()\n",
        "      class_total[label] += 1 \n",
        "  print(\"Test Loss: {:.6f}\\n\".format(test_loss/len(test_loader.dataset)))\n",
        "\n",
        "  for i in range(10):\n",
        "    if class_total[i] > 0:\n",
        "      print('Test Accuracy of %5s: %2d%% (%2d/%2d)' % (\n",
        "                str(i+1), 100 * class_correct[i] / class_total[i],\n",
        "                np.sum(class_correct[i]), np.sum(class_total[i])))\n",
        "    else:\n",
        "      print('Test Accuracy of %5s: N/A (no training examples)' % (class_total[i]))\n",
        "\n",
        "  print('\\nTest Accuracy (Overall): %2f%% (%2d/%2d)' % (\n",
        "        100. * np.sum(class_correct) / np.sum(class_total),\n",
        "        np.sum(class_correct), np.sum(class_total)))"
      ],
      "execution_count": 48,
      "outputs": []
    },
    {
      "cell_type": "markdown",
      "metadata": {
        "id": "K36ngKqhD1ZE",
        "colab_type": "text"
      },
      "source": [
        "## Training and Evaluating Model (again)\n",
        "\n"
      ]
    },
    {
      "cell_type": "code",
      "metadata": {
        "id": "qDr0C9pK8od-",
        "colab_type": "code",
        "colab": {
          "base_uri": "https://localhost:8080/",
          "height": 250
        },
        "outputId": "551abd0c-c522-4126-ab3e-9b98e8ec32c3"
      },
      "source": [
        "test(NN_with_batchNorm, train = True)"
      ],
      "execution_count": 49,
      "outputs": [
        {
          "output_type": "stream",
          "text": [
            "Test Loss: 0.081112\n",
            "\n",
            "Test Accuracy of     1: 99% (971/980)\n",
            "Test Accuracy of     2: 99% (1124/1135)\n",
            "Test Accuracy of     3: 96% (999/1032)\n",
            "Test Accuracy of     4: 97% (985/1010)\n",
            "Test Accuracy of     5: 97% (962/982)\n",
            "Test Accuracy of     6: 97% (867/892)\n",
            "Test Accuracy of     7: 97% (936/958)\n",
            "Test Accuracy of     8: 97% (999/1028)\n",
            "Test Accuracy of     9: 96% (943/974)\n",
            "Test Accuracy of    10: 95% (968/1009)\n",
            "\n",
            "Test Accuracy (Overall): 97.540000% (9754/10000)\n"
          ],
          "name": "stdout"
        }
      ]
    },
    {
      "cell_type": "code",
      "metadata": {
        "id": "Jbkl4JcOK6_B",
        "colab_type": "code",
        "colab": {
          "base_uri": "https://localhost:8080/",
          "height": 250
        },
        "outputId": "06488d53-da0d-441c-90d9-dee8f2282cac"
      },
      "source": [
        "test(NN_with_batchNorm, train = False)"
      ],
      "execution_count": 50,
      "outputs": [
        {
          "output_type": "stream",
          "text": [
            "Test Loss: 0.067948\n",
            "\n",
            "Test Accuracy of     1: 98% (968/980)\n",
            "Test Accuracy of     2: 99% (1124/1135)\n",
            "Test Accuracy of     3: 97% (1011/1032)\n",
            "Test Accuracy of     4: 97% (986/1010)\n",
            "Test Accuracy of     5: 97% (962/982)\n",
            "Test Accuracy of     6: 97% (873/892)\n",
            "Test Accuracy of     7: 98% (941/958)\n",
            "Test Accuracy of     8: 97% (998/1028)\n",
            "Test Accuracy of     9: 96% (940/974)\n",
            "Test Accuracy of    10: 97% (982/1009)\n",
            "\n",
            "Test Accuracy (Overall): 97.850000% (9785/10000)\n"
          ],
          "name": "stdout"
        }
      ]
    },
    {
      "cell_type": "markdown",
      "metadata": {
        "id": "D-qZWgvHLulg",
        "colab_type": "text"
      },
      "source": [
        "Conclusion: Here, in testing mode, the evaluation mode model gives littlebit highter accuracy than training mode model."
      ]
    },
    {
      "cell_type": "code",
      "metadata": {
        "id": "esJMMXnUECXT",
        "colab_type": "code",
        "colab": {
          "base_uri": "https://localhost:8080/",
          "height": 250
        },
        "outputId": "060670d4-1f88-4d11-8f9c-673670e59f3b"
      },
      "source": [
        "test(NN_without_batchNorm, train= False)"
      ],
      "execution_count": 51,
      "outputs": [
        {
          "output_type": "stream",
          "text": [
            "Test Loss: 0.110477\n",
            "\n",
            "Test Accuracy of     1: 98% (964/980)\n",
            "Test Accuracy of     2: 98% (1117/1135)\n",
            "Test Accuracy of     3: 97% (1002/1032)\n",
            "Test Accuracy of     4: 96% (976/1010)\n",
            "Test Accuracy of     5: 96% (945/982)\n",
            "Test Accuracy of     6: 97% (868/892)\n",
            "Test Accuracy of     7: 96% (921/958)\n",
            "Test Accuracy of     8: 96% (987/1028)\n",
            "Test Accuracy of     9: 94% (925/974)\n",
            "Test Accuracy of    10: 95% (959/1009)\n",
            "\n",
            "Test Accuracy (Overall): 96.640000% (9664/10000)\n"
          ],
          "name": "stdout"
        }
      ]
    },
    {
      "cell_type": "markdown",
      "metadata": {
        "id": "U4HugJoNMC8b",
        "colab_type": "text"
      },
      "source": [
        "But, the testign accuraccy of Model without Normalization will gives lower accuracy. "
      ]
    },
    {
      "cell_type": "code",
      "metadata": {
        "id": "LeQL76FtI-7W",
        "colab_type": "code",
        "colab": {}
      },
      "source": [
        "# Keep Learning, Enjoy Empowering"
      ],
      "execution_count": 52,
      "outputs": []
    },
    {
      "cell_type": "code",
      "metadata": {
        "id": "TXxjl0ObNEI0",
        "colab_type": "code",
        "colab": {}
      },
      "source": [
        ""
      ],
      "execution_count": null,
      "outputs": []
    }
  ]
}