{
  "nbformat": 4,
  "nbformat_minor": 0,
  "metadata": {
    "colab": {
      "name": "DC-GAN.ipynb",
      "provenance": [],
      "toc_visible": true,
      "include_colab_link": true
    },
    "kernelspec": {
      "name": "python3",
      "display_name": "Python 3"
    },
    "accelerator": "GPU",
    "widgets": {
      "application/vnd.jupyter.widget-state+json": {
        "be8adb9df4ec41eabfc173d2b6e5a569": {
          "model_module": "@jupyter-widgets/controls",
          "model_name": "HBoxModel",
          "state": {
            "_view_name": "HBoxView",
            "_dom_classes": [],
            "_model_name": "HBoxModel",
            "_view_module": "@jupyter-widgets/controls",
            "_model_module_version": "1.5.0",
            "_view_count": null,
            "_view_module_version": "1.5.0",
            "box_style": "",
            "layout": "IPY_MODEL_691b69e73ad841da87c6a0f4076f2bcd",
            "_model_module": "@jupyter-widgets/controls",
            "children": [
              "IPY_MODEL_7b27a799bb6f4df983062b4336a4556b",
              "IPY_MODEL_b05e31a787ec4890a72c8d693bfefc6b"
            ]
          }
        },
        "691b69e73ad841da87c6a0f4076f2bcd": {
          "model_module": "@jupyter-widgets/base",
          "model_name": "LayoutModel",
          "state": {
            "_view_name": "LayoutView",
            "grid_template_rows": null,
            "right": null,
            "justify_content": null,
            "_view_module": "@jupyter-widgets/base",
            "overflow": null,
            "_model_module_version": "1.2.0",
            "_view_count": null,
            "flex_flow": null,
            "width": null,
            "min_width": null,
            "border": null,
            "align_items": null,
            "bottom": null,
            "_model_module": "@jupyter-widgets/base",
            "top": null,
            "grid_column": null,
            "overflow_y": null,
            "overflow_x": null,
            "grid_auto_flow": null,
            "grid_area": null,
            "grid_template_columns": null,
            "flex": null,
            "_model_name": "LayoutModel",
            "justify_items": null,
            "grid_row": null,
            "max_height": null,
            "align_content": null,
            "visibility": null,
            "align_self": null,
            "height": null,
            "min_height": null,
            "padding": null,
            "grid_auto_rows": null,
            "grid_gap": null,
            "max_width": null,
            "order": null,
            "_view_module_version": "1.2.0",
            "grid_template_areas": null,
            "object_position": null,
            "object_fit": null,
            "grid_auto_columns": null,
            "margin": null,
            "display": null,
            "left": null
          }
        },
        "7b27a799bb6f4df983062b4336a4556b": {
          "model_module": "@jupyter-widgets/controls",
          "model_name": "FloatProgressModel",
          "state": {
            "_view_name": "ProgressView",
            "style": "IPY_MODEL_e55b9e32225d439ca6b774576fc77a16",
            "_dom_classes": [],
            "description": "",
            "_model_name": "FloatProgressModel",
            "bar_style": "info",
            "max": 1,
            "_view_module": "@jupyter-widgets/controls",
            "_model_module_version": "1.5.0",
            "value": 1,
            "_view_count": null,
            "_view_module_version": "1.5.0",
            "orientation": "horizontal",
            "min": 0,
            "description_tooltip": null,
            "_model_module": "@jupyter-widgets/controls",
            "layout": "IPY_MODEL_249addf1cb914191b31093b50994f4a7"
          }
        },
        "b05e31a787ec4890a72c8d693bfefc6b": {
          "model_module": "@jupyter-widgets/controls",
          "model_name": "HTMLModel",
          "state": {
            "_view_name": "HTMLView",
            "style": "IPY_MODEL_857fb4cb8d7c4ab88082bc7626af6027",
            "_dom_classes": [],
            "description": "",
            "_model_name": "HTMLModel",
            "placeholder": "​",
            "_view_module": "@jupyter-widgets/controls",
            "_model_module_version": "1.5.0",
            "value": " 182042624/? [00:30&lt;00:00, 12669530.31it/s]",
            "_view_count": null,
            "_view_module_version": "1.5.0",
            "description_tooltip": null,
            "_model_module": "@jupyter-widgets/controls",
            "layout": "IPY_MODEL_2ed2e9ec306b48ccbf7883a955bd1f43"
          }
        },
        "e55b9e32225d439ca6b774576fc77a16": {
          "model_module": "@jupyter-widgets/controls",
          "model_name": "ProgressStyleModel",
          "state": {
            "_view_name": "StyleView",
            "_model_name": "ProgressStyleModel",
            "description_width": "initial",
            "_view_module": "@jupyter-widgets/base",
            "_model_module_version": "1.5.0",
            "_view_count": null,
            "_view_module_version": "1.2.0",
            "bar_color": null,
            "_model_module": "@jupyter-widgets/controls"
          }
        },
        "249addf1cb914191b31093b50994f4a7": {
          "model_module": "@jupyter-widgets/base",
          "model_name": "LayoutModel",
          "state": {
            "_view_name": "LayoutView",
            "grid_template_rows": null,
            "right": null,
            "justify_content": null,
            "_view_module": "@jupyter-widgets/base",
            "overflow": null,
            "_model_module_version": "1.2.0",
            "_view_count": null,
            "flex_flow": null,
            "width": null,
            "min_width": null,
            "border": null,
            "align_items": null,
            "bottom": null,
            "_model_module": "@jupyter-widgets/base",
            "top": null,
            "grid_column": null,
            "overflow_y": null,
            "overflow_x": null,
            "grid_auto_flow": null,
            "grid_area": null,
            "grid_template_columns": null,
            "flex": null,
            "_model_name": "LayoutModel",
            "justify_items": null,
            "grid_row": null,
            "max_height": null,
            "align_content": null,
            "visibility": null,
            "align_self": null,
            "height": null,
            "min_height": null,
            "padding": null,
            "grid_auto_rows": null,
            "grid_gap": null,
            "max_width": null,
            "order": null,
            "_view_module_version": "1.2.0",
            "grid_template_areas": null,
            "object_position": null,
            "object_fit": null,
            "grid_auto_columns": null,
            "margin": null,
            "display": null,
            "left": null
          }
        },
        "857fb4cb8d7c4ab88082bc7626af6027": {
          "model_module": "@jupyter-widgets/controls",
          "model_name": "DescriptionStyleModel",
          "state": {
            "_view_name": "StyleView",
            "_model_name": "DescriptionStyleModel",
            "description_width": "",
            "_view_module": "@jupyter-widgets/base",
            "_model_module_version": "1.5.0",
            "_view_count": null,
            "_view_module_version": "1.2.0",
            "_model_module": "@jupyter-widgets/controls"
          }
        },
        "2ed2e9ec306b48ccbf7883a955bd1f43": {
          "model_module": "@jupyter-widgets/base",
          "model_name": "LayoutModel",
          "state": {
            "_view_name": "LayoutView",
            "grid_template_rows": null,
            "right": null,
            "justify_content": null,
            "_view_module": "@jupyter-widgets/base",
            "overflow": null,
            "_model_module_version": "1.2.0",
            "_view_count": null,
            "flex_flow": null,
            "width": null,
            "min_width": null,
            "border": null,
            "align_items": null,
            "bottom": null,
            "_model_module": "@jupyter-widgets/base",
            "top": null,
            "grid_column": null,
            "overflow_y": null,
            "overflow_x": null,
            "grid_auto_flow": null,
            "grid_area": null,
            "grid_template_columns": null,
            "flex": null,
            "_model_name": "LayoutModel",
            "justify_items": null,
            "grid_row": null,
            "max_height": null,
            "align_content": null,
            "visibility": null,
            "align_self": null,
            "height": null,
            "min_height": null,
            "padding": null,
            "grid_auto_rows": null,
            "grid_gap": null,
            "max_width": null,
            "order": null,
            "_view_module_version": "1.2.0",
            "grid_template_areas": null,
            "object_position": null,
            "object_fit": null,
            "grid_auto_columns": null,
            "margin": null,
            "display": null,
            "left": null
          }
        }
      }
    }
  },
  "cells": [
    {
      "cell_type": "markdown",
      "metadata": {
        "id": "view-in-github",
        "colab_type": "text"
      },
      "source": [
        "<a href=\"https://colab.research.google.com/github/vedantdave77/project.Orca/blob/master/Generative%20Adversarial%20Networks/Deep_Convolution_GAN.ipynb\" target=\"_parent\"><img src=\"https://colab.research.google.com/assets/colab-badge.svg\" alt=\"Open In Colab\"/></a>"
      ]
    },
    {
      "cell_type": "markdown",
      "metadata": {
        "id": "PcQfsR8R9bUv",
        "colab_type": "text"
      },
      "source": [
        "# Deep Convolution General Adversarial Network"
      ]
    },
    {
      "cell_type": "markdown",
      "metadata": {
        "id": "_G4jy-FG9bKq",
        "colab_type": "text"
      },
      "source": [
        "## AIM:\n",
        "\n",
        "In this Notebook, My main aim is to generate DCGAN, which is represented first time in 2016. The original paper name is \"UNSUPERVISED REPRESENTATION LEARNING\n",
        "WITH DEEP CONVOLUTIONAL GENERATIVE ADVERSARIAL NETWORKS\". \n",
        "\n",
        "I will use the real image dataset from google street view. The data are preprocessed for use by PyTorch. I will access data from PyTorch's regular library. I will implement idea of \"DCGAN\", which has deeper insight than normal GAN created before with MNIST dataset. Please also check it in the same GAN folder. \n",
        "\n",
        "The model will consist the same ideaology of two opposite networks, tries to overtake each other and at last found one equilibrium state. The network names are \"Generator\" and \"Descriminator\". Its a extended version of \"Game Theory\" used by Computer Science comunity.\n",
        "\n",
        "You can access data from [Stanford Dataset](http://ufldl.stanford.edu/housenumbers/). Incase, if you are going to use Tensorflow or Keras. Thank you."
      ]
    },
    {
      "cell_type": "markdown",
      "metadata": {
        "id": "wd0NjfYuPMcO",
        "colab_type": "text"
      },
      "source": [
        "## Import Libraries"
      ]
    },
    {
      "cell_type": "code",
      "metadata": {
        "id": "0V3zfQKHZq8v",
        "colab_type": "code",
        "colab": {}
      },
      "source": [
        "import numpy as np\n",
        "import matplotlib.pyplot as plt\n",
        "%matplotlib inline\n",
        "\n",
        "import torch\n",
        "import torch.nn as nn\n",
        "import torch.nn.functional as F\n",
        "\n",
        "import pickle as pkl"
      ],
      "execution_count": 1,
      "outputs": []
    },
    {
      "cell_type": "markdown",
      "metadata": {
        "id": "B1vVl6gAPmuF",
        "colab_type": "text"
      },
      "source": [
        "## Prepare and load Data."
      ]
    },
    {
      "cell_type": "code",
      "metadata": {
        "id": "ZP2WlhduPk6L",
        "colab_type": "code",
        "colab": {
          "base_uri": "https://localhost:8080/",
          "height": 66,
          "referenced_widgets": [
            "be8adb9df4ec41eabfc173d2b6e5a569",
            "691b69e73ad841da87c6a0f4076f2bcd",
            "7b27a799bb6f4df983062b4336a4556b",
            "b05e31a787ec4890a72c8d693bfefc6b",
            "e55b9e32225d439ca6b774576fc77a16",
            "249addf1cb914191b31093b50994f4a7",
            "857fb4cb8d7c4ab88082bc7626af6027",
            "2ed2e9ec306b48ccbf7883a955bd1f43"
          ]
        },
        "outputId": "4630f49c-5be1-4673-d6b2-664c6b530152"
      },
      "source": [
        "# import SVHN data from pytorch internal library\n",
        "from torchvision import datasets\n",
        "from torchvision import transforms\n",
        "\n",
        "# Transform data\n",
        "transform = transforms.ToTensor()\n",
        "\n",
        "# load data\n",
        "train_data = datasets.SVHN(root = '/data', split='train', download = True, transform = transform)\n",
        "batch_size = 128\n",
        "num_workers = 2\n",
        "\n",
        "# built dataloader \n",
        "train_loader = torch.utils.data.DataLoader(train_data,batch_size =batch_size, shuffle= True, num_workers= num_workers)"
      ],
      "execution_count": 2,
      "outputs": [
        {
          "output_type": "stream",
          "text": [
            "Downloading http://ufldl.stanford.edu/housenumbers/train_32x32.mat to /data/train_32x32.mat\n"
          ],
          "name": "stdout"
        },
        {
          "output_type": "display_data",
          "data": {
            "application/vnd.jupyter.widget-view+json": {
              "model_id": "be8adb9df4ec41eabfc173d2b6e5a569",
              "version_minor": 0,
              "version_major": 2
            },
            "text/plain": [
              "HBox(children=(FloatProgress(value=1.0, bar_style='info', max=1.0), HTML(value='')))"
            ]
          },
          "metadata": {
            "tags": []
          }
        }
      ]
    },
    {
      "cell_type": "markdown",
      "metadata": {
        "id": "bZcJtRAjRE7C",
        "colab_type": "text"
      },
      "source": [
        "## Data Visualizatin and Preprocess"
      ]
    },
    {
      "cell_type": "code",
      "metadata": {
        "id": "5XzGGqNcQueZ",
        "colab_type": "code",
        "colab": {
          "base_uri": "https://localhost:8080/",
          "height": 229
        },
        "outputId": "25969727-debe-42ff-a1a5-ed3fee8cd6e3"
      },
      "source": [
        "dataiter = iter(train_loader)\n",
        "images, labels = dataiter.next()\n",
        "\n",
        "fig = plt.figure(figsize=(25,4))\n",
        "plot_size = 20                                                                  # no. of images\n",
        "for idx in np.arange(plot_size):\n",
        "  ax = fig.add_subplot(2,plot_size/2,idx+1,xticks=[],yticks=[])\n",
        "  ax.imshow(np.transpose(images[idx],(1,2,0)))\n",
        "  ax.set_title(str(labels[idx].item()))"
      ],
      "execution_count": 3,
      "outputs": [
        {
          "output_type": "display_data",
          "data": {
            "image/png": "[encoded data removed]",
            "text/plain": [
              "<Figure size 1800x288 with 20 Axes>"
            ]
          },
          "metadata": {
            "tags": []
          }
        }
      ]
    },
    {
      "cell_type": "code",
      "metadata": {
        "id": "GuJ6_L2uWQzo",
        "colab_type": "code",
        "colab": {
          "base_uri": "https://localhost:8080/",
          "height": 33
        },
        "outputId": "389e843c-45f7-4f73-be0b-4aa6e5c0e6dc"
      },
      "source": [
        "images[1].size()"
      ],
      "execution_count": 4,
      "outputs": [
        {
          "output_type": "execute_result",
          "data": {
            "text/plain": [
              "torch.Size([3, 32, 32])"
            ]
          },
          "metadata": {
            "tags": []
          },
          "execution_count": 4
        }
      ]
    },
    {
      "cell_type": "markdown",
      "metadata": {
        "id": "AJj1YfqaV2iv",
        "colab_type": "text"
      },
      "source": [
        "From, above I get the information regarding, images. All the images are in RGB type, and fully focused (centric) image is considered as output. Each image has different resolution and the images are with 32*32 in size. So, images required scalling and I will use tanh activatoin in generator output, which gives result in (-1,1). So, I must need image within such range. "
      ]
    },
    {
      "cell_type": "markdown",
      "metadata": {
        "id": "bZoidKqpWWQK",
        "colab_type": "text"
      },
      "source": [
        "#### preprocessing to (-1,1) scaling.\n",
        "\n",
        "Current version is between (0,1) which we need to converts to (-1 to 1)"
      ]
    },
    {
      "cell_type": "code",
      "metadata": {
        "id": "ZxRjZPXyVl_n",
        "colab_type": "code",
        "colab": {
          "base_uri": "https://localhost:8080/",
          "height": 50
        },
        "outputId": "98beaeef-2a8c-4aef-cb2c-3c0d8864c50e"
      },
      "source": [
        "img = images[0]\n",
        "\n",
        "print('min ', img.min())\n",
        "print('max ',img.max())"
      ],
      "execution_count": 5,
      "outputs": [
        {
          "output_type": "stream",
          "text": [
            "min  tensor(0.1725)\n",
            "max  tensor(0.7529)\n"
          ],
          "name": "stdout"
        }
      ]
    },
    {
      "cell_type": "code",
      "metadata": {
        "id": "p8FBVennXFFi",
        "colab_type": "code",
        "colab": {}
      },
      "source": [
        "def scaling(x, range=(-1,1)):\n",
        "  min,max = range\n",
        "  x = x* (max-min) + min\n",
        "  return x "
      ],
      "execution_count": 6,
      "outputs": []
    },
    {
      "cell_type": "code",
      "metadata": {
        "id": "awpc4pRiXhA5",
        "colab_type": "code",
        "colab": {
          "base_uri": "https://localhost:8080/",
          "height": 50
        },
        "outputId": "7956a540-c3cd-422c-af48-91e4f4fac8c0"
      },
      "source": [
        "scalled_image = scaling(img)\n",
        "\n",
        "print('min ', scalled_image.min())\n",
        "print('max ', scalled_image.max())"
      ],
      "execution_count": 7,
      "outputs": [
        {
          "output_type": "stream",
          "text": [
            "min  tensor(-0.6549)\n",
            "max  tensor(0.5059)\n"
          ],
          "name": "stdout"
        }
      ]
    },
    {
      "cell_type": "markdown",
      "metadata": {
        "id": "SBTn9LVeYOQR",
        "colab_type": "text"
      },
      "source": [
        "## Define the Model Architecture\n",
        "\n"
      ]
    },
    {
      "cell_type": "markdown",
      "metadata": {
        "id": "r3t3IgFnYTjn",
        "colab_type": "text"
      },
      "source": [
        "### Discriminator \n",
        "\n",
        "Here, first I will make one convolution function. Becuase, I want to use batch_normalization during layers. And, PyTorch does not have such convolution facility. So, we should use onther kind of stretagy. Custom convolution will recall later in to the network \"__init__\" function. \n",
        "\n",
        "I will use BECwithLogitLoss function for criterion loss function. Before that I will use layer wise increments. Means, I will increse the depth layer by layer.Only at output layer I will use softmax for getting classwise probability."
      ]
    },
    {
      "cell_type": "code",
      "metadata": {
        "id": "71180FYoX1Mz",
        "colab_type": "code",
        "colab": {}
      },
      "source": [
        "# generate helper function for the layers \n",
        "def conv(in_channels, out_channels, kernel_size, stride = 2 , padding= 1, batch_norm= True):\n",
        "  layers = []\n",
        "  conv_layer = nn.Conv2d(in_channels, out_channels, kernel_size, stride, padding, bias = False)\n",
        "  layers.append(conv_layer)\n",
        "  if batch_norm:\n",
        "    layers.append(nn.BatchNorm2d(out_channels))                                 # aided layer\n",
        "  return nn.Sequential(*layers)"
      ],
      "execution_count": 8,
      "outputs": []
    },
    {
      "cell_type": "code",
      "metadata": {
        "id": "uB0RKLQSn1Ii",
        "colab_type": "code",
        "colab": {}
      },
      "source": [
        "class Discriminator(nn.Module):\n",
        "  def __init__(self,conv_dim = 32):\n",
        "    super(Discriminator,self).__init__()\n",
        "\n",
        "    # complete init function\n",
        "    self.conv_dim = conv_dim \n",
        "\n",
        "    # start with 32x32 input\n",
        "    self.conv1 = conv(3, conv_dim, 4, batch_norm=False)                         # batch_norm = False, means work as normal convolution network.\n",
        "    # down to 16x16 (increasing depth)\n",
        "    self.conv2 = conv(conv_dim, conv_dim*2, 4)\n",
        "    # down to 8x8 (increasing depth)\n",
        "    self.conv3 = conv(conv_dim*2,conv_dim*4, 4)\n",
        "    # final result (with Linearity)\n",
        "    self.convLin = nn.Linear(conv_dim*4*4*4, 1)                                 # because we will flatten output after that. \n",
        "\n",
        "  def forward(self,x):\n",
        "    x = F.leaky_relu(self.conv1(x),0.2)\n",
        "    x = F.leaky_relu(self.conv2(x),0.2)\n",
        "    x = F.leaky_relu(self.conv3(x),0.2)\n",
        "    \n",
        "    # flatten the result\n",
        "    x = x.view(-1, self.conv_dim*4*4*4)\n",
        "    out = self.convLin(x)\n",
        "    return out"
      ],
      "execution_count": 9,
      "outputs": []
    },
    {
      "cell_type": "markdown",
      "metadata": {
        "id": "G-h3yCnkzmk7",
        "colab_type": "text"
      },
      "source": [
        "### Generator \n",
        "\n",
        "What's new here is we'll use transpose convolutional layers to create our new images.\n",
        "\n",
        "- The first layer is a fully connected layer which is reshaped into a deep and narrow layer, like 4x4x512.\n",
        "- Then, I will use batch normalization and a leaky ReLU activation.\n",
        "- Next is a series of transpose convolutional layers, where we can typically halve the depth and double the width and height of the previous layer.\n",
        "- And, I will apply batch normalization and ReLU to all but the last of these hidden layers. Where we will just apply a tanh activation.\n",
        "\n",
        "Here, I will also use deconv functino which gives priority to generate model with batch_normalization. "
      ]
    },
    {
      "cell_type": "code",
      "metadata": {
        "id": "FE0BsZcn1G5X",
        "colab_type": "code",
        "colab": {}
      },
      "source": [
        "def deconv(in_channels, out_channels, kernel_size, stride =2, padding = 1, batch_norm = True):\n",
        "  layers = []\n",
        "  transpose_conv_layer = nn.ConvTranspose2d(in_channels, out_channels, kernel_size, stride, padding, bias = False)\n",
        "  layers.append(transpose_conv_layer)\n",
        "  if batch_norm:\n",
        "    layers.append(nn.BatchNorm2d(out_channels))\n",
        "  return nn.Sequential(*layers)"
      ],
      "execution_count": 10,
      "outputs": []
    },
    {
      "cell_type": "code",
      "metadata": {
        "id": "3TZhVMuozliY",
        "colab_type": "code",
        "colab": {}
      },
      "source": [
        "class Generator(nn.Module):\n",
        "  def __init__(self,z_size, conv_dim = 32):\n",
        "    super(Generator,self).__init__()\n",
        "    self.conv_dim = conv_dim \n",
        "\n",
        "    # start with fully connnected layers (reverse than discriminator)\n",
        "    self.convLin = nn.Linear(z_size,conv_dim*4*4*4)\n",
        "\n",
        "    # transpose layers (reverse)\n",
        "    self.t_conv1 = deconv(conv_dim*4,conv_dim*2,4)\n",
        "    self.t_conv2 = deconv(conv_dim*2,conv_dim,4)\n",
        "    self.t_conv3 = deconv(conv_dim, 3, 4, batch_norm=False) \n",
        "\n",
        "  def forward(self,x):\n",
        "    x = self.convLin(x)\n",
        "    x = x.view(-1,self.conv_dim*4, 4,4)\n",
        "    x = F.relu(self.t_conv1(x))\n",
        "    x = F.relu(self.t_conv2(x))\n",
        "    out = F.tanh(self.t_conv3(x))\n",
        "    return out "
      ],
      "execution_count": 11,
      "outputs": []
    },
    {
      "cell_type": "markdown",
      "metadata": {
        "id": "C6aemO5m4FsE",
        "colab_type": "text"
      },
      "source": [
        "## Build Complete Network"
      ]
    },
    {
      "cell_type": "code",
      "metadata": {
        "id": "WPLlN8Nj3_gI",
        "colab_type": "code",
        "colab": {
          "base_uri": "https://localhost:8080/",
          "height": 500
        },
        "outputId": "f5c9e27e-3c86-46f8-f11f-006744e13cf8"
      },
      "source": [
        "conv_dim = 32\n",
        "z_size = 100\n",
        "\n",
        "# define discriminator and generator\n",
        "D = Discriminator(conv_dim)\n",
        "G = Generator(z_size=z_size, conv_dim=conv_dim)\n",
        "\n",
        "print(D)\n",
        "print(\"==========================================================================================\")\n",
        "print(G)"
      ],
      "execution_count": 12,
      "outputs": [
        {
          "output_type": "stream",
          "text": [
            "Discriminator(\n",
            "  (conv1): Sequential(\n",
            "    (0): Conv2d(3, 32, kernel_size=(4, 4), stride=(2, 2), padding=(1, 1), bias=False)\n",
            "  )\n",
            "  (conv2): Sequential(\n",
            "    (0): Conv2d(32, 64, kernel_size=(4, 4), stride=(2, 2), padding=(1, 1), bias=False)\n",
            "    (1): BatchNorm2d(64, eps=1e-05, momentum=0.1, affine=True, track_running_stats=True)\n",
            "  )\n",
            "  (conv3): Sequential(\n",
            "    (0): Conv2d(64, 128, kernel_size=(4, 4), stride=(2, 2), padding=(1, 1), bias=False)\n",
            "    (1): BatchNorm2d(128, eps=1e-05, momentum=0.1, affine=True, track_running_stats=True)\n",
            "  )\n",
            "  (convLin): Linear(in_features=2048, out_features=1, bias=True)\n",
            ")\n",
            "==========================================================================================\n",
            "Generator(\n",
            "  (convLin): Linear(in_features=100, out_features=2048, bias=True)\n",
            "  (t_conv1): Sequential(\n",
            "    (0): ConvTranspose2d(128, 64, kernel_size=(4, 4), stride=(2, 2), padding=(1, 1), bias=False)\n",
            "    (1): BatchNorm2d(64, eps=1e-05, momentum=0.1, affine=True, track_running_stats=True)\n",
            "  )\n",
            "  (t_conv2): Sequential(\n",
            "    (0): ConvTranspose2d(64, 32, kernel_size=(4, 4), stride=(2, 2), padding=(1, 1), bias=False)\n",
            "    (1): BatchNorm2d(32, eps=1e-05, momentum=0.1, affine=True, track_running_stats=True)\n",
            "  )\n",
            "  (t_conv3): Sequential(\n",
            "    (0): ConvTranspose2d(32, 3, kernel_size=(4, 4), stride=(2, 2), padding=(1, 1), bias=False)\n",
            "  )\n",
            ")\n"
          ],
          "name": "stdout"
        }
      ]
    },
    {
      "cell_type": "markdown",
      "metadata": {
        "id": "-q2RreKR5zau",
        "colab_type": "text"
      },
      "source": [
        "## Descriminator and Generator Losses \n",
        "\n"
      ]
    },
    {
      "cell_type": "markdown",
      "metadata": {
        "id": "Q3tVh2Kf574m",
        "colab_type": "text"
      },
      "source": [
        "### Disriminator Losses\n",
        "\n",
        "For the discriminator, the total loss is the sum of the losses for real and fake images, d_loss = d_real_loss + d_fake_loss.\n",
        "\n",
        "I want the discriminator to output 1 for real images and 0 for fake images, so I need to set up the losses to reflect that.\n",
        "\n",
        "The losses will by binary cross entropy loss with logits, which we can get with BCEWithLogitsLoss. This combines a sigmoid activation function and and binary cross entropy loss in one function.\n",
        "\n",
        "For the real images, I want D(real_images) = 1. and  D(fake_images) = 0, where the fake images are the generator output, fake_images = G(z).\n"
      ]
    },
    {
      "cell_type": "markdown",
      "metadata": {
        "id": "34bLqT606YrP",
        "colab_type": "text"
      },
      "source": [
        "### Generator Loss\n",
        "The generator loss will look similar only with flipped labels. The generator's goal is to get D(fake_images) = 1. In this case, the labels are flipped to represent that the generator is trying to fool the discriminator into thinking that the images it generates (fakes) are real!"
      ]
    },
    {
      "cell_type": "code",
      "metadata": {
        "id": "lexalvAM4Ls9",
        "colab_type": "code",
        "colab": {}
      },
      "source": [
        "def real_loss(D_out, smooth=False):\n",
        "  batch_size = D_out.size(0)\n",
        "  if smooth: \n",
        "    labels = torch.ones(batch_size)*0.9\n",
        "  else:\n",
        "    labels = torch.ones(batch_size)\n",
        "\n",
        "  if train_on_gpu:\n",
        "    labels = labels.cuda()\n",
        "  criterion = nn.BCEWithLogitsLoss()\n",
        "  loss = criterion(D_out.squeeze(), labels)\n",
        "  return loss \n",
        "\n",
        "def fake_loss(D_out):\n",
        "  batch_size = D_out.size(0)\n",
        "  labels = torch.zeros(batch_size)\n",
        "  if train_on_gpu:\n",
        "    labels = labels.cuda()\n",
        "  criterion = nn.BCEWithLogitsLoss()\n",
        "  loss = criterion(D_out.squeeze(),labels)\n",
        "  return loss   "
      ],
      "execution_count": 13,
      "outputs": []
    },
    {
      "cell_type": "markdown",
      "metadata": {
        "id": "xNLtiWGO8g_a",
        "colab_type": "text"
      },
      "source": [
        "## Optimizers \n",
        "I am using a small learning rate and custom parameters for the Adam optimizers, This is based on some research into DCGAN model convergence. Due to normalization, we can use small learning rate or higher learning rate will converg the model faster.\n",
        "\n",
        "## Hyper Parameters \n",
        "GANs are very sensitive to hyperparameters, which are learning_rate, and beta."
      ]
    },
    {
      "cell_type": "code",
      "metadata": {
        "id": "Qwckpmn38fj0",
        "colab_type": "code",
        "colab": {}
      },
      "source": [
        "import torch.optim as optim\n",
        "\n",
        "# parameters\n",
        "lr = 0.0002\n",
        "beta1=0.5  \n",
        "beta2=0.999 # default value in GAN Paper\n",
        "\n",
        "# Create optimizers for the discriminator and generator\n",
        "d_optimizer = optim.Adam(D.parameters(), lr, [beta1, beta2])\n",
        "g_optimizer = optim.Adam(G.parameters(), lr, [beta1, beta2])"
      ],
      "execution_count": 14,
      "outputs": []
    },
    {
      "cell_type": "markdown",
      "metadata": {
        "id": "T-KIK4m_-P0F",
        "colab_type": "text"
      },
      "source": [
        "## Training \n",
        "**Discriminator training**\n",
        "\n",
        "1. Compute the discriminator loss on real, training images\n",
        "2. Generate fake images\n",
        "3. Compute the discriminator loss on fake, generated images\n",
        "4. Add up real and fake loss\n",
        "5. Perform backpropagation + an optimization step to update the discriminator's weights\n",
        "\n",
        "**Generator training**\n",
        "1. Generate fake images\n",
        "2. Compute the discriminator loss on fake images, using flipped labels!\n",
        "3. Perform backpropagation + an optimization step to update the generator's weights\n",
        "\n",
        "**Saving Samples**\n",
        "As I train, I will also print out some loss statistics and save some generated \"fake\" samples.\n",
        "\n",
        "**Evaluation mode**\n",
        "\n",
        "Important to understand that, when we call our generator to create the samples to display, we set our model to evaluation mode: G.eval(). \n",
        "\n",
        "That's so the batch normalization layers will use the population statistics rather than the batch statistics (as they do during training), \n",
        "\n",
        "... and so **dropout layers will operate** in eval() mode; ***not turning off any nodes*** for generating samples."
      ]
    },
    {
      "cell_type": "code",
      "metadata": {
        "id": "rnQwz08pLH91",
        "colab_type": "code",
        "colab": {
          "base_uri": "https://localhost:8080/",
          "height": 33
        },
        "outputId": "d14c3f06-0df6-48a8-e1f6-0ae4d2ca1b19"
      },
      "source": [
        "# checking gpu avalability\n",
        "train_on_gpu = torch.cuda.is_available()\n",
        "\n",
        "if train_on_gpu:\n",
        "    # move models to GPU\n",
        "    G.cuda()\n",
        "    D.cuda()\n",
        "    print('GPU available for training. Models moved to GPU')\n",
        "else:\n",
        "    print('Training on CPU.')\n"
      ],
      "execution_count": 15,
      "outputs": [
        {
          "output_type": "stream",
          "text": [
            "GPU available for training. Models moved to GPU\n"
          ],
          "name": "stdout"
        }
      ]
    },
    {
      "cell_type": "code",
      "metadata": {
        "id": "8CcbNhn7-OdT",
        "colab_type": "code",
        "colab": {
          "base_uri": "https://localhost:8080/",
          "height": 1000
        },
        "outputId": "3b3ff98b-d2dc-412a-a68b-f0a058ca3a63"
      },
      "source": [
        "num_epochs = 50\n",
        "print_every = 100\n",
        "sample_size = 16\n",
        "\n",
        "samples = []\n",
        "losses = []\n",
        "\n",
        "fixed_z = np.random.uniform(-1,1,size = (sample_size,z_size))\n",
        "fixed_z = torch.from_numpy(fixed_z).float()                                     # convert numpy to torch array type (float)\n",
        "\n",
        "# define train loop \n",
        "for epoch in range(num_epochs):\n",
        "  for batch_i, (real_images, _) in enumerate(train_loader):\n",
        "    batch_size = real_images.size(0)\n",
        "\n",
        "    # scalling \n",
        "    real_images = scaling(real_images)\n",
        "\n",
        "    # TRAIN THE DISCRIMINATOR\n",
        "    d_optimizer.zero_grad()\n",
        "    # real images \n",
        "    if train_on_gpu:\n",
        "      real_images = real_images.cuda()\n",
        "    D_real = D(real_images)\n",
        "    d_real_loss = real_loss(D_real)\n",
        "\n",
        "    # fake images \n",
        "    z = np.random.uniform(-1,1,size= (batch_size,z_size))\n",
        "    z = torch.from_numpy(z).float()\n",
        "    if train_on_gpu:\n",
        "      z = z.cuda()\n",
        "    fake_images = G(z)\n",
        "    D_fake = D(fake_images)\n",
        "    d_fake_loss = fake_loss(D_fake)\n",
        "\n",
        "    # total loss \n",
        "    d_loss = d_real_loss + d_fake_loss\n",
        "    # update  \n",
        "    d_loss.backward()\n",
        "    d_optimizer.step()\n",
        "\n",
        "    # ==================================================\n",
        "\n",
        "    # TRAIN ON GENERATOR\n",
        "    g_optimizer.zero_grad()\n",
        "\n",
        "    z = np.random.uniform(-1,1,size = (batch_size, z_size))\n",
        "    z = torch.from_numpy(z).float()\n",
        "    if train_on_gpu:\n",
        "      z = z.cuda()\n",
        "    fake_images = G(z)\n",
        "    D_fake = D(fake_images)\n",
        "    g_loss = real_loss(D_fake)\n",
        "    \n",
        "    g_loss.backward()\n",
        "    g_optimizer.step()\n",
        "\n",
        "    if batch_i % print_every == 0:\n",
        "      losses.append((d_loss.item(),g_loss.item()))\n",
        "      print( 'Epoch [{:5d}/{:5d}] | d_loss: {:6.4f} | g_loss: {:6.4f}'.format(\n",
        "                    epoch+1, num_epochs, d_loss.item(), g_loss.item()))\n",
        "      \n",
        "  # After each epochs\n",
        "  # generate the samples and save to file system\n",
        "  G.eval()\n",
        "  if train_on_gpu:\n",
        "    fixed_z = fixed_z.cuda()\n",
        "  sample_z = G(fixed_z)\n",
        "  samples.append(sample_z)\n",
        "  G.train()                                                                     # back to training mode \n",
        "\n",
        "with open('train_sample.pkl', 'wb') as f:\n",
        "  pkl.dump(samples, f)"
      ],
      "execution_count": 16,
      "outputs": [
        {
          "output_type": "stream",
          "text": [
            "/usr/local/lib/python3.6/dist-packages/torch/nn/functional.py:1614: UserWarning: nn.functional.tanh is deprecated. Use torch.tanh instead.\n",
            "  warnings.warn(\"nn.functional.tanh is deprecated. Use torch.tanh instead.\")\n"
          ],
          "name": "stderr"
        },
        {
          "output_type": "stream",
          "text": [
            "Epoch [    1/   50] | d_loss: 1.4107 | g_loss: 1.0659\n",
            "Epoch [    1/   50] | d_loss: 0.0413 | g_loss: 4.9436\n",
            "Epoch [    1/   50] | d_loss: 0.1378 | g_loss: 3.5449\n",
            "Epoch [    1/   50] | d_loss: 0.2161 | g_loss: 2.9582\n",
            "Epoch [    1/   50] | d_loss: 1.2717 | g_loss: 4.0279\n",
            "Epoch [    1/   50] | d_loss: 0.3332 | g_loss: 2.8506\n",
            "Epoch [    2/   50] | d_loss: 1.0575 | g_loss: 4.5454\n",
            "Epoch [    2/   50] | d_loss: 0.5189 | g_loss: 2.0970\n",
            "Epoch [    2/   50] | d_loss: 0.7880 | g_loss: 3.0310\n",
            "Epoch [    2/   50] | d_loss: 0.7174 | g_loss: 1.2409\n",
            "Epoch [    2/   50] | d_loss: 0.6462 | g_loss: 2.7534\n",
            "Epoch [    2/   50] | d_loss: 0.6350 | g_loss: 2.2801\n",
            "Epoch [    3/   50] | d_loss: 0.6329 | g_loss: 2.5084\n",
            "Epoch [    3/   50] | d_loss: 0.3983 | g_loss: 2.1583\n",
            "Epoch [    3/   50] | d_loss: 0.2792 | g_loss: 2.6004\n",
            "Epoch [    3/   50] | d_loss: 0.3660 | g_loss: 2.3196\n",
            "Epoch [    3/   50] | d_loss: 0.2455 | g_loss: 2.3926\n",
            "Epoch [    3/   50] | d_loss: 0.3141 | g_loss: 3.2361\n",
            "Epoch [    4/   50] | d_loss: 0.4623 | g_loss: 1.6290\n",
            "Epoch [    4/   50] | d_loss: 0.1893 | g_loss: 2.6366\n",
            "Epoch [    4/   50] | d_loss: 0.6483 | g_loss: 2.0043\n",
            "Epoch [    4/   50] | d_loss: 0.2677 | g_loss: 3.1947\n",
            "Epoch [    4/   50] | d_loss: 0.5745 | g_loss: 1.2241\n",
            "Epoch [    4/   50] | d_loss: 1.1390 | g_loss: 2.5719\n",
            "Epoch [    5/   50] | d_loss: 0.2742 | g_loss: 3.0949\n",
            "Epoch [    5/   50] | d_loss: 0.2035 | g_loss: 3.5939\n",
            "Epoch [    5/   50] | d_loss: 0.2503 | g_loss: 3.2020\n",
            "Epoch [    5/   50] | d_loss: 0.2908 | g_loss: 2.0766\n",
            "Epoch [    5/   50] | d_loss: 0.3507 | g_loss: 1.7388\n",
            "Epoch [    5/   50] | d_loss: 0.2482 | g_loss: 2.5721\n",
            "Epoch [    6/   50] | d_loss: 1.6964 | g_loss: 0.7244\n",
            "Epoch [    6/   50] | d_loss: 0.1365 | g_loss: 3.5668\n",
            "Epoch [    6/   50] | d_loss: 0.1481 | g_loss: 3.6008\n",
            "Epoch [    6/   50] | d_loss: 0.5393 | g_loss: 2.0703\n",
            "Epoch [    6/   50] | d_loss: 0.1687 | g_loss: 3.0022\n",
            "Epoch [    6/   50] | d_loss: 0.3203 | g_loss: 1.7831\n",
            "Epoch [    7/   50] | d_loss: 0.4468 | g_loss: 3.3932\n",
            "Epoch [    7/   50] | d_loss: 0.2118 | g_loss: 3.2202\n",
            "Epoch [    7/   50] | d_loss: 0.2027 | g_loss: 2.0384\n",
            "Epoch [    7/   50] | d_loss: 0.3624 | g_loss: 4.7639\n",
            "Epoch [    7/   50] | d_loss: 0.0967 | g_loss: 4.1504\n",
            "Epoch [    7/   50] | d_loss: 0.2408 | g_loss: 2.6421\n",
            "Epoch [    8/   50] | d_loss: 0.0870 | g_loss: 5.0846\n",
            "Epoch [    8/   50] | d_loss: 0.2241 | g_loss: 2.4549\n",
            "Epoch [    8/   50] | d_loss: 1.3900 | g_loss: 3.9560\n",
            "Epoch [    8/   50] | d_loss: 0.2016 | g_loss: 2.7999\n",
            "Epoch [    8/   50] | d_loss: 0.1706 | g_loss: 2.6468\n",
            "Epoch [    8/   50] | d_loss: 0.2370 | g_loss: 2.6961\n",
            "Epoch [    9/   50] | d_loss: 0.2860 | g_loss: 2.3969\n",
            "Epoch [    9/   50] | d_loss: 0.3483 | g_loss: 2.1188\n",
            "Epoch [    9/   50] | d_loss: 0.2083 | g_loss: 3.3836\n",
            "Epoch [    9/   50] | d_loss: 0.2157 | g_loss: 2.8699\n",
            "Epoch [    9/   50] | d_loss: 0.2111 | g_loss: 2.3669\n",
            "Epoch [    9/   50] | d_loss: 0.1901 | g_loss: 2.6726\n",
            "Epoch [   10/   50] | d_loss: 0.3332 | g_loss: 2.9109\n",
            "Epoch [   10/   50] | d_loss: 0.2783 | g_loss: 3.2869\n",
            "Epoch [   10/   50] | d_loss: 0.1606 | g_loss: 2.9108\n",
            "Epoch [   10/   50] | d_loss: 0.1150 | g_loss: 2.4030\n",
            "Epoch [   10/   50] | d_loss: 0.2802 | g_loss: 2.7728\n",
            "Epoch [   10/   50] | d_loss: 0.2129 | g_loss: 3.0982\n",
            "Epoch [   11/   50] | d_loss: 0.1630 | g_loss: 3.8147\n",
            "Epoch [   11/   50] | d_loss: 1.0865 | g_loss: 3.0564\n",
            "Epoch [   11/   50] | d_loss: 0.1341 | g_loss: 3.6305\n",
            "Epoch [   11/   50] | d_loss: 0.2587 | g_loss: 2.0037\n",
            "Epoch [   11/   50] | d_loss: 0.2406 | g_loss: 3.2429\n",
            "Epoch [   11/   50] | d_loss: 0.1789 | g_loss: 4.0207\n",
            "Epoch [   12/   50] | d_loss: 0.1712 | g_loss: 4.0470\n",
            "Epoch [   12/   50] | d_loss: 0.1229 | g_loss: 2.9604\n",
            "Epoch [   12/   50] | d_loss: 0.3464 | g_loss: 3.4637\n",
            "Epoch [   12/   50] | d_loss: 0.1060 | g_loss: 3.0743\n",
            "Epoch [   12/   50] | d_loss: 0.3077 | g_loss: 4.8816\n",
            "Epoch [   12/   50] | d_loss: 0.3267 | g_loss: 3.8488\n",
            "Epoch [   13/   50] | d_loss: 0.5297 | g_loss: 4.7669\n",
            "Epoch [   13/   50] | d_loss: 0.5817 | g_loss: 4.1413\n",
            "Epoch [   13/   50] | d_loss: 0.0894 | g_loss: 3.2388\n",
            "Epoch [   13/   50] | d_loss: 0.1528 | g_loss: 3.1426\n",
            "Epoch [   13/   50] | d_loss: 0.1306 | g_loss: 2.7656\n",
            "Epoch [   13/   50] | d_loss: 0.5802 | g_loss: 0.9190\n",
            "Epoch [   14/   50] | d_loss: 0.1611 | g_loss: 3.2032\n",
            "Epoch [   14/   50] | d_loss: 0.1802 | g_loss: 4.2146\n",
            "Epoch [   14/   50] | d_loss: 0.1008 | g_loss: 3.0768\n",
            "Epoch [   14/   50] | d_loss: 0.3637 | g_loss: 1.9585\n",
            "Epoch [   14/   50] | d_loss: 0.1219 | g_loss: 3.9037\n",
            "Epoch [   14/   50] | d_loss: 0.0756 | g_loss: 3.7764\n",
            "Epoch [   15/   50] | d_loss: 0.3496 | g_loss: 2.7083\n",
            "Epoch [   15/   50] | d_loss: 0.1157 | g_loss: 3.1286\n",
            "Epoch [   15/   50] | d_loss: 0.1322 | g_loss: 3.2938\n",
            "Epoch [   15/   50] | d_loss: 0.1001 | g_loss: 2.3637\n",
            "Epoch [   15/   50] | d_loss: 0.6288 | g_loss: 4.1527\n",
            "Epoch [   15/   50] | d_loss: 0.3188 | g_loss: 2.8740\n",
            "Epoch [   16/   50] | d_loss: 0.1809 | g_loss: 3.4043\n",
            "Epoch [   16/   50] | d_loss: 0.1687 | g_loss: 3.8622\n",
            "Epoch [   16/   50] | d_loss: 0.2595 | g_loss: 2.7943\n",
            "Epoch [   16/   50] | d_loss: 0.2367 | g_loss: 2.3745\n",
            "Epoch [   16/   50] | d_loss: 0.2039 | g_loss: 2.4406\n",
            "Epoch [   16/   50] | d_loss: 0.2185 | g_loss: 3.3683\n",
            "Epoch [   17/   50] | d_loss: 0.3595 | g_loss: 4.0306\n",
            "Epoch [   17/   50] | d_loss: 0.1979 | g_loss: 2.2872\n",
            "Epoch [   17/   50] | d_loss: 0.1162 | g_loss: 3.1479\n",
            "Epoch [   17/   50] | d_loss: 0.2743 | g_loss: 3.0345\n",
            "Epoch [   17/   50] | d_loss: 0.1572 | g_loss: 3.7602\n",
            "Epoch [   17/   50] | d_loss: 0.1536 | g_loss: 2.5323\n",
            "Epoch [   18/   50] | d_loss: 0.1473 | g_loss: 3.0256\n",
            "Epoch [   18/   50] | d_loss: 0.2491 | g_loss: 3.6709\n",
            "Epoch [   18/   50] | d_loss: 0.2422 | g_loss: 2.8877\n",
            "Epoch [   18/   50] | d_loss: 0.5490 | g_loss: 3.5315\n",
            "Epoch [   18/   50] | d_loss: 0.2364 | g_loss: 3.7127\n",
            "Epoch [   18/   50] | d_loss: 0.3090 | g_loss: 2.0001\n",
            "Epoch [   19/   50] | d_loss: 0.2228 | g_loss: 3.5779\n",
            "Epoch [   19/   50] | d_loss: 0.1783 | g_loss: 2.7601\n",
            "Epoch [   19/   50] | d_loss: 0.1204 | g_loss: 4.1054\n",
            "Epoch [   19/   50] | d_loss: 0.4487 | g_loss: 4.5720\n",
            "Epoch [   19/   50] | d_loss: 0.3055 | g_loss: 2.3218\n",
            "Epoch [   19/   50] | d_loss: 0.4326 | g_loss: 2.1553\n",
            "Epoch [   20/   50] | d_loss: 0.7027 | g_loss: 0.9792\n",
            "Epoch [   20/   50] | d_loss: 0.1662 | g_loss: 4.2589\n",
            "Epoch [   20/   50] | d_loss: 0.1884 | g_loss: 2.9158\n",
            "Epoch [   20/   50] | d_loss: 0.3863 | g_loss: 3.3763\n",
            "Epoch [   20/   50] | d_loss: 0.2110 | g_loss: 2.8913\n",
            "Epoch [   20/   50] | d_loss: 0.1666 | g_loss: 2.7027\n",
            "Epoch [   21/   50] | d_loss: 0.2024 | g_loss: 1.7388\n",
            "Epoch [   21/   50] | d_loss: 0.2551 | g_loss: 3.0606\n",
            "Epoch [   21/   50] | d_loss: 0.1597 | g_loss: 2.6897\n",
            "Epoch [   21/   50] | d_loss: 0.2159 | g_loss: 4.7476\n",
            "Epoch [   21/   50] | d_loss: 0.5303 | g_loss: 3.7113\n",
            "Epoch [   21/   50] | d_loss: 0.1726 | g_loss: 2.9166\n",
            "Epoch [   22/   50] | d_loss: 0.1331 | g_loss: 2.5683\n",
            "Epoch [   22/   50] | d_loss: 0.2335 | g_loss: 2.9748\n",
            "Epoch [   22/   50] | d_loss: 0.1389 | g_loss: 3.0632\n",
            "Epoch [   22/   50] | d_loss: 0.1668 | g_loss: 3.3580\n",
            "Epoch [   22/   50] | d_loss: 0.2213 | g_loss: 3.0062\n",
            "Epoch [   22/   50] | d_loss: 0.1608 | g_loss: 2.8769\n",
            "Epoch [   23/   50] | d_loss: 0.4689 | g_loss: 4.7341\n",
            "Epoch [   23/   50] | d_loss: 0.1628 | g_loss: 3.9571\n",
            "Epoch [   23/   50] | d_loss: 0.1244 | g_loss: 2.1847\n",
            "Epoch [   23/   50] | d_loss: 0.6625 | g_loss: 2.7686\n",
            "Epoch [   23/   50] | d_loss: 0.2505 | g_loss: 3.4252\n",
            "Epoch [   23/   50] | d_loss: 0.2487 | g_loss: 4.4214\n",
            "Epoch [   24/   50] | d_loss: 0.4399 | g_loss: 4.2155\n",
            "Epoch [   24/   50] | d_loss: 0.5256 | g_loss: 4.4296\n",
            "Epoch [   24/   50] | d_loss: 0.1854 | g_loss: 3.9715\n",
            "Epoch [   24/   50] | d_loss: 0.2867 | g_loss: 2.4630\n",
            "Epoch [   24/   50] | d_loss: 0.1505 | g_loss: 3.4834\n",
            "Epoch [   24/   50] | d_loss: 1.5992 | g_loss: 4.9019\n",
            "Epoch [   25/   50] | d_loss: 0.7441 | g_loss: 3.3383\n",
            "Epoch [   25/   50] | d_loss: 0.1572 | g_loss: 4.2862\n",
            "Epoch [   25/   50] | d_loss: 0.2680 | g_loss: 2.7144\n",
            "Epoch [   25/   50] | d_loss: 0.1603 | g_loss: 3.4422\n",
            "Epoch [   25/   50] | d_loss: 0.1808 | g_loss: 4.4102\n",
            "Epoch [   25/   50] | d_loss: 0.7574 | g_loss: 1.0005\n",
            "Epoch [   26/   50] | d_loss: 0.2685 | g_loss: 1.9581\n",
            "Epoch [   26/   50] | d_loss: 0.1267 | g_loss: 4.0559\n",
            "Epoch [   26/   50] | d_loss: 0.2223 | g_loss: 2.7138\n",
            "Epoch [   26/   50] | d_loss: 0.1484 | g_loss: 3.1294\n",
            "Epoch [   26/   50] | d_loss: 0.1332 | g_loss: 2.6704\n",
            "Epoch [   26/   50] | d_loss: 0.1716 | g_loss: 3.6476\n",
            "Epoch [   27/   50] | d_loss: 0.2324 | g_loss: 3.3222\n",
            "Epoch [   27/   50] | d_loss: 0.2607 | g_loss: 2.4952\n",
            "Epoch [   27/   50] | d_loss: 0.1129 | g_loss: 3.4297\n",
            "Epoch [   27/   50] | d_loss: 0.1522 | g_loss: 3.7026\n",
            "Epoch [   27/   50] | d_loss: 0.0890 | g_loss: 4.3498\n",
            "Epoch [   27/   50] | d_loss: 0.1388 | g_loss: 3.4520\n",
            "Epoch [   28/   50] | d_loss: 0.1736 | g_loss: 3.4655\n",
            "Epoch [   28/   50] | d_loss: 0.3589 | g_loss: 3.5591\n",
            "Epoch [   28/   50] | d_loss: 0.2028 | g_loss: 3.7718\n",
            "Epoch [   28/   50] | d_loss: 0.1850 | g_loss: 3.1581\n",
            "Epoch [   28/   50] | d_loss: 0.2653 | g_loss: 2.8201\n",
            "Epoch [   28/   50] | d_loss: 0.3031 | g_loss: 3.8616\n",
            "Epoch [   29/   50] | d_loss: 0.2065 | g_loss: 3.0760\n",
            "Epoch [   29/   50] | d_loss: 0.1061 | g_loss: 2.9168\n",
            "Epoch [   29/   50] | d_loss: 0.1334 | g_loss: 3.5207\n",
            "Epoch [   29/   50] | d_loss: 0.1194 | g_loss: 2.9405\n",
            "Epoch [   29/   50] | d_loss: 0.3697 | g_loss: 2.9879\n",
            "Epoch [   29/   50] | d_loss: 0.0994 | g_loss: 3.4815\n",
            "Epoch [   30/   50] | d_loss: 1.6674 | g_loss: 5.4205\n",
            "Epoch [   30/   50] | d_loss: 0.1802 | g_loss: 3.3892\n",
            "Epoch [   30/   50] | d_loss: 0.1538 | g_loss: 2.8654\n",
            "Epoch [   30/   50] | d_loss: 0.1349 | g_loss: 3.6078\n",
            "Epoch [   30/   50] | d_loss: 0.1769 | g_loss: 3.1530\n",
            "Epoch [   30/   50] | d_loss: 0.1479 | g_loss: 3.6857\n",
            "Epoch [   31/   50] | d_loss: 0.1218 | g_loss: 3.9188\n",
            "Epoch [   31/   50] | d_loss: 0.1279 | g_loss: 3.7558\n",
            "Epoch [   31/   50] | d_loss: 1.2294 | g_loss: 4.1306\n",
            "Epoch [   31/   50] | d_loss: 0.2685 | g_loss: 2.2884\n",
            "Epoch [   31/   50] | d_loss: 0.0815 | g_loss: 3.3344\n",
            "Epoch [   31/   50] | d_loss: 0.1238 | g_loss: 4.1093\n",
            "Epoch [   32/   50] | d_loss: 0.1644 | g_loss: 4.4574\n",
            "Epoch [   32/   50] | d_loss: 0.1887 | g_loss: 2.9829\n",
            "Epoch [   32/   50] | d_loss: 0.2981 | g_loss: 1.5535\n",
            "Epoch [   32/   50] | d_loss: 0.2916 | g_loss: 2.3899\n",
            "Epoch [   32/   50] | d_loss: 0.1696 | g_loss: 3.9535\n",
            "Epoch [   32/   50] | d_loss: 0.0765 | g_loss: 3.6335\n",
            "Epoch [   33/   50] | d_loss: 1.7797 | g_loss: 5.8283\n",
            "Epoch [   33/   50] | d_loss: 0.2087 | g_loss: 2.8925\n",
            "Epoch [   33/   50] | d_loss: 0.0967 | g_loss: 4.5922\n",
            "Epoch [   33/   50] | d_loss: 0.2920 | g_loss: 2.3331\n",
            "Epoch [   33/   50] | d_loss: 0.1479 | g_loss: 2.5541\n",
            "Epoch [   33/   50] | d_loss: 0.1429 | g_loss: 3.1739\n",
            "Epoch [   34/   50] | d_loss: 0.1153 | g_loss: 3.6332\n",
            "Epoch [   34/   50] | d_loss: 0.0944 | g_loss: 3.3820\n",
            "Epoch [   34/   50] | d_loss: 0.1625 | g_loss: 2.8798\n",
            "Epoch [   34/   50] | d_loss: 0.1264 | g_loss: 2.9545\n",
            "Epoch [   34/   50] | d_loss: 0.1032 | g_loss: 3.3588\n",
            "Epoch [   34/   50] | d_loss: 0.0619 | g_loss: 5.1006\n",
            "Epoch [   35/   50] | d_loss: 0.0778 | g_loss: 3.5019\n",
            "Epoch [   35/   50] | d_loss: 0.1020 | g_loss: 3.7242\n",
            "Epoch [   35/   50] | d_loss: 0.0863 | g_loss: 4.4591\n",
            "Epoch [   35/   50] | d_loss: 0.0984 | g_loss: 3.6479\n",
            "Epoch [   35/   50] | d_loss: 0.3645 | g_loss: 4.3692\n",
            "Epoch [   35/   50] | d_loss: 0.2230 | g_loss: 2.9946\n",
            "Epoch [   36/   50] | d_loss: 0.1814 | g_loss: 4.0514\n",
            "Epoch [   36/   50] | d_loss: 0.0870 | g_loss: 3.2553\n",
            "Epoch [   36/   50] | d_loss: 0.0719 | g_loss: 4.5502\n",
            "Epoch [   36/   50] | d_loss: 0.1385 | g_loss: 4.9725\n",
            "Epoch [   36/   50] | d_loss: 0.2018 | g_loss: 3.5096\n",
            "Epoch [   36/   50] | d_loss: 0.3215 | g_loss: 2.5523\n",
            "Epoch [   37/   50] | d_loss: 0.1635 | g_loss: 2.9458\n",
            "Epoch [   37/   50] | d_loss: 0.1530 | g_loss: 3.6525\n",
            "Epoch [   37/   50] | d_loss: 0.0607 | g_loss: 3.6749\n",
            "Epoch [   37/   50] | d_loss: 0.0727 | g_loss: 4.5393\n",
            "Epoch [   37/   50] | d_loss: 0.1082 | g_loss: 3.3719\n",
            "Epoch [   37/   50] | d_loss: 0.0874 | g_loss: 4.6156\n",
            "Epoch [   38/   50] | d_loss: 0.1061 | g_loss: 2.9970\n",
            "Epoch [   38/   50] | d_loss: 0.1560 | g_loss: 4.4595\n",
            "Epoch [   38/   50] | d_loss: 0.0935 | g_loss: 4.2121\n",
            "Epoch [   38/   50] | d_loss: 0.1819 | g_loss: 2.6284\n",
            "Epoch [   38/   50] | d_loss: 0.1023 | g_loss: 3.2316\n",
            "Epoch [   38/   50] | d_loss: 0.0704 | g_loss: 4.1044\n",
            "Epoch [   39/   50] | d_loss: 0.0754 | g_loss: 3.6655\n",
            "Epoch [   39/   50] | d_loss: 0.0747 | g_loss: 4.2252\n",
            "Epoch [   39/   50] | d_loss: 0.0902 | g_loss: 3.5813\n",
            "Epoch [   39/   50] | d_loss: 2.0667 | g_loss: 0.1221\n",
            "Epoch [   39/   50] | d_loss: 0.2052 | g_loss: 2.4642\n",
            "Epoch [   39/   50] | d_loss: 0.0638 | g_loss: 4.4621\n",
            "Epoch [   40/   50] | d_loss: 0.0972 | g_loss: 3.4836\n",
            "Epoch [   40/   50] | d_loss: 0.1403 | g_loss: 3.7554\n",
            "Epoch [   40/   50] | d_loss: 0.0660 | g_loss: 4.1870\n",
            "Epoch [   40/   50] | d_loss: 0.0880 | g_loss: 4.3907\n",
            "Epoch [   40/   50] | d_loss: 0.1164 | g_loss: 4.1096\n",
            "Epoch [   40/   50] | d_loss: 0.2986 | g_loss: 3.2683\n",
            "Epoch [   41/   50] | d_loss: 0.2122 | g_loss: 4.1325\n",
            "Epoch [   41/   50] | d_loss: 0.1565 | g_loss: 3.6786\n",
            "Epoch [   41/   50] | d_loss: 0.1075 | g_loss: 3.6543\n",
            "Epoch [   41/   50] | d_loss: 0.0940 | g_loss: 5.1546\n",
            "Epoch [   41/   50] | d_loss: 1.0779 | g_loss: 2.5708\n",
            "Epoch [   41/   50] | d_loss: 0.0666 | g_loss: 3.7592\n",
            "Epoch [   42/   50] | d_loss: 0.0734 | g_loss: 3.7193\n",
            "Epoch [   42/   50] | d_loss: 0.1309 | g_loss: 3.5645\n",
            "Epoch [   42/   50] | d_loss: 0.0915 | g_loss: 4.3518\n",
            "Epoch [   42/   50] | d_loss: 0.0986 | g_loss: 4.1008\n",
            "Epoch [   42/   50] | d_loss: 0.0948 | g_loss: 4.9968\n",
            "Epoch [   42/   50] | d_loss: 0.0853 | g_loss: 4.3989\n",
            "Epoch [   43/   50] | d_loss: 0.0904 | g_loss: 3.7562\n",
            "Epoch [   43/   50] | d_loss: 0.0530 | g_loss: 3.7169\n",
            "Epoch [   43/   50] | d_loss: 0.0838 | g_loss: 4.2848\n",
            "Epoch [   43/   50] | d_loss: 0.1311 | g_loss: 3.1430\n",
            "Epoch [   43/   50] | d_loss: 0.0921 | g_loss: 3.9287\n",
            "Epoch [   43/   50] | d_loss: 0.0966 | g_loss: 3.8560\n",
            "Epoch [   44/   50] | d_loss: 0.1098 | g_loss: 3.7822\n",
            "Epoch [   44/   50] | d_loss: 0.1183 | g_loss: 4.3212\n",
            "Epoch [   44/   50] | d_loss: 0.0768 | g_loss: 4.2825\n",
            "Epoch [   44/   50] | d_loss: 0.0453 | g_loss: 4.6825\n",
            "Epoch [   44/   50] | d_loss: 0.0427 | g_loss: 4.9994\n",
            "Epoch [   44/   50] | d_loss: 0.1407 | g_loss: 5.4325\n",
            "Epoch [   45/   50] | d_loss: 0.1648 | g_loss: 3.6686\n",
            "Epoch [   45/   50] | d_loss: 0.0651 | g_loss: 3.7488\n",
            "Epoch [   45/   50] | d_loss: 0.0824 | g_loss: 3.8550\n",
            "Epoch [   45/   50] | d_loss: 0.0747 | g_loss: 4.2161\n",
            "Epoch [   45/   50] | d_loss: 0.1007 | g_loss: 4.2108\n",
            "Epoch [   45/   50] | d_loss: 0.0526 | g_loss: 3.4299\n",
            "Epoch [   46/   50] | d_loss: 0.1751 | g_loss: 5.3968\n",
            "Epoch [   46/   50] | d_loss: 0.4508 | g_loss: 4.6205\n",
            "Epoch [   46/   50] | d_loss: 0.1322 | g_loss: 4.3615\n",
            "Epoch [   46/   50] | d_loss: 0.0925 | g_loss: 4.2210\n",
            "Epoch [   46/   50] | d_loss: 0.0813 | g_loss: 4.7945\n",
            "Epoch [   46/   50] | d_loss: 0.1116 | g_loss: 4.1619\n",
            "Epoch [   47/   50] | d_loss: 0.7143 | g_loss: 4.9570\n",
            "Epoch [   47/   50] | d_loss: 0.0406 | g_loss: 5.0757\n",
            "Epoch [   47/   50] | d_loss: 0.1151 | g_loss: 4.9697\n",
            "Epoch [   47/   50] | d_loss: 0.1737 | g_loss: 4.5866\n",
            "Epoch [   47/   50] | d_loss: 0.0954 | g_loss: 4.2611\n",
            "Epoch [   47/   50] | d_loss: 0.3090 | g_loss: 4.2940\n",
            "Epoch [   48/   50] | d_loss: 0.0251 | g_loss: 4.6686\n",
            "Epoch [   48/   50] | d_loss: 0.0766 | g_loss: 4.7155\n",
            "Epoch [   48/   50] | d_loss: 0.2090 | g_loss: 1.6730\n",
            "Epoch [   48/   50] | d_loss: 0.1836 | g_loss: 4.1985\n",
            "Epoch [   48/   50] | d_loss: 0.0848 | g_loss: 4.7185\n",
            "Epoch [   48/   50] | d_loss: 0.1096 | g_loss: 4.4590\n",
            "Epoch [   49/   50] | d_loss: 0.0772 | g_loss: 3.3987\n",
            "Epoch [   49/   50] | d_loss: 0.0846 | g_loss: 4.7589\n",
            "Epoch [   49/   50] | d_loss: 0.0766 | g_loss: 4.0100\n",
            "Epoch [   49/   50] | d_loss: 0.0741 | g_loss: 3.9760\n",
            "Epoch [   49/   50] | d_loss: 0.0363 | g_loss: 4.3203\n",
            "Epoch [   49/   50] | d_loss: 1.2531 | g_loss: 2.0429\n",
            "Epoch [   50/   50] | d_loss: 0.1348 | g_loss: 3.8925\n",
            "Epoch [   50/   50] | d_loss: 0.1416 | g_loss: 3.9913\n",
            "Epoch [   50/   50] | d_loss: 0.0717 | g_loss: 4.3266\n",
            "Epoch [   50/   50] | d_loss: 0.0376 | g_loss: 4.6254\n",
            "Epoch [   50/   50] | d_loss: 0.0657 | g_loss: 4.7296\n",
            "Epoch [   50/   50] | d_loss: 0.0839 | g_loss: 4.6981\n"
          ],
          "name": "stdout"
        }
      ]
    },
    {
      "cell_type": "markdown",
      "metadata": {
        "id": "4_q1v-6oMLIe",
        "colab_type": "text"
      },
      "source": [
        "### Training Loss Visualization\n",
        "\n",
        "Here I am ploting the training losses for the generator and discriminator per epochs"
      ]
    },
    {
      "cell_type": "code",
      "metadata": {
        "id": "4KLtarqeK9gb",
        "colab_type": "code",
        "colab": {
          "base_uri": "https://localhost:8080/",
          "height": 297
        },
        "outputId": "ea2bbb68-2645-4b89-a48e-b307e864a78e"
      },
      "source": [
        "fig, ax = plt.subplots()\n",
        "losses = np.array(losses)\n",
        "plt.plot(losses.T[0], label='Discriminator', alpha=0.5)\n",
        "plt.plot(losses.T[1], label='Generator', alpha=0.5)\n",
        "plt.title(\"Training Losses\")\n",
        "plt.legend()"
      ],
      "execution_count": 17,
      "outputs": [
        {
          "output_type": "execute_result",
          "data": {
            "text/plain": [
              "<matplotlib.legend.Legend at 0x7f0d0491ccf8>"
            ]
          },
          "metadata": {
            "tags": []
          },
          "execution_count": 17
        },
        {
          "output_type": "display_data",
          "data": {
            "image/png": "[encoded data removed]",
            "text/plain": [
              "<Figure size 432x288 with 1 Axes>"
            ]
          },
          "metadata": {
            "tags": [],
            "needs_background": "light"
          }
        }
      ]
    },
    {
      "cell_type": "markdown",
      "metadata": {
        "id": "YY_djfHFTlo6",
        "colab_type": "text"
      },
      "source": [
        "### **Observation**: \n",
        "Here, discriminator is powerful and generator is not that much accurate until now, but there are some spike which gives good result, so early stoping is possible. But, on most of good generator result spikes, the discriminator also have problem with individual accuracy. So, we need more deeper network. **Still just for now, let's generate samples ...** "
      ]
    },
    {
      "cell_type": "markdown",
      "metadata": {
        "id": "LPhZ6zChMldi",
        "colab_type": "text"
      },
      "source": [
        "## Generate Samples\n",
        "\n",
        "We have samples in pikle form so, let's generate some samples using Generator. The accuracy of Samples totally depends on the Generator training algorithm's accuracy, and Discriminator classifier's ability to distiguish the real and fake images.  "
      ]
    },
    {
      "cell_type": "code",
      "metadata": {
        "id": "ZAvCTG-oMhiE",
        "colab_type": "code",
        "colab": {}
      },
      "source": [
        "def view_samples(epoch, samples):\n",
        "    fig, axes = plt.subplots(figsize=(20,8), nrows=2, ncols=8, sharey=True, sharex=True)\n",
        "    for ax, img in zip(axes.flatten(), samples[epoch]):\n",
        "        img = img.detach().cpu().numpy()\n",
        "        img = np.transpose(img, (1, 2, 0))\n",
        "        img = ((img +1)*255 / (2)).astype(np.uint8) # rescale to pixel range (0-255)\n",
        "        ax.xaxis.set_visible(False)\n",
        "        ax.yaxis.set_visible(False)\n",
        "        im = ax.imshow(img.reshape((32,32,3)))"
      ],
      "execution_count": 19,
      "outputs": []
    },
    {
      "cell_type": "code",
      "metadata": {
        "id": "IqVcVvVLSJZ0",
        "colab_type": "code",
        "colab": {
          "base_uri": "https://localhost:8080/",
          "height": 390
        },
        "outputId": "d0737afb-3527-4636-c0de-ba22d6760d98"
      },
      "source": [
        "result = view_samples(-1, samples)"
      ],
      "execution_count": 20,
      "outputs": [
        {
          "output_type": "display_data",
          "data": {
            "image/png": "[encoded data removed]",
            "text/plain": [
              "<Figure size 1440x576 with 16 Axes>"
            ]
          },
          "metadata": {
            "tags": [],
            "needs_background": "light"
          }
        }
      ]
    },
    {
      "cell_type": "markdown",
      "metadata": {
        "id": "pOMEzPuQNV8d",
        "colab_type": "text"
      },
      "source": [
        "## **Conclusion**:\n",
        "\n",
        "Here, we can see that new generated images are quiet blur and its due to the model's accuracy. Because, the Discriminator are very helpful to regognize the fake image, but generator is not that much powerful. So, we have following solutions:\n",
        "1. Train for more epochs\n",
        "2. Use more deeper Network\n",
        "3. Tune hyper parameteres \n",
        "\n",
        "Moreover, the Paper suggest to use powerful network with 1024 initialization to 1. Such computation need more time and computation power. So, I will do it later with another gpu time. Currently I am using colab general version. Thank you for connect with me. \n",
        "\n",
        "Have a nice coding!"
      ]
    },
    {
      "cell_type": "code",
      "metadata": {
        "id": "84Tip6quNVQQ",
        "colab_type": "code",
        "colab": {}
      },
      "source": [
        "# Keep Learning, Enjoy Empowering. "
      ],
      "execution_count": null,
      "outputs": []
    },
    {
      "cell_type": "code",
      "metadata": {
        "id": "WJ4ijamONdog",
        "colab_type": "code",
        "colab": {}
      },
      "source": [
        ""
      ],
      "execution_count": null,
      "outputs": []
    }
  ]
}