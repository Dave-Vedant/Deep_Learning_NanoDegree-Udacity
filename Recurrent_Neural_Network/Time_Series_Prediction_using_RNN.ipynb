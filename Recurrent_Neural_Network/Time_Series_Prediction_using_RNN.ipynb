{
  "nbformat": 4,
  "nbformat_minor": 0,
  "metadata": {
    "colab": {
      "name": "Time-Series Prediction using RNN.ipynb",
      "provenance": [],
      "authorship_tag": "ABX9TyMxu9PJGN8dkU9CFaX+7Axr",
      "include_colab_link": true
    },
    "kernelspec": {
      "name": "python3",
      "display_name": "Python 3"
    }
  },
  "cells": [
    {
      "cell_type": "markdown",
      "metadata": {
        "id": "view-in-github",
        "colab_type": "text"
      },
      "source": [
        "<a href=\"https://colab.research.google.com/github/vedantdave77/project.Orca/blob/master/Time_Series_Prediction_using_RNN.ipynb\" target=\"_parent\"><img src=\"https://colab.research.google.com/assets/colab-badge.svg\" alt=\"Open In Colab\"/></a>"
      ]
    },
    {
      "cell_type": "markdown",
      "metadata": {
        "id": "IiihqhEcbkQi",
        "colab_type": "text"
      },
      "source": [
        "**[Vedant Dave](https://vedantdave117.com/)** | *vedantdave77@gmail.com*"
      ]
    },
    {
      "cell_type": "markdown",
      "metadata": {
        "id": "xOO8HWM4bkTp",
        "colab_type": "text"
      },
      "source": [
        "### Primary Goal : \n",
        "My Primary goal is to understand RNN by practice. So, I will try to generate some data and then apply RNN, to get prediction about the future data using time-series Prediction."
      ]
    },
    {
      "cell_type": "markdown",
      "metadata": {
        "id": "kjdVvvKSbkYu",
        "colab_type": "text"
      },
      "source": [
        "### Import Libraries.\n"
      ]
    },
    {
      "cell_type": "code",
      "metadata": {
        "id": "Ax5mErg9bzgx",
        "colab_type": "code",
        "colab": {}
      },
      "source": [
        "import torch\n",
        "from torch import nn\n",
        "import numpy as np\n",
        "import matplotlib.pyplot as plt\n",
        "%matplotlib inline"
      ],
      "execution_count": 75,
      "outputs": []
    },
    {
      "cell_type": "code",
      "metadata": {
        "id": "0gGs9kbWb3Pz",
        "colab_type": "code",
        "colab": {
          "base_uri": "https://localhost:8080/",
          "height": 374
        },
        "outputId": "454e96d2-ae66-492c-8360-daeeac654e0e"
      },
      "source": [
        "plt.figure(figsize=(8,6))\n",
        "\n",
        "# No of points for batch data\n",
        "seq_length = 30\n",
        "\n",
        "# generate data points with equal space\n",
        "time_steps = np.linspace(0,np.pi, seq_length +1)  # 31 data point contains 30 time steps.\n",
        "data = np.sin(time_steps)\n",
        "data.resize((seq_length +1,1)) # size becomes (seq_length,1) \n",
        "\n",
        "# seperate data for use (two steped input)\n",
        "x = data[:-1]  # except last data-point        # 30 datapoint for x\n",
        "y = data[1:]   # except first data-point       # 30 datapoint for y\n",
        "\n",
        "# display data\n",
        "plt.plot(time_steps[1:],x,'r*',label = 'input, x')\n",
        "plt.plot(time_steps[1:],y,'b+',label = 'target,y')\n",
        "plt.legend(loc = 'best')\n",
        "plt.show()"
      ],
      "execution_count": 76,
      "outputs": [
        {
          "output_type": "display_data",
          "data": {
            "image/png": "[encoded data removed]",
            "text/plain": [
              "<Figure size 576x432 with 1 Axes>"
            ]
          },
          "metadata": {
            "tags": [],
            "needs_background": "light"
          }
        }
      ]
    },
    {
      "cell_type": "markdown",
      "metadata": {
        "id": "3nm4KPsBgFsv",
        "colab_type": "text"
      },
      "source": [
        "### RNN Architecture\n",
        "Here, I am using PyTorch and from documentation we can see theat it takes some parameters as input and they are:\n",
        "- input_size – The number of expected features in the input x\n",
        "\n",
        "- hidden_size – The number of features in the hidden state h\n",
        "\n",
        "- num_layers – Number of recurrent layers. E.g., setting num_layers=2 would mean stacking two RNNs together to form a stacked RNN, with the second RNN taking in outputs of the first RNN and computing the final results. Default: 1\n",
        "\n",
        "- nonlinearity – The non-linearity to use. Can be either 'tanh' or 'relu'. Default: 'tanh'\n",
        "\n",
        "- bias – If False, then the layer does not use bias weights b_ih and b_hh. Default: True\n",
        "\n",
        "- batch_first – If True, then the input and output tensors are provided as (batch, seq, feature). Default: False\n",
        "\n",
        "- dropout – If non-zero, introduces a Dropout layer on the outputs of each RNN layer except the last layer, with dropout probability equal to dropout. Default: 0\n",
        "\n",
        "- bidirectional – If True, becomes a bidirectional RNN. Default: False"
      ]
    },
    {
      "cell_type": "code",
      "metadata": {
        "id": "Q9cAK8bJeQ18",
        "colab_type": "code",
        "colab": {}
      },
      "source": [
        "# generate architecute\n",
        "class RNN(nn.Module):\n",
        "  def __init__(self, input_size, output_size, hidden_dim, n_layers): # do not use default para now.\n",
        "    super(RNN, self).__init__()\n",
        "    \n",
        "    # generate parameter values.\n",
        "    self.hidden_dim = hidden_dim\n",
        "    self.rnn = nn.RNN(input_size, hidden_dim, n_layers, batch_first = True) # here, I use batch_first = True, means.. i/p and o/p will be the batch_size.\n",
        "    self.fc = nn.Linear(hidden_dim, output_size) # fully connected layer, with linear seperation\n",
        "\n",
        "  def forward(self,x, hidden):\n",
        "    batch_size = x.size(0) \n",
        "    # rnn output\n",
        "    r_out, hidden = self.rnn(x,hidden)     # take batch_size arg. automatically...\n",
        "    r_out = r_out.view(-1,self.hidden_dim)\n",
        "    output = self.fc(r_out)\n",
        "    return output, hidden\n",
        "  "
      ],
      "execution_count": 85,
      "outputs": []
    },
    {
      "cell_type": "markdown",
      "metadata": {
        "id": "RLWwZqPam5b6",
        "colab_type": "text"
      },
      "source": [
        "### Sample test: \n",
        "To varify network architecture before training"
      ]
    },
    {
      "cell_type": "code",
      "metadata": {
        "id": "IBdzypYZmRwF",
        "colab_type": "code",
        "colab": {
          "base_uri": "https://localhost:8080/",
          "height": 68
        },
        "outputId": "9627f3f0-dae5-4bbb-c004-ffc975434bb0"
      },
      "source": [
        "test_rnn = RNN(input_size=1, output_size=1, hidden_dim= 10, n_layers= 2)\n",
        "\n",
        "# generate random data\n",
        "time_steps = np.linspace(0,np.pi,seq_length)\n",
        "data = np.sin(time_steps)\n",
        "data.resize((seq_length,1))\n",
        "\n",
        "# test input size\n",
        "test_input = torch.Tensor(data).unsqueeze(0)\n",
        "print('Input size: ',test_input.size())\n",
        "\n",
        "# test rnn size\n",
        "test_out, test_hid = test_rnn(test_input, None) # initial hidden state is None. \n",
        "print('Hidden state size: ' , test_hid.size())\n",
        "print('Output size: ' , test_out.size())"
      ],
      "execution_count": 86,
      "outputs": [
        {
          "output_type": "stream",
          "text": [
            "Input size:  torch.Size([1, 30, 1])\n",
            "Hidden state size:  torch.Size([2, 1, 10])\n",
            "Output size:  torch.Size([30, 1])\n"
          ],
          "name": "stdout"
        }
      ]
    },
    {
      "cell_type": "markdown",
      "metadata": {
        "id": "wbtfOIxHpyaD",
        "colab_type": "text"
      },
      "source": [
        "- Input size = (batch, sequnce, features) because of batch_first = True\n",
        "- Hidden size = (n_layers, batch_size, hidden_dim)\n",
        "- Output size = (batch_size*seq_length,output_dim)\n",
        " \n"
      ]
    },
    {
      "cell_type": "markdown",
      "metadata": {
        "id": "d-C7i2YFomYG",
        "colab_type": "text"
      },
      "source": [
        "### Training the RNN\n"
      ]
    },
    {
      "cell_type": "code",
      "metadata": {
        "id": "xZ_wWSKCoUhy",
        "colab_type": "code",
        "colab": {
          "base_uri": "https://localhost:8080/",
          "height": 85
        },
        "outputId": "6cf7dbae-44f0-4bce-dc10-b3210376cbf2"
      },
      "source": [
        "# decide on hyperparameters\n",
        "input_size=1 \n",
        "output_size=1\n",
        "hidden_dim=32\n",
        "n_layers=1\n",
        "\n",
        "# instantiate an RNN\n",
        "rnn = RNN(input_size, output_size, hidden_dim, n_layers)\n",
        "print(rnn)"
      ],
      "execution_count": 87,
      "outputs": [
        {
          "output_type": "stream",
          "text": [
            "RNN(\n",
            "  (rnn): RNN(1, 32, batch_first=True)\n",
            "  (fc): Linear(in_features=32, out_features=1, bias=True)\n",
            ")\n"
          ],
          "name": "stdout"
        }
      ]
    },
    {
      "cell_type": "markdown",
      "metadata": {
        "id": "WBBqeRu9q75k",
        "colab_type": "text"
      },
      "source": [
        "### Loss and Optimization\n",
        "\n",
        "This is a regression problem: can we train an RNN to accurately predict the next data point, given a current data point?\n",
        "\n",
        ">* The data points are coordinate values, so to compare a predicted and ground_truth point, we'll use a regression loss: the mean squared error.\n",
        "* It's typical to use an Adam optimizer for recurrent models."
      ]
    },
    {
      "cell_type": "code",
      "metadata": {
        "id": "OYIO7hoboyM0",
        "colab_type": "code",
        "colab": {}
      },
      "source": [
        "# MSE loss and Adam optimizer with a learning rate of 0.01\n",
        "criterion = nn.MSELoss()\n",
        "optimizer = torch.optim.Adam(rnn.parameters(), lr=0.01) "
      ],
      "execution_count": 88,
      "outputs": []
    },
    {
      "cell_type": "markdown",
      "metadata": {
        "id": "c3J9di4rrJFk",
        "colab_type": "text"
      },
      "source": [
        "### Training Function:\n",
        "This function will takes each required parameters as defined above, and return us trained rnn. I also include loss and optimizer in algorithm. \n",
        "\n",
        "#### Importannt:\n",
        "In starting our hidden state will be zero, but after time step, we need to use the generated hidden state as next hidden state. So, I will detach the hidden data and reuse it iteratively. \n"
      ]
    },
    {
      "cell_type": "code",
      "metadata": {
        "id": "KcWNHSHyrHJu",
        "colab_type": "code",
        "colab": {}
      },
      "source": [
        "# Training of RNN\n",
        "def train(rnn, n_steps, print_every):\n",
        "  hidden = None                      # initial hidden state\n",
        "  for batch_i, step in enumerate(range(n_steps)):\n",
        "    # ==========================================================================\n",
        "    ### DATA ###\n",
        "    # generate data \n",
        "    time_steps = np.linspace(step * np.pi, (step+1) *np.pi, seq_length +1)\n",
        "    data = np.sin(time_steps)\n",
        "    data.resize((seq_length+1,1))      # input_size = 1\n",
        "\n",
        "    # define data\n",
        "    x = data[:-1]\n",
        "    y = data[1:]\n",
        "\n",
        "    # convert data to tnesor\n",
        "    x_tensor = torch.Tensor(x).unsqueeze(0) # unsqueeze gives a 1, batch_size dimension\n",
        "    y_tensor = torch.Tensor(y)\n",
        "\n",
        "    # ==========================================================================\n",
        "    ### FLOW OF RNN ###\n",
        "    #output from rnn\n",
        "    prediction, hidden = rnn(x_tensor,hidden)\n",
        "\n",
        "    # detach hidden state from algorithm, so we do not need to consider it for back propogation\n",
        "    hidden = hidden.data\n",
        "\n",
        "    #calculating loss\n",
        "    loss = criterion(prediction,y_tensor)\n",
        "    # zero gradients\n",
        "    optimizer.zero_grad()\n",
        "\n",
        "    # perform backprop and update weights\n",
        "    loss.backward()\n",
        "    optimizer.step()\n",
        "\n",
        "\n",
        "    # ==========================================================================\n",
        "    ### VISUALIZATION ###\n",
        "    # display loss and prediction for analysis purpose\n",
        "    if batch_i % print_every == 0:\n",
        "      print('Loss: ',loss.item())\n",
        "      plt.plot(time_steps[1:], x, 'r+', label= 'Input')\n",
        "      plt.plot(time_steps[1:],prediction.data.numpy().flatten(),'g*',label = \"Prediction\")\n",
        "      plt.legend(loc = 'best')\n",
        "      plt.show()\n",
        "      print(\"<<--------NEXT----------->>\")\n",
        "  return rnn"
      ],
      "execution_count": 89,
      "outputs": []
    },
    {
      "cell_type": "markdown",
      "metadata": {
        "id": "fAK-pLRS3HwN",
        "colab_type": "text"
      },
      "source": [
        "# Prediction (Time-Series)\n",
        "Time-series prediction can be applied to many tasks. Think about weather forecasting or predicting the ebb and flow of stock market prices. we can even try to generate predictions much further in the future than just one time step!\n"
      ]
    },
    {
      "cell_type": "code",
      "metadata": {
        "id": "JI_a9iYJyftu",
        "colab_type": "code",
        "colab": {
          "base_uri": "https://localhost:8080/",
          "height": 1000
        },
        "outputId": "04a143e5-16f0-4c02-c759-3f027a308f30"
      },
      "source": [
        "# train rnn and monitor result\n",
        "n_steps = 75\n",
        "print_every = 15\n",
        "\n",
        "trained_rnn = train(rnn, n_steps, print_every)"
      ],
      "execution_count": 90,
      "outputs": [
        {
          "output_type": "stream",
          "text": [
            "Loss:  0.49605461955070496\n"
          ],
          "name": "stdout"
        },
        {
          "output_type": "display_data",
          "data": {
            "image/png": "[encoded data removed]",
            "text/plain": [
              "<Figure size 432x288 with 1 Axes>"
            ]
          },
          "metadata": {
            "tags": [],
            "needs_background": "light"
          }
        },
        {
          "output_type": "stream",
          "text": [
            "<<--------NEXT----------->>\n",
            "Loss:  0.039165060967206955\n"
          ],
          "name": "stdout"
        },
        {
          "output_type": "display_data",
          "data": {
            "image/png": "[encoded data removed]",
            "text/plain": [
              "<Figure size 432x288 with 1 Axes>"
            ]
          },
          "metadata": {
            "tags": [],
            "needs_background": "light"
          }
        },
        {
          "output_type": "stream",
          "text": [
            "<<--------NEXT----------->>\n",
            "Loss:  0.00516876857727766\n"
          ],
          "name": "stdout"
        },
        {
          "output_type": "display_data",
          "data": {
            "image/png": "[encoded data removed]",
            "text/plain": [
              "<Figure size 432x288 with 1 Axes>"
            ]
          },
          "metadata": {
            "tags": [],
            "needs_background": "light"
          }
        },
        {
          "output_type": "stream",
          "text": [
            "<<--------NEXT----------->>\n",
            "Loss:  0.002430707449093461\n"
          ],
          "name": "stdout"
        },
        {
          "output_type": "display_data",
          "data": {
            "image/png": "[encoded data removed]",
            "text/plain": [
              "<Figure size 432x288 with 1 Axes>"
            ]
          },
          "metadata": {
            "tags": [],
            "needs_background": "light"
          }
        },
        {
          "output_type": "stream",
          "text": [
            "<<--------NEXT----------->>\n",
            "Loss:  0.0003315472276881337\n"
          ],
          "name": "stdout"
        },
        {
          "output_type": "display_data",
          "data": {
            "image/png": "[encoded data removed]",
            "text/plain": [
              "<Figure size 432x288 with 1 Axes>"
            ]
          },
          "metadata": {
            "tags": [],
            "needs_background": "light"
          }
        },
        {
          "output_type": "stream",
          "text": [
            "<<--------NEXT----------->>\n"
          ],
          "name": "stdout"
        }
      ]
    },
    {
      "cell_type": "code",
      "metadata": {
        "id": "LDa2s_el3iZ4",
        "colab_type": "code",
        "colab": {}
      },
      "source": [
        "# Keep Learning, Enjoy Empowering"
      ],
      "execution_count": null,
      "outputs": []
    }
  ]
}
