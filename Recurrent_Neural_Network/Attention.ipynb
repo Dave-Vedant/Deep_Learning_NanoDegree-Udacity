{
  "nbformat": 4,
  "nbformat_minor": 0,
  "metadata": {
    "colab": {
      "name": "Attention",
      "provenance": [],
      "collapsed_sections": [],
      "authorship_tag": "ABX9TyOiAbqqwXDcxqUjVhroo1WL",
      "include_colab_link": true
    },
    "kernelspec": {
      "name": "python3",
      "display_name": "Python 3"
    }
  },
  "cells": [
    {
      "cell_type": "markdown",
      "metadata": {
        "id": "view-in-github",
        "colab_type": "text"
      },
      "source": [
        "<a href=\"https://colab.research.google.com/github/vedantdave77/project.Orca/blob/master/Recurrent_Neural_Network/Attention.ipynb\" target=\"_parent\"><img src=\"https://colab.research.google.com/assets/colab-badge.svg\" alt=\"Open In Colab\"/></a>"
      ]
    },
    {
      "cell_type": "markdown",
      "metadata": {
        "id": "kwIxmrSmb6ko",
        "colab_type": "text"
      },
      "source": [
        "# Attention Implementatin\n",
        "\n",
        "Here, in this notebook I will implement the attention logic, which I learnt from some research papers, articles and learning videos.  \n",
        "\n",
        "Attention is first introduced in 2014, and its revolution in image based context learning. I will implement scoring methods and context vector calculation in this notebook. \n"
      ]
    },
    {
      "cell_type": "markdown",
      "metadata": {
        "id": "NHbefE_WcdRx",
        "colab_type": "text"
      },
      "source": [
        "## Attending Scoring \n",
        "\n",
        "For attention, I will assume three three hidden state output to measure score formulas. \n",
        "All the hidden nodes are coming from RNN's decoder stage(assumption). \n",
        "\n",
        "\n"
      ]
    },
    {
      "cell_type": "code",
      "metadata": {
        "id": "YRqKcuVyZO6Z",
        "colab_type": "code",
        "colab": {}
      },
      "source": [
        "dec_hidden_state = [10,20,30]                                                   #  HIDDEN STATE [DECODER ]"
      ],
      "execution_count": 1,
      "outputs": []
    },
    {
      "cell_type": "markdown",
      "metadata": {
        "id": "nnUw1K_Uc8zd",
        "colab_type": "text"
      },
      "source": [
        "Let's visualize this vector. \n"
      ]
    },
    {
      "cell_type": "code",
      "metadata": {
        "id": "vKfcxAiLc6vB",
        "colab_type": "code",
        "colab": {
          "base_uri": "https://localhost:8080/",
          "height": 505
        },
        "outputId": "5ec25798-aafe-4315-fa9d-bdeefb1a375b"
      },
      "source": [
        "import numpy as np\n",
        "import matplotlib.pyplot as plt\n",
        "%matplotlib inline\n",
        "import seaborn as sns\n",
        "\n",
        "plt.figure(figsize= (4,8))\n",
        "sns.heatmap(np.transpose(np.matrix(dec_hidden_state)),annot = True, cmap = sns.light_palette(\"blue\", as_cmap = True), linewidths=1)\n"
      ],
      "execution_count": 8,
      "outputs": [
        {
          "output_type": "execute_result",
          "data": {
            "text/plain": [
              "<matplotlib.axes._subplots.AxesSubplot at 0x7fb5e1631160>"
            ]
          },
          "metadata": {
            "tags": []
          },
          "execution_count": 8
        },
        {
          "output_type": "display_data",
          "data": {
            "image/png": "[encoded data removed]",
            "text/plain": [
              "<Figure size 288x576 with 2 Axes>"
            ]
          },
          "metadata": {
            "tags": [],
            "needs_background": "light"
          }
        }
      ]
    },
    {
      "cell_type": "code",
      "metadata": {
        "id": "5w3fcK5lejYX",
        "colab_type": "code",
        "colab": {}
      },
      "source": [
        "annotation = [5,25,15]                                                          # ANNOTATION [ENCODER HIDDEN STATE]"
      ],
      "execution_count": 9,
      "outputs": []
    },
    {
      "cell_type": "code",
      "metadata": {
        "id": "rR4_6blteZgO",
        "colab_type": "code",
        "colab": {
          "base_uri": "https://localhost:8080/",
          "height": 505
        },
        "outputId": "0e425d93-1c70-48ec-811a-752f6b85d460"
      },
      "source": [
        "plt.figure(figsize = (4,8))\n",
        "sns.heatmap(np.transpose(np.matrix(annotation)), annot=True, cmap=sns.light_palette('red', as_cmap=True),linewidths=1)"
      ],
      "execution_count": 14,
      "outputs": [
        {
          "output_type": "execute_result",
          "data": {
            "text/plain": [
              "<matplotlib.axes._subplots.AxesSubplot at 0x7fb5e1609a90>"
            ]
          },
          "metadata": {
            "tags": []
          },
          "execution_count": 14
        },
        {
          "output_type": "display_data",
          "data": {
            "image/png": "[encoded data removed]",
            "text/plain": [
              "<Figure size 288x576 with 2 Axes>"
            ]
          },
          "metadata": {
            "tags": [],
            "needs_background": "light"
          }
        }
      ]
    },
    {
      "cell_type": "markdown",
      "metadata": {
        "id": "g5OUndp5fjea",
        "colab_type": "text"
      },
      "source": [
        "## Single Annotation Scores\n",
        "\n"
      ]
    },
    {
      "cell_type": "code",
      "metadata": {
        "id": "hnXlG9QqfAfA",
        "colab_type": "code",
        "colab": {
          "base_uri": "https://localhost:8080/",
          "height": 35
        },
        "outputId": "869f8eca-e110-4a7d-a303-b500f22110d2"
      },
      "source": [
        "def single_dot_attention_score(dec_hidden_state, enc_hidden_state):             #  [ PROCESS BETWEEN: HIDDEN STATE (ENCODER, DECODER)]\n",
        "  return np.dot(dec_hidden_state , enc_hidden_state)\n",
        "\n",
        "single_dot_attention_score(dec_hidden_state,annotation)"
      ],
      "execution_count": 16,
      "outputs": [
        {
          "output_type": "execute_result",
          "data": {
            "text/plain": [
              "1000"
            ]
          },
          "metadata": {
            "tags": []
          },
          "execution_count": 16
        }
      ]
    },
    {
      "cell_type": "markdown",
      "metadata": {
        "id": "IzYHmfBggB0k",
        "colab_type": "text"
      },
      "source": [
        "## Annotation Matrix"
      ]
    },
    {
      "cell_type": "code",
      "metadata": {
        "id": "-qt5kZq5f8JA",
        "colab_type": "code",
        "colab": {
          "base_uri": "https://localhost:8080/",
          "height": 265
        },
        "outputId": "691ffadc-b5cf-4fa0-d34c-4a384fe953f2"
      },
      "source": [
        "annotations = np.transpose([[5,25,15], [59,2,5], [1,43,5], [4,3,45.3]])\n",
        "\n",
        "ax = sns.heatmap(annotations, annot = True, cmap = sns.light_palette('orange', as_cmap=True), linewidths= 1)"
      ],
      "execution_count": 17,
      "outputs": [
        {
          "output_type": "display_data",
          "data": {
            "image/png": "[encoded data removed]",
            "text/plain": [
              "<Figure size 432x288 with 2 Axes>"
            ]
          },
          "metadata": {
            "tags": [],
            "needs_background": "light"
          }
        }
      ]
    },
    {
      "cell_type": "markdown",
      "metadata": {
        "id": "5eg-sy-Kgx5a",
        "colab_type": "text"
      },
      "source": [
        "## Implementing dot notation\n"
      ]
    },
    {
      "cell_type": "code",
      "metadata": {
        "id": "OUpIgxXOgtXW",
        "colab_type": "code",
        "colab": {
          "base_uri": "https://localhost:8080/",
          "height": 35
        },
        "outputId": "0c210ff1-98a6-411d-ef07-32001f5886f2"
      },
      "source": [
        "def dot_attention_score(dec_hidden_state,annotations):                          # MATRIX MULTIPLICATION BETWEEN HIDDEN STATE (ENCODER, DECODER)\n",
        "  return np.matmul(np.transpose(dec_hidden_state),annotations)\n",
        "\n",
        "attention_weights = dot_attention_score(dec_hidden_state,annotations)\n",
        "attention_weights.reshape(4,1)\n",
        "print(attention_weights)"
      ],
      "execution_count": 44,
      "outputs": [
        {
          "output_type": "stream",
          "text": [
            "[1000.  780. 1020. 1459.]\n"
          ],
          "name": "stdout"
        }
      ]
    },
    {
      "cell_type": "markdown",
      "metadata": {
        "id": "03RaKJB8hStj",
        "colab_type": "text"
      },
      "source": [
        "## Applying sortmax"
      ]
    },
    {
      "cell_type": "code",
      "metadata": {
        "id": "Wtk_ruMZhP75",
        "colab_type": "code",
        "colab": {
          "base_uri": "https://localhost:8080/",
          "height": 52
        },
        "outputId": "cf468eaf-c13a-40b6-c495-4e517f68b5cf"
      },
      "source": [
        "def softmax(x):                                                                 # APPLYING SOFTMAX FUNCTION TO GET PROBABILITY\n",
        "  x = np.array(x, dtype = np.float128)\n",
        "  e_x = np.exp(x)\n",
        "  return e_x/e_x.sum(axis = 0)\n",
        "\n",
        "attention_weights = softmax(attention_weights)\n",
        "print(attention_weights.shape)\n",
        "attention_weights\n",
        "attention_weights.reshape(4,1)\n",
        "print(attention_weights.shape)\n"
      ],
      "execution_count": 45,
      "outputs": [
        {
          "output_type": "stream",
          "text": [
            "(4,)\n",
            "(4,)\n"
          ],
          "name": "stdout"
        }
      ]
    },
    {
      "cell_type": "code",
      "metadata": {
        "id": "Qyj1D_Zrhlf7",
        "colab_type": "code",
        "colab": {}
      },
      "source": [
        "ax = sns.heatmap(attention_weights, annot = True, cmap = sns.light_palette('green', as_cmap=True), linewidths= 1)"
      ],
      "execution_count": null,
      "outputs": []
    },
    {
      "cell_type": "code",
      "metadata": {
        "id": "-n2oo1vnhtS-",
        "colab_type": "code",
        "colab": {
          "base_uri": "https://localhost:8080/",
          "height": 124
        },
        "outputId": "c729aae5-23a7-4fe8-e3f2-3fddecfb018f"
      },
      "source": [
        "def apply_attention_score(attention_weights, annotations):                      # APPLY GENERAL PPROCESS : HIDDEN DECODER * WEIGHTS * HIDDEN ENCODER\n",
        "  return attention_weights * annotations\n",
        "\n",
        "applied_attention = apply_attention_score(attention_weights, annotations)\n",
        "applied_attention"
      ],
      "execution_count": 49,
      "outputs": [
        {
          "output_type": "execute_result",
          "data": {
            "text/plain": [
              "array([[2.27930693e-199, 7.67182697e-294, 2.21168078e-191,\n",
              "        4.00000000e+000],\n",
              "       [1.13965346e-198, 2.60061931e-295, 9.51022737e-190,\n",
              "        3.00000000e+000],\n",
              "       [6.83792079e-199, 6.50154828e-295, 1.10584039e-190,\n",
              "        4.53000000e+001]], dtype=float128)"
            ]
          },
          "metadata": {
            "tags": []
          },
          "execution_count": 49
        }
      ]
    },
    {
      "cell_type": "code",
      "metadata": {
        "id": "WQlpQUvKmihJ",
        "colab_type": "code",
        "colab": {
          "base_uri": "https://localhost:8080/",
          "height": 265
        },
        "outputId": "26754b04-1953-4d19-f853-a057d36d7adc"
      },
      "source": [
        "ax = sns.heatmap(applied_attention, annot=True, cmap=sns.light_palette(\"yellow\", as_cmap=True), linewidths=1)"
      ],
      "execution_count": 54,
      "outputs": [
        {
          "output_type": "display_data",
          "data": {
            "image/png": "[encoded data removed]",
            "text/plain": [
              "<Figure size 432x288 with 2 Axes>"
            ]
          },
          "metadata": {
            "tags": [],
            "needs_background": "light"
          }
        }
      ]
    },
    {
      "cell_type": "markdown",
      "metadata": {
        "id": "hr2Bx3dqnOka",
        "colab_type": "text"
      },
      "source": [
        "## Calculating the Attention Context Vector\n",
        "\n"
      ]
    },
    {
      "cell_type": "code",
      "metadata": {
        "id": "DVCr6InSnAVu",
        "colab_type": "code",
        "colab": {
          "base_uri": "https://localhost:8080/",
          "height": 35
        },
        "outputId": "53906741-ba0d-46ee-aa70-421e0b898981"
      },
      "source": [
        "def calculate_attention_vector(applied_attention):                              # ATTENTION CONTEXT VECTOR (== SUM OF ALL ENCODER HIDDEN STATES (STAGES OF HIDDEN STATES))\n",
        "  return np.sum(applied_attention, axis=1)\n",
        "\n",
        "attention_vector = calculate_attention_vector(applied_attention)\n",
        "attention_vector"
      ],
      "execution_count": 55,
      "outputs": [
        {
          "output_type": "execute_result",
          "data": {
            "text/plain": [
              "array([ 4. ,  3. , 45.3], dtype=float128)"
            ]
          },
          "metadata": {
            "tags": []
          },
          "execution_count": 55
        }
      ]
    },
    {
      "cell_type": "code",
      "metadata": {
        "id": "LbdjsXF3ngN7",
        "colab_type": "code",
        "colab": {
          "base_uri": "https://localhost:8080/",
          "height": 286
        },
        "outputId": "21c4b087-76e6-4974-8175-cc7de2968afe"
      },
      "source": [
        "sns.heatmap(np.transpose(np.matrix(attention_vector)), annot=True, cmap=sns.light_palette(\"pink\", as_cmap=True), linewidths= 1)"
      ],
      "execution_count": 58,
      "outputs": [
        {
          "output_type": "execute_result",
          "data": {
            "text/plain": [
              "<matplotlib.axes._subplots.AxesSubplot at 0x7fb5dca6e780>"
            ]
          },
          "metadata": {
            "tags": []
          },
          "execution_count": 58
        },
        {
          "output_type": "display_data",
          "data": {
            "image/png": "[encoded data removed]",
            "text/plain": [
              "<Figure size 432x288 with 2 Axes>"
            ]
          },
          "metadata": {
            "tags": [],
            "needs_background": "light"
          }
        }
      ]
    },
    {
      "cell_type": "markdown",
      "metadata": {
        "id": "Pb1tjhmBnxgq",
        "colab_type": "text"
      },
      "source": [
        "Here, the context vector, we can concatinate it with hidden state and gives the score. Here, score is favouring 2nd stage. So, it will be in intention."
      ]
    },
    {
      "cell_type": "code",
      "metadata": {
        "id": "LkU-sXhgoB1-",
        "colab_type": "code",
        "colab": {}
      },
      "source": [
        ""
      ],
      "execution_count": null,
      "outputs": []
    }
  ]
}