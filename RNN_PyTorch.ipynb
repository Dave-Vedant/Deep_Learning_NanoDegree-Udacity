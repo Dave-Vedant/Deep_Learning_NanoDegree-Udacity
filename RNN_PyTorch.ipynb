{
  "nbformat": 4,
  "nbformat_minor": 0,
  "metadata": {
    "colab": {
      "name": "RNN_PyTorch.ipynb",
      "provenance": [],
      "authorship_tag": "ABX9TyN6kMT0gkuBcWkQFhcq50LU",
      "include_colab_link": true
    },
    "kernelspec": {
      "name": "python3",
      "display_name": "Python 3"
    },
    "accelerator": "GPU"
  },
  "cells": [
    {
      "cell_type": "markdown",
      "metadata": {
        "id": "view-in-github",
        "colab_type": "text"
      },
      "source": [
        "<a href=\"https://colab.research.google.com/github/vedantdave77/Udacity_Nueral_network_pytorch/blob/master/RNN_PyTorch.ipynb\" target=\"_parent\"><img src=\"https://colab.research.google.com/assets/colab-badge.svg\" alt=\"Open In Colab\"/></a>"
      ]
    },
    {
      "cell_type": "code",
      "metadata": {
        "id": "WEmASs209NSX",
        "colab_type": "code",
        "colab": {}
      },
      "source": [
        "import torch\n",
        "from torch import nn\n",
        "import numpy as np\n",
        "import matplotlib.pyplot as plt\n",
        "%matplotlib inline"
      ],
      "execution_count": 0,
      "outputs": []
    },
    {
      "cell_type": "markdown",
      "metadata": {
        "id": "BNVdv5mElh0Z",
        "colab_type": "text"
      },
      "source": [
        ""
      ]
    },
    {
      "cell_type": "markdown",
      "metadata": {
        "id": "-w4Kb2PjLlHl",
        "colab_type": "text"
      },
      "source": [
        "Generate Data"
      ]
    },
    {
      "cell_type": "code",
      "metadata": {
        "id": "-Cun0V8mJE8b",
        "colab_type": "code",
        "colab": {
          "base_uri": "https://localhost:8080/",
          "height": 394
        },
        "outputId": "bea13f60-bddf-4c1e-a24b-cf80f62d0bb4"
      },
      "source": [
        "plt.figure(figsize=(12,6))\n",
        "\n",
        "# how many time step pts are in one batch of data.\n",
        "seq_length =20\n",
        "\n",
        "#genrate evenly spaced data points\n",
        "time_steps = np.linspace(0,np.pi,seq_length +1)\n",
        "data = np.sin(time_steps)\n",
        "data.resize((seq_length +1 ,1)) # size becomes as input dimension\n",
        "\n",
        "x= data[:-1] #last piece of data\n",
        "y = data[1:] # all first column data\n",
        "\n",
        "# Display data \n",
        "plt.plot(time_steps[1:],x, 'r.', label ='input, x')\n",
        "plt.plot(time_steps[1:],y,'b.',label = 'target, y')\n",
        "\n",
        "plt.legend(loc = 'best')\n",
        "plt.show()\n",
        "\n",
        "\n"
      ],
      "execution_count": 2,
      "outputs": [
        {
          "output_type": "display_data",
          "data": {
            "image/png": "[encoded data removed]",
            "text/plain": [
              "<Figure size 864x432 with 1 Axes>"
            ]
          },
          "metadata": {
            "tags": []
          }
        }
      ]
    },
    {
      "cell_type": "markdown",
      "metadata": {
        "id": "29706rXrPKDv",
        "colab_type": "text"
      },
      "source": [
        "Define RNN"
      ]
    },
    {
      "cell_type": "code",
      "metadata": {
        "id": "hyAnjXpjOzaC",
        "colab_type": "code",
        "colab": {}
      },
      "source": [
        "class RNN(nn.Module):\n",
        "    def __init__(self, input_size,output_size,hidden_dim,n_layers):\n",
        "        super(RNN, self).__init__()\n",
        "        self.hidden_dim = hidden_dim\n",
        "        #internally structure rnn for specific parameters\n",
        "        self.rnn = nn.RNN(input_size, hidden_dim, n_layers,batch_first =True)\n",
        "        # last fully connected layers added\n",
        "        self.fc = nn.Linear(hidden_dim, output_size)\n",
        "\n",
        "    def forward(self,x,hidden):\n",
        "        #x (batch_size,seq_length, input_size)\n",
        "        #hidden (n_layers, batch_size, hidden_dim)\n",
        "        # r_out (batch_size, time_stop, hidden_size)\n",
        "        batch_size = x.size(0)\n",
        "\n",
        "        # get RNN outputs\n",
        "        r_out, hidden = self.rnn(x, hidden)\n",
        "        #change shape of output\n",
        "        r_out = r_out.view(-1, self.hidden_dim)\n",
        "\n",
        "        #get final output\n",
        "        output = self.fc(r_out)\n",
        "\n",
        "        return output, hidden\n"
      ],
      "execution_count": 0,
      "outputs": []
    },
    {
      "cell_type": "markdown",
      "metadata": {
        "id": "TO7xGXiDmrix",
        "colab_type": "text"
      },
      "source": [
        "Now check the input and output dimension"
      ]
    },
    {
      "cell_type": "code",
      "metadata": {
        "id": "yRuWlW_aliwj",
        "colab_type": "code",
        "colab": {
          "base_uri": "https://localhost:8080/",
          "height": 88
        },
        "outputId": "926566bc-c841-4023-9467-b695db97722d"
      },
      "source": [
        "# test dimensions \n",
        "test_rnn = RNN(input_size = 1 , output_size = 1, hidden_dim = 10 , n_layers = 2)\n",
        "\n",
        "#generate evely space data again for checking\n",
        "time_steps = np.linspace(0,np.pi, seq_length)\n",
        "data = np.sin(time_steps)\n",
        "data.resize((seq_length, 1))\n",
        "\n",
        "temp_test_input = torch.Tensor(data)\n",
        "print(temp_test_input.size())\n",
        "test_input = torch.Tensor(data).unsqueeze(0)\n",
        "print('Input size: ' , test_input.size()) \n",
        "\n",
        "#test out rnn sizes\n",
        "test_out, test_h = test_rnn(test_input, None)\n",
        "print('output_size:',test_input.size())\n",
        "print('Hidden state size:', test_h.size())\n"
      ],
      "execution_count": 10,
      "outputs": [
        {
          "output_type": "stream",
          "text": [
            "torch.Size([20, 1])\n",
            "Input size:  torch.Size([1, 20, 1])\n",
            "output_size: torch.Size([1, 20, 1])\n",
            "Hidden state size: torch.Size([2, 1, 10])\n"
          ],
          "name": "stdout"
        }
      ]
    },
    {
      "cell_type": "markdown",
      "metadata": {
        "id": "1dkTygzHqbDs",
        "colab_type": "text"
      },
      "source": [
        "Now, lets train RNN with specified hyper parameters"
      ]
    },
    {
      "cell_type": "code",
      "metadata": {
        "id": "o2Cv_IZun7mA",
        "colab_type": "code",
        "colab": {
          "base_uri": "https://localhost:8080/",
          "height": 88
        },
        "outputId": "90e95b58-c6ca-4612-c2e4-545bd62f78fd"
      },
      "source": [
        "# decide new hyper parameters\n",
        "input_size = 1\n",
        "output_size = 1\n",
        "hidden_dim = 32\n",
        "n_layers = 1\n",
        "\n",
        "#use RNN\n",
        "rnn = RNN(input_size,output_size,hidden_dim, n_layers)\n",
        "print(rnn)"
      ],
      "execution_count": 11,
      "outputs": [
        {
          "output_type": "stream",
          "text": [
            "RNN(\n",
            "  (rnn): RNN(1, 32, batch_first=True)\n",
            "  (fc): Linear(in_features=32, out_features=1, bias=True)\n",
            ")\n"
          ],
          "name": "stdout"
        }
      ]
    },
    {
      "cell_type": "markdown",
      "metadata": {
        "id": "YFUeQ0IIrKXw",
        "colab_type": "text"
      },
      "source": [
        "Compute Loss and Optimization "
      ]
    },
    {
      "cell_type": "code",
      "metadata": {
        "id": "awL6_UHGrHs3",
        "colab_type": "code",
        "colab": {}
      },
      "source": [
        "criterion = nn.MSELoss()\n",
        "optimizer = torch.optim.Adam(rnn.parameters(),lr = 0.01)"
      ],
      "execution_count": 0,
      "outputs": []
    },
    {
      "cell_type": "markdown",
      "metadata": {
        "id": "rBtjS86msKcf",
        "colab_type": "text"
      },
      "source": [
        "Define Training of RNN with back propogation.\n",
        "\n"
      ]
    },
    {
      "cell_type": "code",
      "metadata": {
        "id": "FND6GJATrxOe",
        "colab_type": "code",
        "colab": {}
      },
      "source": [
        "# train the RNN\n",
        "def train(rnn, n_steps, print_every):\n",
        "    \n",
        "    # initialize the hidden state\n",
        "    hidden = None     \n",
        "    \n",
        "    for batch_i, step in enumerate(range(n_steps)):\n",
        "        # defining the training data \n",
        "        time_steps = np.linspace(step * np.pi, (step+1)*np.pi, seq_length + 1)\n",
        "        data = np.sin(time_steps)\n",
        "        data.resize((seq_length + 1, 1)) # input_size=1\n",
        "\n",
        "        x = data[:-1]\n",
        "        y = data[1:]\n",
        "        \n",
        "        # convert data into Tensors\n",
        "        x_tensor = torch.Tensor(x).unsqueeze(0) # unsqueeze gives a 1, batch_size dimension\n",
        "        y_tensor = torch.Tensor(y)\n",
        "\n",
        "        # outputs from the rnn\n",
        "        prediction, hidden = rnn(x_tensor, hidden)\n",
        "\n",
        "        ## Representing Memory ##\n",
        "        # make a new variable for hidden and detach the hidden state from its history\n",
        "        # this way, we don't backpropagate through the entire history\n",
        "        hidden = hidden.data\n",
        "\n",
        "        # calculate the loss\n",
        "        loss = criterion(prediction, y_tensor)\n",
        "        # zero gradients\n",
        "        optimizer.zero_grad()\n",
        "        # perform backprop and update weights\n",
        "        loss.backward()\n",
        "        optimizer.step()\n",
        "\n",
        "        # display loss and predictions\n",
        "        if batch_i%print_every == 0:        \n",
        "            print('Loss: ', loss.item())\n",
        "            plt.plot(time_steps[1:], x, 'r.') # input\n",
        "            plt.plot(time_steps[1:], prediction.data.numpy().flatten(), 'b.') # predictions\n",
        "            plt.show()\n",
        "    return rnn"
      ],
      "execution_count": 0,
      "outputs": []
    },
    {
      "cell_type": "code",
      "metadata": {
        "id": "w63obWhpvBIJ",
        "colab_type": "code",
        "colab": {
          "base_uri": "https://localhost:8080/",
          "height": 1000
        },
        "outputId": "6822d427-0d05-46f8-da69-ea39b0c2596a"
      },
      "source": [
        "# train rnn and monitor the result.\n",
        "n_steps = 1000\n",
        "print_every = 100\n",
        "\n",
        "trained_rnn = train(rnn , n_steps, print_every)"
      ],
      "execution_count": 22,
      "outputs": [
        {
          "output_type": "stream",
          "text": [
            "Loss:  0.000570115284062922\n"
          ],
          "name": "stdout"
        },
        {
          "output_type": "display_data",
          "data": {
            "image/png": "[encoded data removed]",
            "text/plain": [
              "<Figure size 432x288 with 1 Axes>"
            ]
          },
          "metadata": {
            "tags": []
          }
        },
        {
          "output_type": "stream",
          "text": [
            "Loss:  2.4117835550896416e-07\n"
          ],
          "name": "stdout"
        },
        {
          "output_type": "display_data",
          "data": {
            "image/png": "[encoded data removed]",
            "text/plain": [
              "<Figure size 432x288 with 1 Axes>"
            ]
          },
          "metadata": {
            "tags": []
          }
        },
        {
          "output_type": "stream",
          "text": [
            "Loss:  2.7642487410162175e-08\n"
          ],
          "name": "stdout"
        },
        {
          "output_type": "display_data",
          "data": {
            "image/png": "[encoded data removed]",
            "text/plain": [
              "<Figure size 432x288 with 1 Axes>"
            ]
          },
          "metadata": {
            "tags": []
          }
        },
        {
          "output_type": "stream",
          "text": [
            "Loss:  2.685731992357887e-08\n"
          ],
          "name": "stdout"
        },
        {
          "output_type": "display_data",
          "data": {
            "image/png": "[encoded data removed]",
            "text/plain": [
              "<Figure size 432x288 with 1 Axes>"
            ]
          },
          "metadata": {
            "tags": []
          }
        },
        {
          "output_type": "stream",
          "text": [
            "Loss:  2.8538384100329495e-08\n"
          ],
          "name": "stdout"
        },
        {
          "output_type": "display_data",
          "data": {
            "image/png": "[encoded data removed]",
            "text/plain": [
              "<Figure size 432x288 with 1 Axes>"
            ]
          },
          "metadata": {
            "tags": []
          }
        },
        {
          "output_type": "stream",
          "text": [
            "Loss:  3.001949622216671e-08\n"
          ],
          "name": "stdout"
        },
        {
          "output_type": "display_data",
          "data": {
            "image/png": "[encoded data removed]",
            "text/plain": [
              "<Figure size 432x288 with 1 Axes>"
            ]
          },
          "metadata": {
            "tags": []
          }
        },
        {
          "output_type": "stream",
          "text": [
            "Loss:  3.1777851461356477e-08\n"
          ],
          "name": "stdout"
        },
        {
          "output_type": "display_data",
          "data": {
            "image/png": "[encoded data removed]",
            "text/plain": [
              "<Figure size 432x288 with 1 Axes>"
            ]
          },
          "metadata": {
            "tags": []
          }
        },
        {
          "output_type": "stream",
          "text": [
            "Loss:  3.39713146502163e-08\n"
          ],
          "name": "stdout"
        },
        {
          "output_type": "display_data",
          "data": {
            "image/png": "[encoded data removed]",
            "text/plain": [
              "<Figure size 432x288 with 1 Axes>"
            ]
          },
          "metadata": {
            "tags": []
          }
        },
        {
          "output_type": "stream",
          "text": [
            "Loss:  3.941918436112246e-08\n"
          ],
          "name": "stdout"
        },
        {
          "output_type": "display_data",
          "data": {
            "image/png": "[encoded data removed]",
            "text/plain": [
              "<Figure size 432x288 with 1 Axes>"
            ]
          },
          "metadata": {
            "tags": []
          }
        },
        {
          "output_type": "stream",
          "text": [
            "Loss:  1.4288515558291692e-05\n"
          ],
          "name": "stdout"
        },
        {
          "output_type": "display_data",
          "data": {
            "image/png": "[encoded data removed]",
            "text/plain": [
              "<Figure size 432x288 with 1 Axes>"
            ]
          },
          "metadata": {
            "tags": []
          }
        }
      ]
    },
    {
      "cell_type": "markdown",
      "metadata": {
        "id": "9JZpaY5y0EFJ",
        "colab_type": "text"
      },
      "source": [
        "Time-Series Prediction.\n",
        "Time-series prediction shows the future value and applied to many tasks as an Example: Weather Forcasting, predicting stock market prices and generate the prediction much further from the time,"
      ]
    },
    {
      "cell_type": "markdown",
      "metadata": {
        "id": "bF_UtvRJ0p1k",
        "colab_type": "text"
      },
      "source": [
        "# Keep Learning, Enjoy Empowering!"
      ]
    }
  ]
}